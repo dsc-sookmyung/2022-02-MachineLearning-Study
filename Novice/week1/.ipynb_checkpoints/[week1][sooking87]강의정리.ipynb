{
 "cells": [
  {
   "cell_type": "code",
   "execution_count": 9,
   "id": "5e29090c",
   "metadata": {},
   "outputs": [],
   "source": [
    "import tensorflow as tf\n"
   ]
  },
  {
   "cell_type": "code",
   "execution_count": 11,
   "id": "93de99b3",
   "metadata": {},
   "outputs": [
    {
     "name": "stdout",
     "output_type": "stream",
     "text": [
      "tf.Tensor(45.660004, shape=(), dtype=float32)\n"
     ]
    }
   ],
   "source": [
    "x_data = [1, 2, 3, 4, 5]\n",
    "y_data = [1, 2, 3, 4, 5]\n",
    "\n",
    "# W, b initialize\n",
    "W = tf.Variable(2.9)\n",
    "b = tf.Variable(0.5)\n",
    "\n",
    "# hypothesis = W * x + b\n",
    "hypothesis = W * x_data + b\n",
    "cost = tf.reduce_mean(tf.square(hypothesis - y_data)) \n",
    "# reduce_mean: 차원이 줄어들면서 평균을 구함. : 1차원을 0차원으로 줄이면서 그 값들의 평균을 구함.\n",
    "# square: 제곱\n",
    "\n",
    "print(cost)"
   ]
  },
  {
   "cell_type": "code",
   "execution_count": null,
   "id": "a9f464c6",
   "metadata": {},
   "outputs": [],
   "source": [
    "# learning_rate initialize\n",
    "learning_rate = 0.01\n",
    "\n",
    "# Gradient descent\n",
    "# 변수들에 대한 정보를 tape에 기록 -> tape.gradient함수를 통해서 미분값(경사)를 구한다. \n",
    "with tf.GradientTape() as tape:\n",
    "    hypothesis = W * x_data + b\n",
    "    cost = tf.reduce_mean(tf.square(hypothesis - y_data))\n",
    "    \n",
    "# cost 함수에 대해서 변수들에 대한 개별 기울기값을 튜플로 반환\n",
    "W_grad, b_grad = tape.gradient(cost, [W, b])\n",
    "\n",
    "# assign_sub의 경우는 -=과 같은 연산이다. W에 대해서 learning_rate * W_grad의 값을 빼서 다시 W에 할당\n",
    "# learning_rate의 경우는 W_grad값을 W에 얼마나 영향을 미치도록 만들것인지를 결정한다. 그렇기 때문에 보통 작은값(0.01, 0.001)을 사용한다. \n",
    "W.assign_sub(learning_rate * W_grad)\n",
    "b.assign_sub(learning_rate * b_grad)\n",
    "\n",
    "# 코드 6~16 과정을 여러번 거치면서 W와 b를 업데이트 한다. "
   ]
  },
  {
   "cell_type": "code",
   "execution_count": 16,
   "id": "68ee4fdd",
   "metadata": {},
   "outputs": [
    {
     "name": "stdout",
     "output_type": "stream",
     "text": [
      "    0|    2.4520|     0.376| 45.660004\n",
      "   10|    1.1036|  0.003398|  0.206336\n",
      "   20|    1.0128|  -0.02091|  0.001026\n",
      "   30|    1.0065|  -0.02184|  0.000093\n",
      "   40|    1.0059|  -0.02123|  0.000083\n",
      "   50|    1.0057|  -0.02053|  0.000077\n",
      "   60|    1.0055|  -0.01984|  0.000072\n",
      "   70|    1.0053|  -0.01918|  0.000067\n",
      "   80|    1.0051|  -0.01854|  0.000063\n",
      "   90|    1.0050|  -0.01793|  0.000059\n"
     ]
    }
   ],
   "source": [
    "import tensorflow as tf\n",
    "\n",
    "x_data = [1, 2, 3, 4, 5]\n",
    "y_data = [1, 2, 3, 4, 5]\n",
    "\n",
    "# W, b initialize\n",
    "W = tf.Variable(2.9)\n",
    "b = tf.Variable(0.5)\n",
    "\n",
    "# learning_rate initialize\n",
    "learning_rate = 0.01\n",
    "\n",
    "for i in range(100):\n",
    "    # Gradient descent\n",
    "    with tf.GradientTape() as tape:\n",
    "        hypothesis = W * x_data + b\n",
    "        cost = tf.reduce_mean(tf.square(hypothesis - y_data))\n",
    "        \n",
    "    # cost 함수에 대해서 변수들에 대한 개별 기울기값을 튜플로 반환\n",
    "    W_grad, b_grad = tape.gradient(cost, [W, b])\n",
    "\n",
    "    W.assign_sub(learning_rate * W_grad)\n",
    "    b.assign_sub(learning_rate * b_grad)\n",
    "    if i % 10 == 0:\n",
    "        print(\"{:5}|{:10.4f}|{:10.4}|{:10.6f}\".format(i, W.numpy(), b.numpy(), cost))\n",
    "        \n",
    "# W는 1로 수렴, b는 0으로 수렴을 기대\n",
    "# cost는 작을수록 좋다 = 모델이 실제 데이터와 유사하다."
   ]
  },
  {
   "cell_type": "code",
   "execution_count": 17,
   "id": "fecccb50",
   "metadata": {},
   "outputs": [
    {
     "name": "stdout",
     "output_type": "stream",
     "text": [
      "tf.Tensor(5.0066934, shape=(), dtype=float32)\n",
      "tf.Tensor(2.4946523, shape=(), dtype=float32)\n"
     ]
    }
   ],
   "source": [
    "print(W * 5 + b)\n",
    "print(W * 2.5 + b)"
   ]
  },
  {
   "cell_type": "code",
   "execution_count": null,
   "id": "b81e9fbf",
   "metadata": {},
   "outputs": [],
   "source": [
    " "
   ]
  }
 ],
 "metadata": {
  "kernelspec": {
   "display_name": "Python 3.10.3 64-bit",
   "language": "python",
   "name": "python3"
  },
  "language_info": {
   "codemirror_mode": {
    "name": "ipython",
    "version": 3
   },
   "file_extension": ".py",
   "mimetype": "text/x-python",
   "name": "python",
   "nbconvert_exporter": "python",
   "pygments_lexer": "ipython3",
   "version": "3.10.3"
  },
  "vscode": {
   "interpreter": {
    "hash": "fb4569285eef3a3450cb62085a5b1e0da4bce0af555edc33dcf29baf3acc1368"
   }
  }
 },
 "nbformat": 4,
 "nbformat_minor": 5
}
