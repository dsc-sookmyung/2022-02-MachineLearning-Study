{
 "cells": [
  {
   "cell_type": "code",
   "execution_count": 15,
   "id": "70bc2311",
   "metadata": {},
   "outputs": [
    {
     "name": "stdout",
     "output_type": "stream",
     "text": [
      "WARNING:tensorflow:From C:\\Users\\kv069\\anaconda3\\lib\\site-packages\\tensorflow\\python\\compat\\v2_compat.py:107: disable_resource_variables (from tensorflow.python.ops.variable_scope) is deprecated and will be removed in a future version.\n",
      "Instructions for updating:\n",
      "non-resource variables are not supported in the long term\n"
     ]
    }
   ],
   "source": [
    "import tensorflow as tf\n",
    "import numpy as np\n",
    "\n",
    "import tensorflow.compat.v1 as tf\n",
    "\n",
    "tf.disable_v2_behavior()"
   ]
  },
  {
   "cell_type": "markdown",
   "id": "2e1c21e7",
   "metadata": {},
   "source": [
    "# Linear Regression"
   ]
  },
  {
   "cell_type": "code",
   "execution_count": 16,
   "id": "5dac3998",
   "metadata": {},
   "outputs": [],
   "source": [
    "x_train = [1, 2, 3]\n",
    "y_train = [1, 2, 3]\n",
    "\n",
    "W = tf.Variable(tf.random.normal([1]), name='wegiht')\n",
    "b = tf.Variable(tf.random.normal([1]), name='bias')\n",
    "\n",
    "\n",
    "\n",
    "hypothesis = x_train * W + b\n",
    "\n",
    "cost = tf.reduce_mean(tf.square(hypothesis - y_train)) #reduce는 평균"
   ]
  },
  {
   "cell_type": "code",
   "execution_count": 17,
   "id": "d8615dff",
   "metadata": {},
   "outputs": [],
   "source": [
    "optimizer = tf.train.GradientDescentOptimizer(learning_rate=0.01)\n",
    "train = optimizer.minimize(cost)"
   ]
  },
  {
   "cell_type": "code",
   "execution_count": 18,
   "id": "fcaf2b47",
   "metadata": {},
   "outputs": [
    {
     "name": "stdout",
     "output_type": "stream",
     "text": [
      "0 12.088626 [0.28743958] [-2.0027256]\n",
      "20 0.36800507 [1.4662293] [-1.4047847]\n",
      "40 0.2380206 [1.5533732] [-1.2907917]\n",
      "60 0.21530187 [1.5377507] [-1.2255614]\n",
      "80 0.1955328 [1.5134674] [-1.1675297]\n",
      "100 0.17758597 [1.4894304] [-1.1126189]\n",
      "120 0.16128638 [1.466438] [-1.060326]\n",
      "140 0.14648278 [1.4445179] [-1.0104939]\n",
      "160 0.13303806 [1.4236273] [-0.96300447]\n",
      "180 0.120827295 [1.4037184] [-0.91774684]\n",
      "200 0.10973731 [1.3847451] [-0.8746161]\n",
      "220 0.09966513 [1.3666633] [-0.83351225]\n",
      "240 0.09051748 [1.3494316] [-0.7943401]\n",
      "260 0.082209386 [1.3330095] [-0.7570089]\n",
      "280 0.074663855 [1.3173593] [-0.72143227]\n",
      "300 0.06781093 [1.3024445] [-0.68752766]\n",
      "320 0.061587006 [1.2882309] [-0.6552165]\n",
      "340 0.05593432 [1.274685] [-0.62442374]\n",
      "360 0.05080041 [1.2617757] [-0.59507805]\n",
      "380 0.04613775 [1.2494733] [-0.56711155]\n",
      "400 0.041903023 [1.237749] [-0.5404594]\n",
      "420 0.038056996 [1.2265757] [-0.5150597]\n",
      "440 0.034564007 [1.2159276] [-0.49085397]\n",
      "460 0.031391602 [1.2057797] [-0.46778572]\n",
      "480 0.028510332 [1.1961088] [-0.4458014]\n",
      "500 0.025893524 [1.1868924] [-0.42485034]\n",
      "520 0.023516903 [1.178109] [-0.40488386]\n",
      "540 0.02135843 [1.1697387] [-0.38585582]\n",
      "560 0.019398082 [1.1617614] [-0.36772203]\n",
      "580 0.017617637 [1.1541593] [-0.35044038]\n",
      "600 0.016000608 [1.1469144] [-0.33397093]\n",
      "620 0.014532029 [1.14001] [-0.31827554]\n",
      "640 0.013198213 [1.13343] [-0.3033178]\n",
      "660 0.011986829 [1.1271594] [-0.28906295]\n",
      "680 0.010886631 [1.1211833] [-0.27547818]\n",
      "700 0.00988743 [1.1154882] [-0.26253176]\n",
      "720 0.008979903 [1.1100606] [-0.25019366]\n",
      "740 0.008155698 [1.1048883] [-0.2384355]\n",
      "760 0.007407132 [1.0999588] [-0.22722994]\n",
      "780 0.0067272815 [1.0952611] [-0.21655096]\n",
      "800 0.0061098314 [1.0907842] [-0.20637389]\n",
      "820 0.0055490364 [1.0865177] [-0.19667506]\n",
      "840 0.005039727 [1.0824516] [-0.18743207]\n",
      "860 0.0045771515 [1.0785766] [-0.17862327]\n",
      "880 0.0041570384 [1.0748838] [-0.17022862]\n",
      "900 0.0037754958 [1.0713645] [-0.1622285]\n",
      "920 0.0034289656 [1.0680108] [-0.15460438]\n",
      "940 0.003114242 [1.0648146] [-0.14733855]\n",
      "960 0.0028284013 [1.0617684] [-0.14041424]\n",
      "980 0.0025687942 [1.0588654] [-0.13381517]\n",
      "1000 0.0023330275 [1.056099] [-0.12752636]\n",
      "1020 0.002118894 [1.0534626] [-0.1215331]\n",
      "1040 0.0019244143 [1.0509502] [-0.11582148]\n",
      "1060 0.0017477799 [1.0485556] [-0.11037829]\n",
      "1080 0.0015873626 [1.0462737] [-0.10519094]\n",
      "1100 0.0014416707 [1.044099] [-0.10024737]\n",
      "1120 0.0013093427 [1.0420264] [-0.09553611]\n",
      "1140 0.0011891677 [1.0400513] [-0.09104633]\n",
      "1160 0.0010800228 [1.038169] [-0.08676738]\n",
      "1180 0.0009808915 [1.0363753] [-0.08268958]\n",
      "1200 0.0008908615 [1.0346658] [-0.07880346]\n",
      "1220 0.0008090962 [1.0330367] [-0.07510005]\n",
      "1240 0.00073483447 [1.0314841] [-0.07157063]\n",
      "1260 0.00066739036 [1.0300045] [-0.06820719]\n",
      "1280 0.0006061327 [1.0285944] [-0.0650017]\n",
      "1300 0.000550501 [1.0272505] [-0.06194687]\n",
      "1320 0.00049997185 [1.0259699] [-0.05903555]\n",
      "1340 0.000454086 [1.0247494] [-0.05626115]\n",
      "1360 0.00041240724 [1.0235863] [-0.05361711]\n",
      "1380 0.00037455568 [1.0224779] [-0.05109734]\n",
      "1400 0.00034017922 [1.0214217] [-0.04869603]\n",
      "1420 0.00030895448 [1.0204146] [-0.04640749]\n",
      "1440 0.0002805937 [1.019455] [-0.04422626]\n",
      "1460 0.00025483794 [1.0185407] [-0.04214767]\n",
      "1480 0.0002314486 [1.0176694] [-0.04016684]\n",
      "1500 0.00021020677 [1.0168391] [-0.03827915]\n",
      "1520 0.00019091189 [1.0160477] [-0.03648015]\n",
      "1540 0.000173388 [1.0152935] [-0.0347657]\n",
      "1560 0.0001574747 [1.0145748] [-0.03313185]\n",
      "1580 0.00014302247 [1.0138899] [-0.03157481]\n",
      "1600 0.0001298944 [1.013237] [-0.03009094]\n",
      "1620 0.00011797226 [1.012615] [-0.02867677]\n",
      "1640 0.00010714395 [1.012022] [-0.02732905]\n",
      "1660 9.730935e-05 [1.011457] [-0.02604464]\n",
      "1680 8.837803e-05 [1.0109186] [-0.02482062]\n",
      "1700 8.0267484e-05 [1.0104057] [-0.02365415]\n",
      "1720 7.289984e-05 [1.0099167] [-0.02254262]\n",
      "1740 6.620964e-05 [1.0094506] [-0.02148318]\n",
      "1760 6.013155e-05 [1.0090064] [-0.02047355]\n",
      "1780 5.46129e-05 [1.0085831] [-0.01951138]\n",
      "1800 4.9600134e-05 [1.0081797] [-0.0185944]\n",
      "1820 4.5047884e-05 [1.0077953] [-0.01772055]\n",
      "1840 4.0912902e-05 [1.007429] [-0.01688777]\n",
      "1860 3.7158192e-05 [1.0070798] [-0.01609413]\n",
      "1880 3.3748052e-05 [1.0067472] [-0.01533781]\n",
      "1900 3.0650142e-05 [1.00643] [-0.01461704]\n",
      "1920 2.783728e-05 [1.0061278] [-0.0139301]\n",
      "1940 2.5282732e-05 [1.00584] [-0.01327543]\n",
      "1960 2.2961727e-05 [1.0055655] [-0.01265158]\n",
      "1980 2.0854954e-05 [1.005304] [-0.01205704]\n",
      "2000 1.8940573e-05 [1.0050548] [-0.01149048]\n"
     ]
    }
   ],
   "source": [
    "sess = tf.Session()\n",
    "sess.run(tf.global_variables_initializer())\n",
    "\n",
    "for step in range(2001):\n",
    "    sess.run(train)\n",
    "    if step % 20 == 0:\n",
    "        print(step, sess.run(cost), sess.run(W), sess.run(b))"
   ]
  },
  {
   "cell_type": "markdown",
   "id": "afc9ea6f",
   "metadata": {},
   "source": [
    "# 최근 버전 실습"
   ]
  },
  {
   "cell_type": "code",
   "execution_count": 2,
   "id": "3f8e70ec",
   "metadata": {},
   "outputs": [],
   "source": [
    "import tensorflow as tf\n",
    "import numpy as np\n"
   ]
  },
  {
   "cell_type": "code",
   "execution_count": 3,
   "id": "84aa21bb",
   "metadata": {},
   "outputs": [],
   "source": [
    "x_data = [1, 2, 3, 4, 5]\n",
    "y_data = [1, 2, 3, 4, 5]"
   ]
  },
  {
   "cell_type": "code",
   "execution_count": 4,
   "id": "0918ff99",
   "metadata": {},
   "outputs": [
    {
     "data": {
      "text/plain": [
       "(0.0, 8.0)"
      ]
     },
     "execution_count": 4,
     "metadata": {},
     "output_type": "execute_result"
    },
    {
     "data": {
      "image/png": "[encoded data removed]",
      "text/plain": [
       "<Figure size 432x288 with 1 Axes>"
      ]
     },
     "metadata": {
      "needs_background": "light"
     },
     "output_type": "display_data"
    }
   ],
   "source": [
    "import matplotlib.pyplot as plt\n",
    "plt.plot(x_data, y_data, 'o')\n",
    "plt.ylim(0, 8)"
   ]
  },
  {
   "cell_type": "code",
   "execution_count": 5,
   "id": "99074a10",
   "metadata": {},
   "outputs": [
    {
     "data": {
      "text/plain": [
       "<tf.Tensor: shape=(), dtype=int32, numpy=9>"
      ]
     },
     "execution_count": 5,
     "metadata": {},
     "output_type": "execute_result"
    }
   ],
   "source": [
    "\n",
    "v =[1., 2., 3., 4.]\n",
    "tf.reduce_mean(v) # 2.5\n",
    "\n",
    "tf.square(3) # 9"
   ]
  },
  {
   "cell_type": "code",
   "execution_count": 6,
   "id": "d844b129",
   "metadata": {},
   "outputs": [],
   "source": [
    "x_data = [1, 2, 3, 4, 5]\n",
    "y_data = [1, 2, 3, 4, 5]\n",
    "\n",
    "W = tf.Variable(2.0)\n",
    "b = tf.Variable(0.5)\n",
    "\n",
    "hypothesis = W * x_data + b"
   ]
  },
  {
   "cell_type": "code",
   "execution_count": 7,
   "id": "5c6610ab",
   "metadata": {},
   "outputs": [
    {
     "data": {
      "text/plain": [
       "array([ 2.5,  4.5,  6.5,  8.5, 10.5], dtype=float32)"
      ]
     },
     "execution_count": 7,
     "metadata": {},
     "output_type": "execute_result"
    }
   ],
   "source": [
    "W.numpy(), b.numpy()\n",
    "\n",
    "hypothesis.numpy()"
   ]
  },
  {
   "cell_type": "code",
   "execution_count": 8,
   "id": "78500704",
   "metadata": {},
   "outputs": [
    {
     "data": {
      "image/png": "[encoded data removed]",
      "text/plain": [
       "<Figure size 432x288 with 1 Axes>"
      ]
     },
     "metadata": {
      "needs_background": "light"
     },
     "output_type": "display_data"
    }
   ],
   "source": [
    "plt.plot(x_data, hypothesis.numpy(), 'r-')\n",
    "plt.plot(x_data, y_data, 'o')\n",
    "plt.ylim(0, 8)\n",
    "plt.show()"
   ]
  },
  {
   "cell_type": "markdown",
   "id": "444d0d91",
   "metadata": {},
   "source": [
    "## cost"
   ]
  },
  {
   "cell_type": "code",
   "execution_count": 9,
   "id": "32d5446d",
   "metadata": {},
   "outputs": [
    {
     "data": {
      "text/plain": [
       "(25.0, 7.0)"
      ]
     },
     "execution_count": 9,
     "metadata": {},
     "output_type": "execute_result"
    }
   ],
   "source": [
    "\n",
    "cost = tf.reduce_mean(tf.square(hypothesis - y_data))\n",
    "\n",
    "with tf.GradientTape() as tape:\n",
    "    hypothesis = W * x_data + b\n",
    "    cost = tf.reduce_mean(tf.square(hypothesis - y_data))\n",
    "\n",
    "W_grad, b_grad = tape.gradient(cost, [W, b])\n",
    "W_grad.numpy(), b_grad.numpy()"
   ]
  },
  {
   "cell_type": "markdown",
   "id": "eacdabb1",
   "metadata": {},
   "source": [
    "## 파라미터 업데이트\n"
   ]
  },
  {
   "cell_type": "code",
   "execution_count": 10,
   "id": "718be20e",
   "metadata": {},
   "outputs": [
    {
     "data": {
      "text/plain": [
       "(1.75, 0.43)"
      ]
     },
     "execution_count": 10,
     "metadata": {},
     "output_type": "execute_result"
    }
   ],
   "source": [
    "learning_rate = 0.01\n",
    "\n",
    "W.assign_sub(learning_rate * W_grad)\n",
    "b.assign_sub(learning_rate * b_grad)\n",
    "\n",
    "W.numpy(), b.numpy()\n"
   ]
  },
  {
   "cell_type": "code",
   "execution_count": 11,
   "id": "a5ce2e41",
   "metadata": {},
   "outputs": [
    {
     "data": {
      "text/plain": [
       "(0.0, 8.0)"
      ]
     },
     "execution_count": 11,
     "metadata": {},
     "output_type": "execute_result"
    },
    {
     "data": {
      "image/png": "[encoded data removed]",
      "text/plain": [
       "<Figure size 432x288 with 1 Axes>"
      ]
     },
     "metadata": {
      "needs_background": "light"
     },
     "output_type": "display_data"
    }
   ],
   "source": [
    "plt.plot(x_data, hypothesis.numpy(), 'r-')\n",
    "plt.plot(x_data, y_data, 'o')\n",
    "plt.ylim(0, 8)"
   ]
  },
  {
   "cell_type": "code",
   "execution_count": 12,
   "id": "b8d3928c",
   "metadata": {},
   "outputs": [
    {
     "name": "stdout",
     "output_type": "stream",
     "text": [
      "    0|    2.4520|    0.3760| 45.660004\n",
      "   10|    1.1036|    0.0034|  0.206336\n",
      "   20|    1.0128|   -0.0209|  0.001026\n",
      "   30|    1.0065|   -0.0218|  0.000093\n",
      "   40|    1.0059|   -0.0212|  0.000083\n",
      "   50|    1.0057|   -0.0205|  0.000077\n",
      "   60|    1.0055|   -0.0198|  0.000072\n",
      "   70|    1.0053|   -0.0192|  0.000067\n",
      "   80|    1.0051|   -0.0185|  0.000063\n",
      "   90|    1.0050|   -0.0179|  0.000059\n"
     ]
    },
    {
     "data": {
      "text/plain": [
       "(0.0, 8.0)"
      ]
     },
     "execution_count": 12,
     "metadata": {},
     "output_type": "execute_result"
    },
    {
     "data": {
      "image/png": "[encoded data removed]",
      "text/plain": [
       "<Figure size 432x288 with 1 Axes>"
      ]
     },
     "metadata": {
      "needs_background": "light"
     },
     "output_type": "display_data"
    }
   ],
   "source": [
    "# 반복\n",
    "\n",
    "W = tf.Variable(2.9)\n",
    "b = tf.Variable(0.5)\n",
    "\n",
    "for i in range(100):\n",
    "    with tf.GradientTape() as tape:\n",
    "        hypothesis = W * x_data + b\n",
    "        cost = tf.reduce_mean(tf.square(hypothesis - y_data))\n",
    "    W_grad, b_grad = tape.gradient(cost, [W, b])\n",
    "    W.assign_sub(learning_rate * W_grad)\n",
    "    b.assign_sub(learning_rate * b_grad)\n",
    "    if i % 10 == 0:\n",
    "      print(\"{:5}|{:10.4f}|{:10.4f}|{:10.6f}\".format(i, W.numpy(), b.numpy(), cost))\n",
    "\n",
    "plt.plot(x_data, y_data, 'o')\n",
    "plt.plot(x_data, hypothesis.numpy(), 'r-')\n",
    "plt.ylim(0, 8)"
   ]
  },
  {
   "cell_type": "code",
   "execution_count": 13,
   "id": "0e21d21d",
   "metadata": {},
   "outputs": [
    {
     "name": "stdout",
     "output_type": "stream",
     "text": [
      "tf.Tensor(5.0066934, shape=(), dtype=float32)\n",
      "tf.Tensor(2.4946523, shape=(), dtype=float32)\n"
     ]
    }
   ],
   "source": [
    "# 예측\n",
    "\n",
    "print(W * 5 + b)\n",
    "print(W * 2.5 + b)"
   ]
  },
  {
   "cell_type": "code",
   "execution_count": 14,
   "id": "a3f78020",
   "metadata": {},
   "outputs": [
    {
     "name": "stdout",
     "output_type": "stream",
     "text": [
      "    0|    1.0048|   -0.0173|  0.000055\n",
      "   10|    1.0046|   -0.0168|  0.000051\n",
      "   20|    1.0045|   -0.0162|  0.000048\n",
      "   30|    1.0043|   -0.0157|  0.000045\n",
      "   40|    1.0042|   -0.0151|  0.000042\n",
      "   50|    1.0041|   -0.0146|  0.000039\n",
      "   60|    1.0039|   -0.0141|  0.000037\n",
      "   70|    1.0038|   -0.0137|  0.000034\n",
      "   80|    1.0037|   -0.0132|  0.000032\n",
      "   90|    1.0035|   -0.0128|  0.000030\n",
      "\n",
      "tf.Tensor(5.0047708, shape=(), dtype=float32)\n",
      "tf.Tensor(2.4961886, shape=(), dtype=float32)\n"
     ]
    }
   ],
   "source": [
    "for i in range(100):\n",
    "    # Gradient descent\n",
    "    with tf.GradientTape() as tape:\n",
    "        hypothesis = W * x_data + b\n",
    "        cost = tf.reduce_mean(tf.square(hypothesis - y_data))\n",
    "    W_grad, b_grad = tape.gradient(cost, [W, b])\n",
    "    W.assign_sub(learning_rate * W_grad)\n",
    "    b.assign_sub(learning_rate * b_grad)\n",
    "    if i % 10 == 0:\n",
    "      print(\"{:5}|{:10.4f}|{:10.4f}|{:10.6f}\".format(i, W.numpy(), b.numpy(), cost))\n",
    "\n",
    "print()\n",
    "\n",
    "# predict\n",
    "print(W * 5 + b)\n",
    "print(W * 2.5 + b)"
   ]
  },
  {
   "cell_type": "markdown",
   "id": "50410944",
   "metadata": {},
   "source": [
    "# Lec 03.\n",
    "# linear Regression how to minimize cost\n",
    "\n",
    " 비용함수 = 에러율 제곱 합의 평균\n",
    " \n",
    " 가설함수 = Wx + b"
   ]
  },
  {
   "cell_type": "code",
   "execution_count": 16,
   "id": "7be4b6df",
   "metadata": {},
   "outputs": [
    {
     "name": "stdout",
     "output_type": "stream",
     "text": [
      "-3.000 |   74.66667\n",
      "-2.429 |   54.85714\n",
      "-1.857 |   38.09524\n",
      "-1.286 |   24.38095\n",
      "-0.714 |   13.71429\n",
      "-0.143 |    6.09524\n",
      " 0.429 |    1.52381\n",
      " 1.000 |    0.00000\n",
      " 1.571 |    1.52381\n",
      " 2.143 |    6.09524\n",
      " 2.714 |   13.71429\n",
      " 3.286 |   24.38095\n",
      " 3.857 |   38.09524\n",
      " 4.429 |   54.85714\n",
      " 5.000 |   74.66667\n",
      "-3.000 |   74.66667\n",
      "-2.429 |   54.85714\n",
      "-1.857 |   38.09524\n",
      "-1.286 |   24.38095\n",
      "-0.714 |   13.71429\n",
      "-0.143 |    6.09524\n",
      " 0.429 |    1.52381\n",
      " 1.000 |    0.00000\n",
      " 1.571 |    1.52381\n",
      " 2.143 |    6.09524\n",
      " 2.714 |   13.71429\n",
      " 3.286 |   24.38095\n",
      " 3.857 |   38.09524\n",
      " 4.429 |   54.85714\n",
      " 5.000 |   74.66667\n"
     ]
    },
    {
     "data": {
      "image/png": "[encoded data removed]",
      "text/plain": [
       "<Figure size 576x432 with 1 Axes>"
      ]
     },
     "metadata": {
      "needs_background": "light"
     },
     "output_type": "display_data"
    }
   ],
   "source": [
    "\n",
    "\n",
    "import tensorflow as tf\n",
    "import numpy as np\n",
    "import tensorflow.compat.v1 as tf\n",
    "\n",
    "\n",
    "\n",
    "\n",
    "X = np.array([1, 2, 3])\n",
    "Y = np.array([1, 2, 3])\n",
    "\n",
    "def cost_func(W, X, Y):\n",
    "    c = 0\n",
    "    for i in range(len(X)):\n",
    "        c += (W * X[i] - Y[i]) ** 2\n",
    "    return c / len(X)\n",
    "\n",
    "for feed_W in np.linspace(-3, 5, num=15):\n",
    "    curr_cost = cost_func(feed_W, X, Y)\n",
    "    print(\"{:6.3f} | {:10.5f}\".format(feed_W, curr_cost))\n",
    "\n",
    "# tensorflow로 구하기 \n",
    "\n",
    "X = np.array([1, 2, 3])\n",
    "Y = np.array([1, 2, 3])\n",
    "\n",
    "def cost_func(W, X, Y):\n",
    "  hypothesis = X * W\n",
    "  return tf.reduce_mean(tf.square(hypothesis - Y))\n",
    "\n",
    "W_values = np.linspace(-3, 5, num=15)\n",
    "cost_values = []\n",
    "\n",
    "for feed_W in W_values:\n",
    "    curr_cost = cost_func(feed_W, X, Y)\n",
    "    cost_values.append(curr_cost)\n",
    "    print(\"{:6.3f} | {:10.5f}\".format(feed_W, curr_cost))\n",
    "\n",
    "import matplotlib.pyplot as plt\n",
    "plt.rcParams[\"figure.figsize\"] = (8,6)\n",
    "\n",
    "plt.plot(W_values, cost_values, \"b\")\n",
    "plt.ylabel('Cost(W)')\n",
    "plt.xlabel('W')\n",
    "plt.show()\n",
    "\n"
   ]
  },
  {
   "cell_type": "markdown",
   "id": "05d88b27",
   "metadata": {},
   "source": [
    "Convex function\n",
    " \n",
    "\n",
    "Gradient descent algorithm을 사용하려면, 비용함수 cost(W,b)가 Convex function 이어야 한다"
   ]
  },
  {
   "cell_type": "markdown",
   "id": "85cde51b",
   "metadata": {},
   "source": [
    "# Gradient descent 구현"
   ]
  },
  {
   "cell_type": "code",
   "execution_count": 17,
   "id": "ce31aeb5",
   "metadata": {},
   "outputs": [
    {
     "name": "stdout",
     "output_type": "stream",
     "text": [
      "    0 | 11716.3086 |  48.767971\n",
      "   10 |  4504.9126 |  30.619968\n",
      "   20 |  1732.1364 |  19.366755\n",
      "   30 |   666.0052 |  12.388859\n",
      "   40 |   256.0785 |   8.062004\n",
      "   50 |    98.4620 |   5.379007\n",
      "   60 |    37.8586 |   3.715335\n",
      "   70 |    14.5566 |   2.683725\n",
      "   80 |     5.5970 |   2.044044\n",
      "   90 |     2.1520 |   1.647391\n",
      "  100 |     0.8275 |   1.401434\n",
      "  110 |     0.3182 |   1.248922\n",
      "  120 |     0.1223 |   1.154351\n",
      "  130 |     0.0470 |   1.095710\n",
      "  140 |     0.0181 |   1.059348\n",
      "  150 |     0.0070 |   1.036801\n",
      "  160 |     0.0027 |   1.022819\n",
      "  170 |     0.0010 |   1.014150\n",
      "  180 |     0.0004 |   1.008774\n",
      "  190 |     0.0002 |   1.005441\n",
      "  200 |     0.0001 |   1.003374\n",
      "  210 |     0.0000 |   1.002092\n",
      "  220 |     0.0000 |   1.001297\n",
      "  230 |     0.0000 |   1.000804\n",
      "  240 |     0.0000 |   1.000499\n",
      "  250 |     0.0000 |   1.000309\n",
      "  260 |     0.0000 |   1.000192\n",
      "  270 |     0.0000 |   1.000119\n",
      "  280 |     0.0000 |   1.000074\n",
      "  290 |     0.0000 |   1.000046\n"
     ]
    }
   ],
   "source": [
    "tf.set_random_seed(0)  # for reproducibility\n",
    "\n",
    "x_data = [1., 2., 3., 4.]\n",
    "y_data = [1., 3., 5., 7.]\n",
    "\n",
    "W = tf.Variable(tf.random.normal([1], -100., 100.))\n",
    "\n",
    "for step in range(300):\n",
    "    hypothesis = W * X\n",
    "    cost = tf.reduce_mean(tf.square(hypothesis - Y))\n",
    "\n",
    "    alpha = 0.01  # learning rate\n",
    "    gradient = tf.reduce_mean(tf.multiply(tf.multiply(W, X) - Y, X))\n",
    "    descent = W - tf.multiply(alpha, gradient) # 새로운 w 값으로 업데이트 됨.\n",
    "    W.assign(descent)\n",
    "    \n",
    "    if step % 10 == 0:\n",
    "        print('{:5} | {:10.4f} | {:10.6f}'.format(\n",
    "            step, cost.numpy(), W.numpy()[0]))"
   ]
  },
  {
   "cell_type": "markdown",
   "id": "38805ed1",
   "metadata": {},
   "source": [
    "cost가 굉장히 컸다가 점차 0으로 수렴함을 볼 수 있음.\n",
    "w는 설정해둔 특정한 값으로 수렴해감."
   ]
  },
  {
   "cell_type": "code",
   "execution_count": 18,
   "id": "3316bf22",
   "metadata": {},
   "outputs": [
    {
     "name": "stdout",
     "output_type": "stream",
     "text": [
      "tf.Tensor([5.0001483], shape=(1,), dtype=float32)\n",
      "tf.Tensor([2.5000741], shape=(1,), dtype=float32)\n",
      "    0 |    74.6667 |   4.813334\n",
      "   10 |    28.7093 |   3.364572\n",
      "   20 |    11.0387 |   2.466224\n",
      "   30 |     4.2444 |   1.909177\n",
      "   40 |     1.6320 |   1.563762\n",
      "   50 |     0.6275 |   1.349578\n",
      "   60 |     0.2413 |   1.216766\n",
      "   70 |     0.0928 |   1.134412\n",
      "   80 |     0.0357 |   1.083346\n",
      "   90 |     0.0137 |   1.051681\n",
      "  100 |     0.0053 |   1.032047\n",
      "  110 |     0.0020 |   1.019871\n",
      "  120 |     0.0008 |   1.012322\n",
      "  130 |     0.0003 |   1.007641\n",
      "  140 |     0.0001 |   1.004738\n",
      "  150 |     0.0000 |   1.002938\n",
      "  160 |     0.0000 |   1.001822\n",
      "  170 |     0.0000 |   1.001130\n",
      "  180 |     0.0000 |   1.000700\n",
      "  190 |     0.0000 |   1.000434\n",
      "  200 |     0.0000 |   1.000269\n",
      "  210 |     0.0000 |   1.000167\n",
      "  220 |     0.0000 |   1.000103\n",
      "  230 |     0.0000 |   1.000064\n",
      "  240 |     0.0000 |   1.000040\n",
      "  250 |     0.0000 |   1.000025\n",
      "  260 |     0.0000 |   1.000015\n",
      "  270 |     0.0000 |   1.000009\n",
      "  280 |     0.0000 |   1.000006\n",
      "  290 |     0.0000 |   1.000004\n"
     ]
    }
   ],
   "source": [
    "print(5.0 * W)\n",
    "print(2.5 * W)\n",
    "\n",
    "x_data = [1., 2., 3., 4.]\n",
    "y_data = [1., 3., 5., 7.]\n",
    "\n",
    "W = tf.Variable([5.0])\n",
    "\n",
    "for step in range(300):\n",
    "    hypothesis = W * X\n",
    "    cost = tf.reduce_mean(tf.square(hypothesis - Y))\n",
    "\n",
    "    alpha = 0.01\n",
    "    gradient = tf.reduce_mean(tf.multiply(tf.multiply(W, X) - Y, X))\n",
    "    descent = W - tf.multiply(alpha, gradient)\n",
    "    W.assign(descent)\n",
    "    \n",
    "    if step % 10 == 0:\n",
    "        print('{:5} | {:10.4f} | {:10.6f}'.format(\n",
    "            step, cost.numpy(), W.numpy()[0]))"
   ]
  },
  {
   "cell_type": "code",
   "execution_count": null,
   "id": "f98cde4e",
   "metadata": {},
   "outputs": [],
   "source": []
  }
 ],
 "metadata": {
  "kernelspec": {
   "display_name": "Python 3 (ipykernel)",
   "language": "python",
   "name": "python3"
  },
  "language_info": {
   "codemirror_mode": {
    "name": "ipython",
    "version": 3
   },
   "file_extension": ".py",
   "mimetype": "text/x-python",
   "name": "python",
   "nbconvert_exporter": "python",
   "pygments_lexer": "ipython3",
   "version": "3.9.12"
  }
 },
 "nbformat": 4,
 "nbformat_minor": 5
}
