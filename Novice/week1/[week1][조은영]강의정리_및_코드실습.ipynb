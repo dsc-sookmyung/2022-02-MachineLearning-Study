{
 "cells": [
  {
   "cell_type": "markdown",
   "id": "c26c2b72",
   "metadata": {},
   "source": [
    "# ML lec 01\n"
   ]
  },
  {
   "cell_type": "markdown",
   "id": "7ff75bba",
   "metadata": {},
   "source": [
    "## What is ML?\n",
    "- Limitations of explicit programming\n",
    "- 1959, Arthur Samuel\n",
    "\n",
    "## What is learning?\n",
    "### supervised\n",
    "- label이 정해진 데이터(training set)을 가지고 학습하는 것\n",
    "- ML의 일반적인 문제\n",
    "ex) Image labeling, Email spam filter, Predicting exam score\n",
    "- Training data set이 반드시 필요\n",
    "- regression(0~100), binary classification(binary), multi-label classification으로 나뉨\n",
    "\n",
    "### unsupervised\n",
    "- un-labeled data, 데이터를 보고 스스로 학습\n",
    "ex) google news grouping, Word clustering"
   ]
  },
  {
   "cell_type": "markdown",
   "id": "679330d5",
   "metadata": {},
   "source": [
    "# ML lec 02 - Simple Linear Regression\n",
    "## Regression\n",
    "- Regression toward the mean (Francis Galton)\n",
    "- 전체 평균으로 되돌아가려는(회귀하려는) 성질이 있다는 통계적 원리\n",
    "\n",
    "## Linear Regression\n",
    "- 데이터를 가장 잘 대변하는 직선의 방정식을 찾는 것\n",
    "\n",
    "## Hypothesis\n",
    "- H(x) = Wx+b\n",
    "\n",
    "## Which hypothesis is better?\n",
    "- 어떤 가설이 데이터를 가장 잘 대변하는가?\n",
    "\n",
    "## Cost, Cost function\n",
    "- H(x)-y, 가설과 실제 데이터의 차이\n",
    "- Cost를 최소화 하는 방법\n",
    "- Error 값을 제곱해서 더한 후 평균을 내는 것을 Cost function으로 많이 사용\n",
    "$$Cost(w) = \\frac{1}{m}\\sum_{i=1}^m (H(x_i)-y_i)^2$$\n",
    "\n",
    "## Goal: Minimize cost\n",
    "$$ minimize Cost(W,b) $$"
   ]
  },
  {
   "cell_type": "markdown",
   "id": "88307b30",
   "metadata": {},
   "source": [
    "## Build hypothesis and cost\n",
    "$$H(x) = Wx + b $$\n",
    "```\n",
    "x_data = [1,2,3,4,5]\n",
    "y_data = [1,2,3,4,5]\n",
    "\n",
    "W = tf.Variable(2.9)\n",
    "b = tf.Variable(0.5)\n",
    "\n",
    "# hypothesis = W * x + b\n",
    "hypothesis = W * x_data + b\n",
    "```\n",
    "$$Cost(w) = \\frac{1}{m}\\sum_{i=1}^m (H(x_i)-y_i)^2$$\n",
    "```\n",
    "cost = tf.reduce_mean(tf.square(hypothesis - y_data))\n",
    "```"
   ]
  },
  {
   "cell_type": "markdown",
   "id": "379662b9",
   "metadata": {},
   "source": [
    "## Gradient descent (경사 하강법)\n",
    "```\n",
    "learning_rate = 0.01\n",
    "\n",
    "# Gradient descent\n",
    "with tf.GradientTape() as tape:\n",
    "    hypothesis = W * x_data + b\n",
    "    cost = tf.reduce_mean(tf.square(hypothesis - y_data))\n",
    "    \n",
    "W_grad, b_grad = tape.gradient(cost, [w, b])\n",
    "\n",
    "W.assign_sub(learning_rate * W_grad)\n",
    "b.assign_sub(learning_rate * b_grad)\n",
    "```"
   ]
  },
  {
   "cell_type": "code",
   "execution_count": 5,
   "id": "75b61a05",
   "metadata": {},
   "outputs": [
    {
     "name": "stdout",
     "output_type": "stream",
     "text": [
      "    0|    2.4520|    0.3760| 45.660004\n",
      "   10|    1.1036|    0.0034|  0.206336\n",
      "   20|    1.0128|   -0.0209|  0.001026\n",
      "   30|    1.0065|   -0.0218|  0.000093\n",
      "   40|    1.0059|   -0.0212|  0.000083\n",
      "   50|    1.0057|   -0.0205|  0.000077\n",
      "   60|    1.0055|   -0.0198|  0.000072\n",
      "   70|    1.0053|   -0.0192|  0.000067\n",
      "   80|    1.0051|   -0.0185|  0.000063\n",
      "   90|    1.0050|   -0.0179|  0.000059\n",
      "  100|    1.0048|   -0.0173|  0.000055\n",
      "\n",
      "tf.Tensor(5.00667, shape=(), dtype=float32)\n",
      "tf.Tensor(2.4946702, shape=(), dtype=float32)\n"
     ]
    }
   ],
   "source": [
    "import tensorflow as tf\n",
    "import numpy as np\n",
    "\n",
    "# Data\n",
    "x_data = [1,2,3,4,5]\n",
    "y_data = [1,2,3,4,5]\n",
    "\n",
    "W = tf.Variable(2.9)\n",
    "b = tf.Variable(0.5)\n",
    "\n",
    "learning_rate = 0.01\n",
    "\n",
    "# W, b update\n",
    "for i in range(100+1):\n",
    "    # Gradient descent\n",
    "    with tf.GradientTape() as tape:\n",
    "        hypothesis = W * x_data + b\n",
    "        cost = tf.reduce_mean(tf.square(hypothesis-y_data))\n",
    "    W_grad, b_grad = tape.gradient(cost, [W,b])\n",
    "    W.assign_sub(learning_rate * W_grad)\n",
    "    b.assign_sub(learning_rate * b_grad)\n",
    "    if i % 10 == 0:\n",
    "        print(\"{:5}|{:10.4f}|{:10.4f}|{:10.6f}\".format(i, W.numpy(), b.numpy(), cost))\n",
    "        \n",
    "print()\n",
    "\n",
    "#predict\n",
    "print( W * 5 + b )\n",
    "print( W * 2.5 + b)"
   ]
  },
  {
   "cell_type": "markdown",
   "id": "9776df45",
   "metadata": {},
   "source": [
    "# ML lec 03 - How to minimize cost\n",
    "## Gradient descent algorithm\n",
    "- 경사를 내려가면서 최저점을 찾게 만드는 알고리즘\n",
    "- Cost가 최소화 되는 W와 b를 찾는 데 사용 가능\n",
    "\n",
    "### How it works?\n",
    "- 0이나 랜덤값을 초기값으로 가짐\n",
    "- cost가 줄어드는 방향으로 W와 b값을 업데이트\n",
    "- 기울기 값을 구해서 최소점에 도달했다고 판단될 때까지 반복\n",
    "\n",
    "## Formal definition\n",
    "$$Cost(w) = \\frac{1}{2m}\\sum_{i=1}^m (H(x_i)-y_i)^2$$\n",
    "$$ W := W - a\\frac{1}{m}\\sum_{u=1}^m (W(x_i)-y_i)x_i$$\n",
    "\n",
    "## Convex function\n",
    "- local minimum과 global minimum이 일치하는 경우\n",
    "- Gradient descent algorithm을 사용 가능"
   ]
  },
  {
   "cell_type": "markdown",
   "id": "95d1f0ad",
   "metadata": {},
   "source": [
    "## Cost function in pure Python "
   ]
  },
  {
   "cell_type": "code",
   "execution_count": 8,
   "id": "d6fce856",
   "metadata": {
    "scrolled": true
   },
   "outputs": [
    {
     "name": "stdout",
     "output_type": "stream",
     "text": [
      "-3.000 |   74.66667\n",
      "-2.429 |   54.85714\n",
      "-1.857 |   38.09524\n",
      "-1.286 |   24.38095\n",
      "-0.714 |   13.71429\n",
      "-0.143 |    6.09524\n",
      " 0.429 |    1.52381\n",
      " 1.000 |    0.00000\n",
      " 1.571 |    1.52381\n",
      " 2.143 |    6.09524\n",
      " 2.714 |   13.71429\n",
      " 3.286 |   24.38095\n",
      " 3.857 |   38.09524\n",
      " 4.429 |   54.85714\n",
      " 5.000 |   74.66667\n"
     ]
    }
   ],
   "source": [
    "import numpy as np\n",
    "\n",
    "X = np.array([1, 2, 3])\n",
    "Y = np.array([1, 2, 3])\n",
    "\n",
    "def cost_func(W, X, Y):\n",
    "    c = 0\n",
    "    for i in range(len(X)):\n",
    "        c += (W * X[i] - Y[i]) ** 2\n",
    "    return c / len(X)\n",
    "\n",
    "for feed_W in np.linspace(-3, 5, num=15):\n",
    "    curr_cost = cost_func(feed_W, X, Y)\n",
    "    print(\"{:6.3f} | {:10.5f}\".format(feed_W, curr_cost))"
   ]
  },
  {
   "cell_type": "markdown",
   "id": "c76d030e",
   "metadata": {},
   "source": [
    "## Cost function in TensorFlow"
   ]
  },
  {
   "cell_type": "code",
   "execution_count": 9,
   "id": "f5ab23d2",
   "metadata": {},
   "outputs": [
    {
     "name": "stdout",
     "output_type": "stream",
     "text": [
      "-3.000 |   74.66667\n",
      "-2.429 |   54.85714\n",
      "-1.857 |   38.09524\n",
      "-1.286 |   24.38095\n",
      "-0.714 |   13.71429\n",
      "-0.143 |    6.09524\n",
      " 0.429 |    1.52381\n",
      " 1.000 |    0.00000\n",
      " 1.571 |    1.52381\n",
      " 2.143 |    6.09524\n",
      " 2.714 |   13.71429\n",
      " 3.286 |   24.38095\n",
      " 3.857 |   38.09524\n",
      " 4.429 |   54.85714\n",
      " 5.000 |   74.66667\n"
     ]
    }
   ],
   "source": [
    "X = np.array([1, 2, 3])\n",
    "Y = np.array([1, 2, 3])\n",
    "\n",
    "def cost_func(W, X, Y):\n",
    "  hypothesis = X * W\n",
    "  return tf.reduce_mean(tf.square(hypothesis - Y))\n",
    "\n",
    "W_values = np.linspace(-3, 5, num=15)\n",
    "cost_values = []\n",
    "\n",
    "for feed_W in W_values:\n",
    "    curr_cost = cost_func(feed_W, X, Y)\n",
    "    cost_values.append(curr_cost)\n",
    "    print(\"{:6.3f} | {:10.5f}\".format(feed_W, curr_cost))"
   ]
  },
  {
   "cell_type": "markdown",
   "id": "d38f56bf",
   "metadata": {},
   "source": [
    "## Gradient descent"
   ]
  },
  {
   "cell_type": "code",
   "execution_count": 10,
   "id": "9d23d0df",
   "metadata": {},
   "outputs": [
    {
     "name": "stdout",
     "output_type": "stream",
     "text": [
      "    0 | 11716.3086 |  48.767971\n",
      "   10 |  4504.9126 |  30.619968\n",
      "   20 |  1732.1364 |  19.366755\n",
      "   30 |   666.0052 |  12.388859\n",
      "   40 |   256.0785 |   8.062004\n",
      "   50 |    98.4620 |   5.379007\n",
      "   60 |    37.8586 |   3.715335\n",
      "   70 |    14.5566 |   2.683725\n",
      "   80 |     5.5970 |   2.044044\n",
      "   90 |     2.1520 |   1.647391\n",
      "  100 |     0.8275 |   1.401434\n",
      "  110 |     0.3182 |   1.248922\n",
      "  120 |     0.1223 |   1.154351\n",
      "  130 |     0.0470 |   1.095710\n",
      "  140 |     0.0181 |   1.059348\n",
      "  150 |     0.0070 |   1.036801\n",
      "  160 |     0.0027 |   1.022819\n",
      "  170 |     0.0010 |   1.014150\n",
      "  180 |     0.0004 |   1.008774\n",
      "  190 |     0.0002 |   1.005441\n",
      "  200 |     0.0001 |   1.003374\n",
      "  210 |     0.0000 |   1.002092\n",
      "  220 |     0.0000 |   1.001297\n",
      "  230 |     0.0000 |   1.000804\n",
      "  240 |     0.0000 |   1.000499\n",
      "  250 |     0.0000 |   1.000309\n",
      "  260 |     0.0000 |   1.000192\n",
      "  270 |     0.0000 |   1.000119\n",
      "  280 |     0.0000 |   1.000074\n",
      "  290 |     0.0000 |   1.000046\n"
     ]
    }
   ],
   "source": [
    "tf.random.set_seed(0)\n",
    "\n",
    "x_data = [1., 2., 3., 4.]\n",
    "y_data = [1., 3., 5., 7.]\n",
    "\n",
    "W = tf.Variable(tf.random.normal((1,), -100., 100.))\n",
    "\n",
    "for step in range(300):\n",
    "    hypothesis = W * X\n",
    "    cost = tf.reduce_mean(tf.square(hypothesis - Y))\n",
    "\n",
    "    alpha = 0.01\n",
    "    gradient = tf.reduce_mean(tf.multiply(tf.multiply(W, X) - Y, X))\n",
    "    descent = W - tf.multiply(alpha, gradient)\n",
    "    W.assign(descent)\n",
    "    \n",
    "    if step % 10 == 0:\n",
    "        print('{:5} | {:10.4f} | {:10.6f}'.format(\n",
    "            step, cost.numpy(), W.numpy()[0]))\n",
    "        "
   ]
  }
 ],
 "metadata": {
  "kernelspec": {
   "display_name": "Python 3 (ipykernel)",
   "language": "python",
   "name": "python3"
  },
  "language_info": {
   "codemirror_mode": {
    "name": "ipython",
    "version": 3
   },
   "file_extension": ".py",
   "mimetype": "text/x-python",
   "name": "python",
   "nbconvert_exporter": "python",
   "pygments_lexer": "ipython3",
   "version": "3.9.13"
  }
 },
 "nbformat": 4,
 "nbformat_minor": 5
}
