{
 "cells": [
  {
   "cell_type": "code",
   "execution_count": 15,
   "id": "91280cf4",
   "metadata": {},
   "outputs": [],
   "source": [
    "import tensorflow as tf\n",
    "x_data=[1,2,3,4,5]\n",
    "y_data=[1,2,3,4,5]\n",
    "\n",
    "W=tf.Variable(2.9)\n",
    "b=tf.Variable(0.5)\n",
    "\n",
    "hypothesis=W*x_data+b #가설\n",
    "cost=tf.reduce_mean(tf.square(hypothesis-y_data)) #비용"
   ]
  },
  {
   "cell_type": "code",
   "execution_count": 10,
   "id": "709f6826",
   "metadata": {},
   "outputs": [
    {
     "data": {
      "text/plain": [
       "<tf.Tensor: shape=(), dtype=float32, numpy=2.5>"
      ]
     },
     "execution_count": 10,
     "metadata": {},
     "output_type": "execute_result"
    }
   ],
   "source": [
    "v=[1.,2.,3.,4.]\n",
    "tf.reduce_mean(v) #차원이 줄어들면서 평균을 구한다"
   ]
  },
  {
   "cell_type": "code",
   "execution_count": 11,
   "id": "c72735da",
   "metadata": {},
   "outputs": [
    {
     "data": {
      "text/plain": [
       "<tf.Tensor: shape=(), dtype=int32, numpy=9>"
      ]
     },
     "execution_count": 11,
     "metadata": {},
     "output_type": "execute_result"
    }
   ],
   "source": [
    "tf.square(3) #제곱"
   ]
  },
  {
   "cell_type": "code",
   "execution_count": 18,
   "id": "96041c30",
   "metadata": {},
   "outputs": [
    {
     "data": {
      "text/plain": [
       "<tf.Variable 'UnreadVariable' shape=() dtype=float32, numpy=0.376>"
      ]
     },
     "execution_count": 18,
     "metadata": {},
     "output_type": "execute_result"
    }
   ],
   "source": [
    "#Gradient descent 경사하강 알고리즘: cost(W,b)를 최소화\n",
    "\n",
    "#learning_rate initialize\n",
    "learning_rate=0.01\n",
    "\n",
    "#gradient descent\n",
    "with tf.GradientTape() as tape:\n",
    "    hypothesis=W*x_data+b\n",
    "    cost=tf.reduce_mean(tf.square(hypothesis-y_data))\n",
    "\n",
    "W_grad, b_grad=tape.gradient(cost,[W,b]) #cost함수에 대해서 [W,b]의 기울기 값, 미분 값을 튜플로 반환\n",
    "\n",
    "#a.assign_sub(b) -> a=a-b\n",
    "W.assign_sub(learning_rate*W_grad) #미분값을 얼만큼 반영할 것인가를 learning_rate 곱\n",
    "b.assign_sub(learning_rate*b_grad)"
   ]
  },
  {
   "cell_type": "code",
   "execution_count": 21,
   "id": "d7a67566",
   "metadata": {},
   "outputs": [
    {
     "name": "stdout",
     "output_type": "stream",
     "text": [
      "    0|    2.4520|     0.376| 45.660004\n",
      "   10|    1.1036|  0.003398|  0.206336\n",
      "   20|    1.0128|  -0.02091|  0.001026\n",
      "   30|    1.0065|  -0.02184|  0.000093\n",
      "   40|    1.0059|  -0.02123|  0.000083\n",
      "   50|    1.0057|  -0.02053|  0.000077\n",
      "   60|    1.0055|  -0.01984|  0.000072\n",
      "   70|    1.0053|  -0.01918|  0.000067\n",
      "   80|    1.0051|  -0.01854|  0.000063\n",
      "   90|    1.0050|  -0.01793|  0.000059\n"
     ]
    }
   ],
   "source": [
    "W=tf.Variable(2.9)\n",
    "b=tf.Variable(0.5)\n",
    "\n",
    "for i in range(100):\n",
    "    with tf.GradientTape() as tape:\n",
    "        hypothesis=W*x_data+b\n",
    "        cost=tf.reduce_mean(tf.square(hypothesis-y_data))\n",
    "\n",
    "    W_grad, b_grad=tape.gradient(cost,[W,b])\n",
    "    W.assign_sub(learning_rate*W_grad)\n",
    "    b.assign_sub(learning_rate*b_grad)\n",
    "\n",
    "    if i%10==0:\n",
    "        print(\"{:5}|{:10.4f}|{:10.4}|{:10.6f}\".format(i,W.numpy(),b.numpy(),cost))"
   ]
  },
  {
   "cell_type": "code",
   "execution_count": 25,
   "id": "2aa6e5e7",
   "metadata": {},
   "outputs": [
    {
     "name": "stdout",
     "output_type": "stream",
     "text": [
      "    0|    2.4520|     0.376| 45.660004\n",
      "   10|    1.1036|  0.003398|  0.206336\n",
      "   20|    1.0128|  -0.02091|  0.001026\n",
      "   30|    1.0065|  -0.02184|  0.000093\n",
      "   40|    1.0059|  -0.02123|  0.000083\n",
      "   50|    1.0057|  -0.02053|  0.000077\n",
      "   60|    1.0055|  -0.01984|  0.000072\n",
      "   70|    1.0053|  -0.01918|  0.000067\n",
      "   80|    1.0051|  -0.01854|  0.000063\n",
      "   90|    1.0050|  -0.01793|  0.000059\n",
      "  100|    1.0048|  -0.01733|  0.000055\n"
     ]
    }
   ],
   "source": [
    "import tensorflow as tf\n",
    "#tf.enable_eager_execution() 텐서2 이상은 기본적으로 활성화 돼있음\n",
    "\n",
    "#Data\n",
    "x_data=[1,2,3,4,5]\n",
    "y_data=[1,2,3,4,5]\n",
    "\n",
    "#W, b initialize\n",
    "W=tf.Variable(2.9)\n",
    "b=tf.Variable(0.5)\n",
    "\n",
    "leearning_rate=0.01\n",
    "\n",
    "for i in range(100+1): #W,b update\n",
    "    with tf.GradientTape() as tape:\n",
    "        hypothesis=W*x_data+b\n",
    "        cost=tf.reduce_mean(tf.square(hypothesis-y_data))\n",
    "\n",
    "    W_grad, b_grad=tape.gradient(cost,[W,b])\n",
    "    W.assign_sub(learning_rate*W_grad)\n",
    "    b.assign_sub(learning_rate*b_grad)\n",
    "\n",
    "    if i%10==0:\n",
    "        print(\"{:5}|{:10.4f}|{:10.4}|{:10.6f}\".format(i,W.numpy(),b.numpy(),cost))\n",
    "\n",
    "/*result\n",
    "w: 2.9에서 시작해 1로 수렴\n",
    "b: 0.5에서 시작해 0으로 수렴\n",
    "cost: 45에서 시작해 0으로 수렴 -> 오차가 거의 없음\n",
    "*/"
   ]
  },
  {
   "cell_type": "code",
   "execution_count": null,
   "id": "84d2d1df",
   "metadata": {},
   "outputs": [],
   "source": [
    "import numpy as np\n",
    "\n",
    "X=np.array([1,2,3])\n",
    "Y=np.array([1,2,3])\n",
    "\n",
    "def cost_func(W,X,Y):\n",
    "    c=0\n",
    "    for i in range(len(X)):\n",
    "        c+=(W*X[i]-Y[i])**2\n",
    "    return c/len(X)\n",
    "\n",
    "for feed_W in np.linspace(-3,5,num=15):\n",
    "    curr_cost=cost_func(feed_W,X,Y)\n",
    "    print(\"{:6.3f} | {:10.5f}\".format(feed_W,curr_cost))"
   ]
  },
  {
   "cell_type": "code",
   "execution_count": null,
   "id": "3e473e62",
   "metadata": {},
   "outputs": [],
   "source": [
    "import tensorflow as tf\n",
    "tf.random.set_seed(0) # for reproducibility\n",
    "x_data = [1., 2., 3., 4.]\n",
    "y_data = [1., 3., 5., 7.]\n",
    "W = tf.Variable(tf.random_normal([1], -100., 100.))\n",
    "\n",
    "for step in range(300):\n",
    "    hypothesis = W * X\n",
    "    cost = tf.reduce_mean(tf.square(hypothesis - Y))\n",
    "    alpha = 0.01\n",
    "    gradient = tf.reduce_mean(tf.multiply(tf.multiply(W, X) - Y, X))\n",
    "    descent = W - tf.multiply(alpha, gradient)\n",
    "    W.assign(descent)\n",
    "    \n",
    "    if step % 10 == 0:\n",
    "        print('{:5} | {:10.4f} | {:10.6f}'.format(\n",
    "            step, cost.numpy(), W.numpy()[0]))"
   ]
  }
 ],
 "metadata": {
  "kernelspec": {
   "display_name": "Python 3.10.2 64-bit",
   "language": "python",
   "name": "python3"
  },
  "language_info": {
   "codemirror_mode": {
    "name": "ipython",
    "version": 3
   },
   "file_extension": ".py",
   "mimetype": "text/x-python",
   "name": "python",
   "nbconvert_exporter": "python",
   "pygments_lexer": "ipython3",
   "version": "3.10.2"
  },
  "vscode": {
   "interpreter": {
    "hash": "aee8b7b246df8f9039afb4144a1f6fd8d2ca17a180786b69acc140d282b71a49"
   }
  }
 },
 "nbformat": 4,
 "nbformat_minor": 5
}
