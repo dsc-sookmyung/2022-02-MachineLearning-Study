{
 "cells": [
  {
   "cell_type": "code",
   "execution_count": 1,
   "id": "b20f14a7",
   "metadata": {},
   "outputs": [],
   "source": [
    "import numpy as np\n",
    "import tensorflow as tf\n",
    "import matplotlib.pyplot as plt\n",
    "from tensorflow import keras\n",
    "\n",
    "tf.random.set_seed(777)"
   ]
  },
  {
   "cell_type": "code",
   "execution_count": 2,
   "id": "94082282",
   "metadata": {},
   "outputs": [
    {
     "name": "stdout",
     "output_type": "stream",
     "text": [
      "Downloading data from https://storage.googleapis.com/tensorflow/tf-keras-datasets/imdb.npz\n",
      "17464789/17464789 [==============================] - 9s 1us/step\n"
     ]
    }
   ],
   "source": [
    "#keras에서 제공하는 데이터셋\n",
    "imdb = keras.datasets.imdb\n",
    "(train_data, train_labels), (test_data, test_labels) = imdb.load_data(num_words=10000)"
   ]
  },
  {
   "cell_type": "code",
   "execution_count": 4,
   "id": "a72d4296",
   "metadata": {},
   "outputs": [
    {
     "data": {
      "text/plain": [
       "\"? worst mistake of my life br br i picked this movie up at target for 5 because i figured hey it's sandler i can get some cheap laughs i was wrong completely wrong mid way through the film all three of my friends were asleep and i was still suffering worst plot worst script worst movie i have ever seen i wanted to hit my head up against a wall for an hour then i'd stop and you know why because it felt damn good upon bashing my head in i stuck that damn movie in the ? and watched it burn and that felt better than anything else i've ever done it took american psycho army of darkness and kill bill just to get over that crap i hate you sandler for actually going through with this and ruining a whole day of my life\""
      ]
     },
     "execution_count": 4,
     "metadata": {},
     "output_type": "execute_result"
    }
   ],
   "source": [
    "word_index = imdb.get_word_index()\n",
    " \n",
    "word_index = {k:(v+3) for k,v in word_index.items()}\n",
    "word_index[\"\"] = 0 #공백\n",
    "word_index[\"\"] = 1 #시작\n",
    "word_index[\"\"] = 2 #모르는 단어\n",
    "word_index[\"\"] = 3 #사용되지 않은 단어\n",
    "\n",
    "reverse_word_index = dict([(value, key) for (key, value) in word_index.items()])\n",
    "\n",
    "def decode_review(text):\n",
    "    return ' '.join([reverse_word_index.get(i, '?') for i in text])\n",
    "\n",
    "decode_review(train_data[4])"
   ]
  },
  {
   "cell_type": "code",
   "execution_count": 5,
   "id": "fcf7be2d",
   "metadata": {},
   "outputs": [
    {
     "name": "stdout",
     "output_type": "stream",
     "text": [
      "0\n"
     ]
    }
   ],
   "source": [
    "print(train_labels[4])"
   ]
  },
  {
   "cell_type": "code",
   "execution_count": 6,
   "id": "32ff4928",
   "metadata": {},
   "outputs": [
    {
     "name": "stdout",
     "output_type": "stream",
     "text": [
      "256 256\n",
      "[   1   14   22   16   43  530  973 1622 1385   65  458 4468   66 3941\n",
      "    4  173   36  256    5   25  100   43  838  112   50  670    2    9\n",
      "   35  480  284    5  150    4  172  112  167    2  336  385   39    4\n",
      "  172 4536 1111   17  546   38   13  447    4  192   50   16    6  147\n",
      " 2025   19   14   22    4 1920 4613  469    4   22   71   87   12   16\n",
      "   43  530   38   76   15   13 1247    4   22   17  515   17   12   16\n",
      "  626   18    2    5   62  386   12    8  316    8  106    5    4 2223\n",
      " 5244   16  480   66 3785   33    4  130   12   16   38  619    5   25\n",
      "  124   51   36  135   48   25 1415   33    6   22   12  215   28   77\n",
      "   52    5   14  407   16   82    2    8    4  107  117 5952   15  256\n",
      "    4    2    7 3766    5  723   36   71   43  530  476   26  400  317\n",
      "   46    7    4    2 1029   13  104   88    4  381   15  297   98   32\n",
      " 2071   56   26  141    6  194 7486   18    4  226   22   21  134  476\n",
      "   26  480    5  144   30 5535   18   51   36   28  224   92   25  104\n",
      "    4  226   65   16   38 1334   88   12   16  283    5   16 4472  113\n",
      "  103   32   15   16 5345   19  178   32    3    3    3    3    3    3\n",
      "    3    3    3    3    3    3    3    3    3    3    3    3    3    3\n",
      "    3    3    3    3    3    3    3    3    3    3    3    3    3    3\n",
      "    3    3    3    3]\n"
     ]
    }
   ],
   "source": [
    "#학습과 평가를 위해 256길이로 동일길이 선언\n",
    "train_data = keras.preprocessing.sequence.pad_sequences(train_data,\n",
    "                                                        value=word_index[\"\"],\n",
    "                                                        padding='post',\n",
    "                                                        maxlen=256)\n",
    "\n",
    "test_data = keras.preprocessing.sequence.pad_sequences(test_data,\n",
    "                                                       value=word_index[\"\"],\n",
    "                                                       padding='post',\n",
    "                                                       maxlen=256)\n",
    "print(len(train_data[0]), len(test_data[0]))\n",
    "print(train_data[0])"
   ]
  },
  {
   "cell_type": "code",
   "execution_count": 7,
   "id": "b87e71fe",
   "metadata": {},
   "outputs": [
    {
     "name": "stderr",
     "output_type": "stream",
     "text": [
      "2022-11-03 18:47:09.945808: I tensorflow/core/platform/cpu_feature_guard.cc:193] This TensorFlow binary is optimized with oneAPI Deep Neural Network Library (oneDNN) to use the following CPU instructions in performance-critical operations:  SSE4.1 SSE4.2 AVX AVX2 FMA\n",
      "To enable them in other operations, rebuild TensorFlow with the appropriate compiler flags.\n"
     ]
    }
   ],
   "source": [
    "vocab_size = 10000\n",
    "\n",
    "#모델 선언\n",
    "model = keras.Sequential()\n",
    "model.add(keras.layers.Embedding(vocab_size, 16))\n",
    "model.add(keras.layers.GlobalAveragePooling1D())\n",
    "model.add(keras.layers.Dense(16, activation=tf.nn.relu)) #16개의 layer 지정\n",
    "model.add(keras.layers.Dense(1, activation=tf.nn.sigmoid))\n",
    "\n",
    "#모델 컴파일\n",
    "model.compile(optimizer='adam',loss='binary_crossentropy', metrics=['accuracy'])"
   ]
  },
  {
   "cell_type": "code",
   "execution_count": 8,
   "id": "0980d671",
   "metadata": {},
   "outputs": [
    {
     "name": "stdout",
     "output_type": "stream",
     "text": [
      "Epoch 1/40\n",
      "30/30 [==============================] - 1s 15ms/step - loss: 0.6923 - accuracy: 0.5381 - val_loss: 0.6909 - val_accuracy: 0.6784\n",
      "Epoch 2/40\n",
      "30/30 [==============================] - 0s 12ms/step - loss: 0.6880 - accuracy: 0.7215 - val_loss: 0.6848 - val_accuracy: 0.7143\n",
      "Epoch 3/40\n",
      "30/30 [==============================] - 0s 12ms/step - loss: 0.6785 - accuracy: 0.7497 - val_loss: 0.6719 - val_accuracy: 0.7370\n",
      "Epoch 4/40\n",
      "30/30 [==============================] - 0s 12ms/step - loss: 0.6598 - accuracy: 0.7657 - val_loss: 0.6501 - val_accuracy: 0.7647\n",
      "Epoch 5/40\n",
      "30/30 [==============================] - 0s 12ms/step - loss: 0.6310 - accuracy: 0.7833 - val_loss: 0.6187 - val_accuracy: 0.7680\n",
      "Epoch 6/40\n",
      "30/30 [==============================] - 0s 12ms/step - loss: 0.5926 - accuracy: 0.8020 - val_loss: 0.5807 - val_accuracy: 0.7970\n",
      "Epoch 7/40\n",
      "30/30 [==============================] - 0s 13ms/step - loss: 0.5478 - accuracy: 0.8205 - val_loss: 0.5384 - val_accuracy: 0.8128\n",
      "Epoch 8/40\n",
      "30/30 [==============================] - 0s 12ms/step - loss: 0.5017 - accuracy: 0.8357 - val_loss: 0.4984 - val_accuracy: 0.8265\n",
      "Epoch 9/40\n",
      "30/30 [==============================] - 0s 13ms/step - loss: 0.4568 - accuracy: 0.8534 - val_loss: 0.4586 - val_accuracy: 0.8382\n",
      "Epoch 10/40\n",
      "30/30 [==============================] - 0s 13ms/step - loss: 0.4164 - accuracy: 0.8675 - val_loss: 0.4260 - val_accuracy: 0.8462\n",
      "Epoch 11/40\n",
      "30/30 [==============================] - 0s 13ms/step - loss: 0.3816 - accuracy: 0.8770 - val_loss: 0.3985 - val_accuracy: 0.8550\n",
      "Epoch 12/40\n",
      "30/30 [==============================] - 0s 13ms/step - loss: 0.3520 - accuracy: 0.8855 - val_loss: 0.3764 - val_accuracy: 0.8615\n",
      "Epoch 13/40\n",
      "30/30 [==============================] - 0s 13ms/step - loss: 0.3271 - accuracy: 0.8910 - val_loss: 0.3594 - val_accuracy: 0.8655\n",
      "Epoch 14/40\n",
      "30/30 [==============================] - 0s 13ms/step - loss: 0.3061 - accuracy: 0.8973 - val_loss: 0.3446 - val_accuracy: 0.8701\n",
      "Epoch 15/40\n",
      "30/30 [==============================] - 0s 14ms/step - loss: 0.2878 - accuracy: 0.9028 - val_loss: 0.3328 - val_accuracy: 0.8710\n",
      "Epoch 16/40\n",
      "30/30 [==============================] - 0s 16ms/step - loss: 0.2716 - accuracy: 0.9062 - val_loss: 0.3228 - val_accuracy: 0.8751\n",
      "Epoch 17/40\n",
      "30/30 [==============================] - 0s 16ms/step - loss: 0.2572 - accuracy: 0.9115 - val_loss: 0.3150 - val_accuracy: 0.8772\n",
      "Epoch 18/40\n",
      "30/30 [==============================] - 0s 15ms/step - loss: 0.2441 - accuracy: 0.9165 - val_loss: 0.3081 - val_accuracy: 0.8787\n",
      "Epoch 19/40\n",
      "30/30 [==============================] - 1s 16ms/step - loss: 0.2321 - accuracy: 0.9195 - val_loss: 0.3025 - val_accuracy: 0.8804\n",
      "Epoch 20/40\n",
      "30/30 [==============================] - 1s 21ms/step - loss: 0.2207 - accuracy: 0.9227 - val_loss: 0.2982 - val_accuracy: 0.8811\n",
      "Epoch 21/40\n",
      "30/30 [==============================] - 1s 18ms/step - loss: 0.2103 - accuracy: 0.9283 - val_loss: 0.2948 - val_accuracy: 0.8823\n",
      "Epoch 22/40\n",
      "30/30 [==============================] - 0s 14ms/step - loss: 0.2009 - accuracy: 0.9311 - val_loss: 0.2910 - val_accuracy: 0.8830\n",
      "Epoch 23/40\n",
      "30/30 [==============================] - 0s 14ms/step - loss: 0.1919 - accuracy: 0.9343 - val_loss: 0.2887 - val_accuracy: 0.8842\n",
      "Epoch 24/40\n",
      "30/30 [==============================] - 1s 18ms/step - loss: 0.1834 - accuracy: 0.9382 - val_loss: 0.2871 - val_accuracy: 0.8844\n",
      "Epoch 25/40\n",
      "30/30 [==============================] - 1s 18ms/step - loss: 0.1754 - accuracy: 0.9431 - val_loss: 0.2860 - val_accuracy: 0.8845\n",
      "Epoch 26/40\n",
      "30/30 [==============================] - 0s 15ms/step - loss: 0.1685 - accuracy: 0.9447 - val_loss: 0.2855 - val_accuracy: 0.8842\n",
      "Epoch 27/40\n",
      "30/30 [==============================] - 1s 19ms/step - loss: 0.1610 - accuracy: 0.9487 - val_loss: 0.2852 - val_accuracy: 0.8858\n",
      "Epoch 28/40\n",
      "30/30 [==============================] - 0s 15ms/step - loss: 0.1550 - accuracy: 0.9507 - val_loss: 0.2853 - val_accuracy: 0.8849\n",
      "Epoch 29/40\n",
      "30/30 [==============================] - 1s 20ms/step - loss: 0.1485 - accuracy: 0.9539 - val_loss: 0.2857 - val_accuracy: 0.8856\n",
      "Epoch 30/40\n",
      "30/30 [==============================] - 0s 16ms/step - loss: 0.1428 - accuracy: 0.9566 - val_loss: 0.2870 - val_accuracy: 0.8854\n",
      "Epoch 31/40\n",
      "30/30 [==============================] - 1s 18ms/step - loss: 0.1372 - accuracy: 0.9581 - val_loss: 0.2875 - val_accuracy: 0.8864\n",
      "Epoch 32/40\n",
      "30/30 [==============================] - 1s 17ms/step - loss: 0.1318 - accuracy: 0.9611 - val_loss: 0.2893 - val_accuracy: 0.8864\n",
      "Epoch 33/40\n",
      "30/30 [==============================] - 0s 16ms/step - loss: 0.1267 - accuracy: 0.9637 - val_loss: 0.2905 - val_accuracy: 0.8864\n",
      "Epoch 34/40\n",
      "30/30 [==============================] - 1s 18ms/step - loss: 0.1222 - accuracy: 0.9647 - val_loss: 0.2929 - val_accuracy: 0.8852\n",
      "Epoch 35/40\n",
      "30/30 [==============================] - 0s 16ms/step - loss: 0.1176 - accuracy: 0.9667 - val_loss: 0.2950 - val_accuracy: 0.8838\n",
      "Epoch 36/40\n",
      "30/30 [==============================] - 0s 16ms/step - loss: 0.1131 - accuracy: 0.9679 - val_loss: 0.2972 - val_accuracy: 0.8843\n",
      "Epoch 37/40\n",
      "30/30 [==============================] - 0s 15ms/step - loss: 0.1091 - accuracy: 0.9694 - val_loss: 0.2993 - val_accuracy: 0.8843\n",
      "Epoch 38/40\n",
      "30/30 [==============================] - 0s 15ms/step - loss: 0.1046 - accuracy: 0.9710 - val_loss: 0.3017 - val_accuracy: 0.8837\n",
      "Epoch 39/40\n",
      "30/30 [==============================] - 0s 14ms/step - loss: 0.1007 - accuracy: 0.9724 - val_loss: 0.3063 - val_accuracy: 0.8832\n",
      "Epoch 40/40\n",
      "30/30 [==============================] - 0s 14ms/step - loss: 0.0974 - accuracy: 0.9738 - val_loss: 0.3076 - val_accuracy: 0.8829\n"
     ]
    }
   ],
   "source": [
    "#모델을 평가할 test 데이터 정의 - 10000을 기준으로 학습과 평가 수행\n",
    "x_val = train_data[:10000]\n",
    "partial_x_train = train_data[10000:]\n",
    "\n",
    "y_val = train_labels[:10000]\n",
    "partial_y_train = train_labels[10000:]\n",
    "\n",
    "\n",
    "history = model.fit(partial_x_train,\n",
    "                    partial_y_train,\n",
    "                    epochs=40,\n",
    "                    batch_size=512,\n",
    "                    validation_data=(x_val, y_val),\n",
    "                    verbose=1)"
   ]
  },
  {
   "cell_type": "code",
   "execution_count": 9,
   "id": "3a90665a",
   "metadata": {},
   "outputs": [
    {
     "name": "stdout",
     "output_type": "stream",
     "text": [
      "782/782 [==============================] - 1s 767us/step - loss: 0.3273 - accuracy: 0.8731\n",
      "[0.3272671401500702, 0.8730800151824951]\n"
     ]
    }
   ],
   "source": [
    "#테스트 데이터로 모델 검증\n",
    "results = model.evaluate(test_data, test_labels)\n",
    "print(results)"
   ]
  }
 ],
 "metadata": {
  "kernelspec": {
   "display_name": "Python [conda env:TF_study] *",
   "language": "python",
   "name": "conda-env-TF_study-py"
  },
  "language_info": {
   "codemirror_mode": {
    "name": "ipython",
    "version": 3
   },
   "file_extension": ".py",
   "mimetype": "text/x-python",
   "name": "python",
   "nbconvert_exporter": "python",
   "pygments_lexer": "ipython3",
   "version": "3.10.4"
  }
 },
 "nbformat": 4,
 "nbformat_minor": 5
}
