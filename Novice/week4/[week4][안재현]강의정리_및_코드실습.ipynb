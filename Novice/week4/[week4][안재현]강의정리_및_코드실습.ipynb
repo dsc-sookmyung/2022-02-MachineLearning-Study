{
 "cells": [
  {
   "cell_type": "markdown",
   "id": "b88db380",
   "metadata": {},
   "source": [
    "07-1\n",
    "\n",
    "## learning rate\n",
    "\n",
    ": hyper-parameter로 얼마만큼 최적화 해서 모델을 만들어 낼 것이냐. \n",
    "\n",
    "모델의 Gradient descent시, 반복의 간격을 얼마만큼 진행할 것인지.\n",
    "\n",
    "- learning rate가 최적의 값으로 잘 설정이 되면, cost값의 그래프가 내려감.\n",
    "- learning rate값이 너무 크거나 너무 작아도 안됨. → 적절한 조절 필수!\n",
    "    - 오버슈팅 발생\n",
    "    - 너무 느린 학습 속도\n",
    "- Best learning rate for Adam\n",
    "    \n",
    "    ‘Adam Optimizer’= 0.0003\n",
    "    \n",
    "- Learning Rate Decay기법:\n",
    "    \n",
    "    : cost 비용이 작아지다가 더이상 학습이 되지 않는 지점에서 learning rate값을 계속 더 줄이면서 학습을 높일 수 있다\n",
    "    \n",
    "    - Step decay\n",
    "    - Exponential decay\n",
    "    - 1/t decay\n",
    "\n",
    "⇒ Gradient 값과 learning rate 값의 관계를 통해 최적의 값을 찾아낼 수 있음. \n",
    "\n",
    "## Data Preprocessing\n",
    "\n",
    "데이터 전처리\n",
    "\n",
    "1. **Feature Scaling**\n",
    "- Standardization(Mean Distance)\n",
    "    \n",
    "    → `Standardization = (data - np.mean(data))/sqrt(np.sum((data-np.mean(data))^2) / np.count(data))`\n",
    "    \n",
    "- Normalization(0~1)\n",
    "    \n",
    "     → `Normalization = (data - np.min(data, 0)) / (np.max(data, 0) - np.min(data, 0))`\n",
    "    \n",
    "1. **Noisy Data**\n",
    "    \n",
    "    : 쓸모없는 데이터를 없애줌.\n",
    "    \n",
    "\n",
    "---\n",
    "\n",
    "07-2-1.\n",
    "\n",
    "## Overfitting\n",
    "\n",
    "학습이 반복 될 수록 가설에 맞춰져 가면서 traingdata에는 잘 맞겠지만, test data에 대해서는 정확도가 떨어짐. \n",
    "\n",
    "이상적으로는 test data와 training data가 모두 잘 맞아야 함. \n",
    "\n",
    "- High bias(편향)\n",
    "- Just right\n",
    "- High variance\n",
    "\n",
    "1. **Set a features** \n",
    "    - 학습데이터를 더 많이 두는 것\n",
    "    - feature 수 줄이기  ‘PCA’ 방식\n",
    "    - Add additional feature - Hypothesis를 좀 더 구체화 시킴.\n",
    "\n",
    "1. **Regularization (Add term to loss)**\n",
    "    \n",
    "     → Linear regression with regularization \n",
    "    \n",
    "2. **Solutions**\n",
    "    - Feature Normalization\n",
    "    - Regularization\n",
    "    - More Data (Data Augmentation)\n",
    "        - Color Jilttering\n",
    "        - Horizontal Flips\n",
    "        - Random Crops/Scales\n",
    "    - Dropout\n",
    "    - Batch Normalization\n",
    "\n",
    "---\n",
    "\n",
    "Lab 07-3\n",
    "\n",
    "**Training and Validation**\n",
    "\n",
    ": data의 구성이 가장 중요함. \n",
    "\n",
    "Evaluating a hypothesis\n",
    "\n",
    ": 모델의 파라미터를 잘 fit한 후 Layer/ learning rate/ optimizer  \n",
    "\n",
    "```jsx\n",
    "test_acc = accuracy_fn(softmax_fn(x_Test), y_Test)\n",
    "modle.evaluate(x_Test, y_Test(\n",
    "```\n",
    "\n",
    "**Anomaly detection** \n",
    "\n",
    ": 정상 데이터를 가지고 학습했을 때, 이상데이터가 발생했을 때 잘 감지할 수 있음. \n",
    "\n",
    "## Learning\n",
    "\n",
    "- Online learning\n",
    "- Batch learning\n",
    "\n",
    "![image](https://user-images.githubusercontent.com/92504386/198956295-7ba86a21-6373-41e2-b8ce-0942e860b259.png)\n",
    "\n",
    "\n",
    "- Fine Tuning\n",
    "    \n",
    "    : weight값을 미세하게 조절\n",
    "    \n",
    "- Reautre Extraction\n",
    "    \n",
    "    : 기존의 모델을 만들어 놓은 상태에서 새로운 task가 들어올 때 그에 맞게 다시 학습 시킴. \n",
    "    \n",
    "- Efficient Models\n",
    "    \n",
    "    : less inference time is needed, so we need light weight\n",
    "    \n",
    "    → 모바일로도 학습 시킬 수 있음 \n",
    "    \n",
    "    → 차원 감소의 장점. → 속도 증가 \n",
    "    \n",
    "    `tf.nn.depthwise_conv2d(input, filter strides, padding)`"
   ]
  },
  {
   "cell_type": "markdown",
   "id": "efe09da4",
   "metadata": {},
   "source": [
    "## Lab 07-01 "
   ]
  },
  {
   "cell_type": "code",
   "execution_count": 29,
   "id": "fa6e453c",
   "metadata": {},
   "outputs": [
    {
     "data": {
      "image/png": "[encoded data removed]",
      "text/plain": [
       "<Figure size 432x288 with 1 Axes>"
      ]
     },
     "metadata": {
      "needs_background": "light"
     },
     "output_type": "display_data"
    }
   ],
   "source": [
    "import numpy as np\n",
    "import tensorflow as tf\n",
    "import matplotlib.pyplot as plt\n",
    "%matplotlib inline\n",
    "\n",
    "\n",
    "xy = np.array([[828.659973, 833.450012, 908100, 828.349976, 831.659973],\n",
    "               [823.02002, 828.070007, 1828100, 821.655029, 828.070007],\n",
    "               [819.929993, 824.400024, 1438100, 818.97998, 824.159973],\n",
    "               [816, 820.958984, 1008100, 815.48999, 819.23999],\n",
    "               [819.359985, 823, 1188100, 818.469971, 818.97998],\n",
    "               [819, 823, 1198100, 816, 820.450012],\n",
    "               [811.700012, 815.25, 1098100, 809.780029, 813.669983],\n",
    "               [809.51001, 816.659973, 1398100, 804.539978, 809.559998]])\n",
    "\n",
    "x_train = xy[:, 0:-1]\n",
    "y_train = xy[:, [-1]]\n",
    "\n",
    "plt.plot(x_train, 'ro')\n",
    "plt.plot(y_train)\n",
    "plt.show()"
   ]
  },
  {
   "cell_type": "code",
   "execution_count": 30,
   "id": "8e6ad7dd",
   "metadata": {},
   "outputs": [],
   "source": [
    "def normalization(data):\n",
    "    numerator = data - np.min(data, 0)\n",
    "    denominator = np.max(data, 0) - np.min(data, 0)\n",
    "    return numerator / denominator\n",
    "\n",
    "xy = normalization(xy)"
   ]
  },
  {
   "cell_type": "code",
   "execution_count": 35,
   "id": "1f442f49",
   "metadata": {},
   "outputs": [
    {
     "ename": "TypeError",
     "evalue": "make_initializable_iterator() missing 1 required positional argument: 'dataset'",
     "output_type": "error",
     "traceback": [
      "\u001b[1;31m---------------------------------------------------------------------------\u001b[0m",
      "\u001b[1;31mTypeError\u001b[0m                                 Traceback (most recent call last)",
      "Input \u001b[1;32mIn [35]\u001b[0m, in \u001b[0;36m<cell line: 5>\u001b[1;34m()\u001b[0m\n\u001b[0;32m      1\u001b[0m tf\u001b[38;5;241m.\u001b[39mrandom\u001b[38;5;241m.\u001b[39mset_seed(\u001b[38;5;241m777\u001b[39m)  \u001b[38;5;66;03m# for reproducibility\u001b[39;00m\n\u001b[0;32m      3\u001b[0m dataset \u001b[38;5;241m=\u001b[39m tf\u001b[38;5;241m.\u001b[39mdata\u001b[38;5;241m.\u001b[39mDataset\u001b[38;5;241m.\u001b[39mfrom_tensor_slices((x_train, y_train))\u001b[38;5;241m.\u001b[39mbatch(\u001b[38;5;28mlen\u001b[39m(x_train))\u001b[38;5;241m.\u001b[39mrepeat()\n\u001b[1;32m----> 5\u001b[0m \u001b[38;5;28miter\u001b[39m\u001b[38;5;241m=\u001b[39m\u001b[43mtf\u001b[49m\u001b[38;5;241;43m.\u001b[39;49m\u001b[43mcompat\u001b[49m\u001b[38;5;241;43m.\u001b[39;49m\u001b[43mv1\u001b[49m\u001b[38;5;241;43m.\u001b[39;49m\u001b[43mdata\u001b[49m\u001b[38;5;241;43m.\u001b[39;49m\u001b[43mmake_initializable_iterator\u001b[49m\u001b[43m(\u001b[49m\u001b[43m)\u001b[49m\n\u001b[0;32m      7\u001b[0m features, labels \u001b[38;5;241m=\u001b[39m \u001b[38;5;28miter\u001b[39m\u001b[38;5;241m.\u001b[39mget_next()\n\u001b[0;32m      9\u001b[0m features \u001b[38;5;241m=\u001b[39m tf\u001b[38;5;241m.\u001b[39mcast(features, tf\u001b[38;5;241m.\u001b[39mfloat32)\n",
      "\u001b[1;31mTypeError\u001b[0m: make_initializable_iterator() missing 1 required positional argument: 'dataset'"
     ]
    }
   ],
   "source": [
    "tf.random.set_seed(777)  # for reproducibility\n",
    "\n",
    "dataset = tf.data.Dataset.from_tensor_slices((x_train, y_train)).batch(len(x_train)).repeat()\n",
    "\n",
    "iter=tf.compat.v1.data.make_initializable_iterator()\n",
    "\n",
    "features, labels = iter.get_next()\n",
    "\n",
    "features = tf.cast(features, tf.float32)\n",
    "labels= tf.cast(labels, tf.float32)\n",
    "\n",
    "\n",
    "W = tf.Variable(tf.random.normal([4, 1]))\n",
    "b = tf.Variable(tf.random.normal([1]))\n",
    "\n",
    "hypothesis = tf.matmul(features, W)+b\n",
    "\n",
    "cost = tf.reduce_mean(tf.square(hypothesis-labels))\n",
    "\n",
    "optimizer = tf.train.GradientDescentOptimizer(learning_rate=1e-5)\n",
    "train = optimizer.minimize(cost)\n",
    "\n",
    "EPOCHS=101\n",
    "\n",
    "with tf.Session() as sess:\n",
    "    sess.run(tf.global_variables_initializer())\n",
    "    \n",
    "    for step in range(EPOCHS):\n",
    "        sess.run(iter.initializer)\n",
    "        _, loss_value, hypo_value = sess.run([train, cost, hypothesis])\n",
    "        print(\"Iter:{}, Loss: {:.4f}, Prediction: {}\".format(step, loss_value, hypo_value))\n",
    "    "
   ]
  },
  {
   "cell_type": "code",
   "execution_count": 15,
   "id": "540e5a8e",
   "metadata": {},
   "outputs": [],
   "source": [
    "def linearReg_fn(features):\n",
    "    hypothesis = tf.matmul(features, W)+b\n",
    "    return hypothesis"
   ]
  },
  {
   "cell_type": "code",
   "execution_count": 16,
   "id": "d4ecb6ec",
   "metadata": {},
   "outputs": [],
   "source": [
    "def l2_loss(loss, beta = 0.01):\n",
    "    W_reg = tf.nn.l2_loss(W)\n",
    "    loss = tf.reduce_mean(loss + W_reg * beta)\n",
    "    return loss"
   ]
  },
  {
   "cell_type": "code",
   "execution_count": 17,
   "id": "9876ced7",
   "metadata": {},
   "outputs": [],
   "source": [
    "def loss_fn(hypothesis, labels, flag = False):\n",
    "    cost = tf.reduce_mean(tf.square(hypothesis - labels))\n",
    "    if(flag):\n",
    "        cost = l2_loss(cost).l2_loss(W)\n",
    "    loss = tf.reduce_mean(loss + W_reg * beta)\n",
    "    return loss\n",
    "    return cost"
   ]
  },
  {
   "cell_type": "code",
   "execution_count": 27,
   "id": "fe37bf81",
   "metadata": {},
   "outputs": [
    {
     "ename": "NameError",
     "evalue": "name 'train' is not defined",
     "output_type": "error",
     "traceback": [
      "\u001b[1;31m---------------------------------------------------------------------------\u001b[0m",
      "\u001b[1;31mNameError\u001b[0m                                 Traceback (most recent call last)",
      "Input \u001b[1;32mIn [27]\u001b[0m, in \u001b[0;36m<cell line: 24>\u001b[1;34m()\u001b[0m\n\u001b[0;32m     24\u001b[0m \u001b[38;5;28;01mwith\u001b[39;00m tf\u001b[38;5;241m.\u001b[39mSession() \u001b[38;5;28;01mas\u001b[39;00m sess:\n\u001b[0;32m     25\u001b[0m    \u001b[38;5;66;03m# sess.run(tf.global_variables_initializer())\u001b[39;00m\n\u001b[0;32m     26\u001b[0m     \u001b[38;5;28;01mfor\u001b[39;00m step \u001b[38;5;129;01min\u001b[39;00m \u001b[38;5;28mrange\u001b[39m(EPOCHS):\n\u001b[0;32m     27\u001b[0m       \u001b[38;5;66;03m#  sess.run(iter.initializer)\u001b[39;00m\n\u001b[1;32m---> 28\u001b[0m         _, loss_value, hypo_value \u001b[38;5;241m=\u001b[39m sess\u001b[38;5;241m.\u001b[39mrun([\u001b[43mtrain\u001b[49m, cost, hypothesis])\n\u001b[0;32m     29\u001b[0m         \u001b[38;5;28mprint\u001b[39m(\u001b[38;5;124m\"\u001b[39m\u001b[38;5;124mIter: \u001b[39m\u001b[38;5;132;01m{}\u001b[39;00m\u001b[38;5;124m, Loss: \u001b[39m\u001b[38;5;132;01m{:.4f}\u001b[39;00m\u001b[38;5;124m, Prediction: \u001b[39m\u001b[38;5;132;01m{}\u001b[39;00m\u001b[38;5;124m\"\u001b[39m\u001b[38;5;241m.\u001b[39mformat(step, loss_value, hypo_value))\n",
      "\u001b[1;31mNameError\u001b[0m: name 'train' is not defined"
     ]
    }
   ],
   "source": [
    "\n",
    "# import tensorflow.compat.v1 as tf\n",
    "\n",
    "# tf.disable_v2_behavior()\n",
    "\n",
    "# EPOCHS = 101 \n",
    "\n",
    "# is_decay = True\n",
    "# starter_learning_rate = 0.1\n",
    "\n",
    "# if(is_decay):\n",
    "#     global_step = tf.Variable(0, trainable = False)\n",
    "#     learning_rate = tf.train.exponential_decay(starter_learning_rate, global_step, 50, 0.96, staircase = True)\n",
    "#     optimizer = tf.train.GradientDescentOptimizer(learning_rate)\n",
    "# else:\n",
    "#     optimizer = tf.train.GradientDescentOptimizer(learning_rate=starter_learning_rate)\n",
    "    \n",
    "# def grad(features, labels, l2_flag):\n",
    "#     with tf.GradientTape() as tape:\n",
    "#         loss_value = loss_fn(linearReg_fn(features), labels, l2_flag)\n",
    "#     return tape.gradient(loss_value, [W,b]), loss_value\n",
    "\n",
    "\n",
    "\n",
    "# with tf.Session() as sess:\n",
    "#     sess.run(tf.global_variables_initializer())\n",
    "#     for step in range(EPOCHS):\n",
    "#         sess.run(iter.initializer)\n",
    "#         _, loss_value, hypo_value = sess.run([train, cost, hypothesis])\n",
    "#         print(\"Iter: {}, Loss: {:.4f}, Prediction: {}\".format(step, loss_value, hypo_value))  \n",
    "\n",
    "# # for step in range(EPOCHS):\n",
    "# #     for features, labels in tfe.Iterator(dataset):\n",
    "# #         features = tf.cast(features, tf.float32)\n",
    "# #         labels = tf.cast(labels, tf.float32)\n",
    "# #         grads, loss_value = grad(linearReg_fn(features), features, labels, False)\n",
    "# #         optimizer.apply_gradients(grads_and_vars = zip(grads, [W,b]), global_step = global_step)\n",
    "        \n",
    "# #         if step%10 ==0:\n",
    "# #             print(\"Iter:{}, Loss:{:.4f}, Learning Rate: {:.8f}\".format(step, loss_value, optimizer._learning_rate()))\n",
    "    \n"
   ]
  },
  {
   "cell_type": "code",
   "execution_count": 28,
   "id": "090bae8a",
   "metadata": {},
   "outputs": [
    {
     "ename": "NameError",
     "evalue": "name 'tfe' is not defined",
     "output_type": "error",
     "traceback": [
      "\u001b[1;31m---------------------------------------------------------------------------\u001b[0m",
      "\u001b[1;31mNameError\u001b[0m                                 Traceback (most recent call last)",
      "Input \u001b[1;32mIn [28]\u001b[0m, in \u001b[0;36m<cell line: 23>\u001b[1;34m()\u001b[0m\n\u001b[0;32m     20\u001b[0m     \u001b[38;5;28;01mreturn\u001b[39;00m tape\u001b[38;5;241m.\u001b[39mgradient(loss_value, [W,b]), loss_value\n\u001b[0;32m     23\u001b[0m \u001b[38;5;28;01mfor\u001b[39;00m step \u001b[38;5;129;01min\u001b[39;00m \u001b[38;5;28mrange\u001b[39m(EPOCHS):\n\u001b[1;32m---> 24\u001b[0m     \u001b[38;5;28;01mfor\u001b[39;00m features, labels \u001b[38;5;129;01min\u001b[39;00m \u001b[43mtfe\u001b[49m\u001b[38;5;241m.\u001b[39mIterator(dataset):\n\u001b[0;32m     25\u001b[0m         features \u001b[38;5;241m=\u001b[39m tf\u001b[38;5;241m.\u001b[39mcast(features, tf\u001b[38;5;241m.\u001b[39mfloat32)\n\u001b[0;32m     26\u001b[0m         labels \u001b[38;5;241m=\u001b[39m tf\u001b[38;5;241m.\u001b[39mcast(labels, tf\u001b[38;5;241m.\u001b[39mfloat32)\n",
      "\u001b[1;31mNameError\u001b[0m: name 'tfe' is not defined"
     ]
    }
   ],
   "source": [
    "\n",
    "import tensorflow.compat.v1 as tf\n",
    "\n",
    "tf.disable_v2_behavior()\n",
    "\n",
    "EPOCHS = 101 \n",
    "\n",
    "is_decay = True\n",
    "starter_learning_rate = 0.1\n",
    "\n",
    "if(is_decay):\n",
    "    global_step = tf.Variable(0, trainable = False)\n",
    "    learning_rate = tf.train.exponential_decay(starter_learning_rate, global_step, 50, 0.96, staircase = True)\n",
    "    optimizer = tf.train.GradientDescentOptimizer(learning_rate)\n",
    "else:\n",
    "    optimizer = tf.train.GradientDescentOptimizer(learning_rate=starter_learning_rate)\n",
    "    \n",
    "def grad(features, labels, l2_flag):\n",
    "    with tf.GradientTape() as tape:\n",
    "        loss_value = loss_fn(linearReg_fn(features), labels, l2_flag)\n",
    "    return tape.gradient(loss_value, [W,b]), loss_value\n",
    "\n",
    "\n",
    "for step in range(EPOCHS):\n",
    "    for features, labels in tfe.Iterator(dataset):\n",
    "        features = tf.cast(features, tf.float32)\n",
    "        labels = tf.cast(labels, tf.float32)\n",
    "        \n",
    "        grads, loss_value = grad(linearReg_fn(features), features, labels, False)\n",
    "        optimizer.apply_gradients(grads_and_vars=zip(grads, [W, b]), global_step=global_step)\n",
    "        \n",
    "        if step % 10 ==0:\n",
    "            print(\"Iter:{}, Loss: {:.4f}, Learning Rate: {:.8f}\".format(step, loss_value, optimizer._learning_rate()))"
   ]
  },
  {
   "cell_type": "code",
   "execution_count": null,
   "id": "1b84ccd7",
   "metadata": {},
   "outputs": [],
   "source": []
  },
  {
   "cell_type": "code",
   "execution_count": null,
   "id": "1dcf3d47",
   "metadata": {},
   "outputs": [],
   "source": []
  },
  {
   "cell_type": "markdown",
   "id": "b5a03afe",
   "metadata": {},
   "source": [
    "## Lab07 \n"
   ]
  },
  {
   "cell_type": "code",
   "execution_count": 37,
   "id": "5fa0745d",
   "metadata": {},
   "outputs": [
    {
     "name": "stdout",
     "output_type": "stream",
     "text": [
      "2.10.0\n"
     ]
    }
   ],
   "source": [
    "import numpy as np\n",
    "import tensorflow as tf\n",
    "import matplotlib.pyplot as plt\n",
    "from tensorflow import keras\n",
    "\n",
    "tf.random.set_seed(777)  # for reproducibility\n",
    "print(tf.__version__)"
   ]
  },
  {
   "cell_type": "code",
   "execution_count": 38,
   "id": "c98962b9",
   "metadata": {},
   "outputs": [
    {
     "name": "stdout",
     "output_type": "stream",
     "text": [
      "Downloading data from https://storage.googleapis.com/tensorflow/tf-keras-datasets/train-labels-idx1-ubyte.gz\n",
      "29515/29515 [==============================] - 0s 0us/step\n",
      "Downloading data from https://storage.googleapis.com/tensorflow/tf-keras-datasets/train-images-idx3-ubyte.gz\n",
      "26421880/26421880 [==============================] - 5s 0us/step\n",
      "Downloading data from https://storage.googleapis.com/tensorflow/tf-keras-datasets/t10k-labels-idx1-ubyte.gz\n",
      "5148/5148 [==============================] - 0s 0s/step\n",
      "Downloading data from https://storage.googleapis.com/tensorflow/tf-keras-datasets/t10k-images-idx3-ubyte.gz\n",
      "4422102/4422102 [==============================] - 1s 0us/step\n"
     ]
    }
   ],
   "source": [
    "fashion_mnist = tf.keras.datasets.fashion_mnist\n",
    "\n",
    "(train_images, train_labels), (test_images, test_labels) = fashion_mnist.load_data()\n",
    "\n",
    "class_names = ['T-shirt/top', 'Trouser', 'Pullover', 'Dress', 'Coat',\n",
    "               'Sandal', 'Shirt', 'Sneaker', 'Bag', 'Ankle boot']"
   ]
  },
  {
   "cell_type": "code",
   "execution_count": 39,
   "id": "4c6aa05a",
   "metadata": {},
   "outputs": [
    {
     "data": {
      "image/png": "[encoded data removed]",
      "text/plain": [
       "<Figure size 432x288 with 2 Axes>"
      ]
     },
     "metadata": {
      "needs_background": "light"
     },
     "output_type": "display_data"
    }
   ],
   "source": [
    "plt.figure()\n",
    "plt.imshow(train_images[3])\n",
    "plt.colorbar()\n",
    "plt.grid(False)"
   ]
  },
  {
   "cell_type": "code",
   "execution_count": 40,
   "id": "4e3a1305",
   "metadata": {},
   "outputs": [
    {
     "data": {
      "image/png": "[encoded data removed]",
      "text/plain": [
       "<Figure size 720x720 with 25 Axes>"
      ]
     },
     "metadata": {},
     "output_type": "display_data"
    }
   ],
   "source": [
    "train_images = train_images / 255.0\n",
    "test_images = test_images / 255.0\n",
    "\n",
    "plt.figure(figsize=(10,10))\n",
    "for i in range(25):\n",
    "    plt.subplot(5,5,i+1)\n",
    "    plt.xticks([])\n",
    "    plt.yticks([])\n",
    "    plt.grid(False)\n",
    "    plt.imshow(train_images[i], cmap=plt.cm.binary)\n",
    "    plt.xlabel(class_names[train_labels[i]])"
   ]
  },
  {
   "cell_type": "code",
   "execution_count": 41,
   "id": "882daa7b",
   "metadata": {},
   "outputs": [],
   "source": [
    "model = keras.Sequential([\n",
    "    keras.layers.Flatten(input_shape=(28, 28)),\n",
    "    keras.layers.Dense(128, activation=tf.nn.relu),\n",
    "    keras.layers.Dense(10, activation=tf.nn.softmax)\n",
    "])"
   ]
  },
  {
   "cell_type": "code",
   "execution_count": 42,
   "id": "8c8bbb2c",
   "metadata": {},
   "outputs": [
    {
     "name": "stdout",
     "output_type": "stream",
     "text": [
      "Train on 60000 samples\n",
      "Epoch 1/5\n",
      "60000/60000 [==============================] - 4s 60us/sample - loss: 0.4999 - acc: 0.8264\n",
      "Epoch 2/5\n",
      "60000/60000 [==============================] - 3s 55us/sample - loss: 0.3771 - acc: 0.8649\n",
      "Epoch 3/5\n",
      "60000/60000 [==============================] - 3s 58us/sample - loss: 0.3389 - acc: 0.8778\n",
      "Epoch 4/5\n",
      "60000/60000 [==============================] - 3s 54us/sample - loss: 0.3148 - acc: 0.8854\n",
      "Epoch 5/5\n",
      "60000/60000 [==============================] - 3s 52us/sample - loss: 0.2971 - acc: 0.8910\n"
     ]
    },
    {
     "data": {
      "text/plain": [
       "<keras.callbacks.History at 0x1cca4af4190>"
      ]
     },
     "execution_count": 42,
     "metadata": {},
     "output_type": "execute_result"
    }
   ],
   "source": [
    "model.compile(optimizer='adam',\n",
    "              loss='sparse_categorical_crossentropy',\n",
    "              metrics=['accuracy'])\n",
    "model.fit(train_images, train_labels, epochs=5)"
   ]
  },
  {
   "cell_type": "code",
   "execution_count": 43,
   "id": "5e56cc89",
   "metadata": {},
   "outputs": [
    {
     "name": "stderr",
     "output_type": "stream",
     "text": [
      "C:\\Users\\kv069\\anaconda3\\lib\\site-packages\\keras\\engine\\training_v1.py:2332: UserWarning: `Model.state_updates` will be removed in a future version. This property should not be used in TensorFlow 2.0, as `updates` are applied automatically.\n",
      "  updates = self.state_updates\n"
     ]
    },
    {
     "name": "stdout",
     "output_type": "stream",
     "text": [
      "Test accuracy: 0.8753\n"
     ]
    }
   ],
   "source": [
    "test_loss, test_acc = model.evaluate(test_images, test_labels)\n",
    "\n",
    "print('Test accuracy:', test_acc)"
   ]
  },
  {
   "cell_type": "code",
   "execution_count": null,
   "id": "1e3361ee",
   "metadata": {},
   "outputs": [],
   "source": []
  }
 ],
 "metadata": {
  "kernelspec": {
   "display_name": "Python 3 (ipykernel)",
   "language": "python",
   "name": "python3"
  },
  "language_info": {
   "codemirror_mode": {
    "name": "ipython",
    "version": 3
   },
   "file_extension": ".py",
   "mimetype": "text/x-python",
   "name": "python",
   "nbconvert_exporter": "python",
   "pygments_lexer": "ipython3",
   "version": "3.9.12"
  }
 },
 "nbformat": 4,
 "nbformat_minor": 5
}
