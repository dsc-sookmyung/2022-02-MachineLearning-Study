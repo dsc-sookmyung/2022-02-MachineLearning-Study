{
 "cells": [
  {
   "cell_type": "markdown",
   "id": "4b2e77ea",
   "metadata": {},
   "source": [
    "# <2주차 MLstudy 강의정리 및 코드실습>"
   ]
  },
  {
   "cell_type": "markdown",
   "id": "a2d0276e",
   "metadata": {},
   "source": [
    "### Lab 04 Multi-variable linear regression (Hypothesis using matrix)\n",
    "\n",
    "H(x1,x2,x3) = w1x1 + w2x2 + w3x3"
   ]
  },
  {
   "cell_type": "code",
   "execution_count": 48,
   "id": "9cd3e892",
   "metadata": {},
   "outputs": [
    {
     "name": "stdout",
     "output_type": "stream",
     "text": [
      "2.0.0\n"
     ]
    }
   ],
   "source": [
    "import tensorflow as tf\n",
    "import numpy as np\n",
    "import matplotlib.pyplot as plt\n",
    "%matplotlib inline\n",
    "\n",
    "tf.random.set_seed(777)\n",
    "print(tf.__version__)"
   ]
  },
  {
   "cell_type": "code",
   "execution_count": 49,
   "id": "8a3c2a01",
   "metadata": {},
   "outputs": [],
   "source": [
    "tf.random.set_seed(0)"
   ]
  },
  {
   "cell_type": "markdown",
   "id": "1353cb43",
   "metadata": {},
   "source": [
    "Matrix를 사용하지 않고 계산할 때의 코드"
   ]
  },
  {
   "cell_type": "code",
   "execution_count": 50,
   "id": "728b5569",
   "metadata": {},
   "outputs": [
    {
     "name": "stdout",
     "output_type": "stream",
     "text": [
      "    0|   11325.9121\n",
      "   50|     135.3618\n",
      "  100|      11.1817\n",
      "  150|       9.7940\n",
      "  200|       9.7687\n",
      "  250|       9.7587\n",
      "  300|       9.7489\n",
      "  350|       9.7389\n",
      "  400|       9.7292\n",
      "  450|       9.7194\n",
      "  500|       9.7096\n",
      "  550|       9.6999\n",
      "  600|       9.6903\n",
      "  650|       9.6806\n",
      "  700|       9.6709\n",
      "  750|       9.6612\n",
      "  800|       9.6517\n",
      "  850|       9.6421\n",
      "  900|       9.6325\n",
      "  950|       9.6229\n",
      " 1000|       9.6134\n"
     ]
    }
   ],
   "source": [
    "#실제 데이터 값\n",
    "x1 = [73., 93., 89., 96., 73.]\n",
    "x2 = [80., 88., 91., 98., 66.]\n",
    "x3 = [75., 93., 90., 100.,70.]\n",
    "y = [152., 185., 180., 196., 142.]\n",
    "\n",
    "# random weights 값\n",
    "w1 = tf.Variable(tf.random.normal([1]))\n",
    "w2 = tf.Variable(tf.random.normal([1]))\n",
    "w3 = tf.Variable(tf.random.normal([1]))\n",
    "b = tf.Variable(tf.random.normal([1]))\n",
    "\n",
    "learning_rate = 0.000001\n",
    "\n",
    "for i in range(1000+1):\n",
    "    with tf.GradientTape() as tape:\n",
    "        hypothesis = w1 * x1 + w2 * x2 + w3*x3 + b\n",
    "        cost = tf.reduce_mean(tf.square(hypothesis - y))\n",
    "    w1_grad, w2_grad, w3_grad, b_grad = tape.gradient(cost, [w1,w2,w3, b])\n",
    "    \n",
    "    # 데이터값 업데이트\n",
    "    w1.assign_sub(learning_rate * w1_grad)\n",
    "    w2.assign_sub(learning_rate * w2_grad)\n",
    "    w3.assign_sub(learning_rate * w3_grad)\n",
    "    b.assign_sub(learning_rate * b_grad)\n",
    "\n",
    "    if i % 50 == 0:\n",
    "        print(\"{:5}| {:12.4f}\".format(i,cost.numpy()))"
   ]
  },
  {
   "cell_type": "markdown",
   "id": "252ae657",
   "metadata": {},
   "source": [
    "Matrix를 사용할 때의 코드\n",
    "\n",
    "[5X3]x값 matrix에 [3X1]w값 matrix를 dot product내적 한다."
   ]
  },
  {
   "cell_type": "code",
   "execution_count": 51,
   "id": "886fbad5",
   "metadata": {},
   "outputs": [
    {
     "name": "stdout",
     "output_type": "stream",
     "text": [
      "    0| 5455.5903\n",
      "  100|   31.7443\n",
      "  200|   30.9326\n",
      "  300|   30.7894\n",
      "  400|   30.6468\n",
      "  500|   30.5055\n",
      "  600|   30.3644\n",
      "  700|   30.2242\n",
      "  800|   30.0849\n",
      "  900|   29.9463\n",
      " 1000|   29.8081\n",
      " 1100|   29.6710\n",
      " 1200|   29.5348\n",
      " 1300|   29.3989\n",
      " 1400|   29.2641\n",
      " 1500|   29.1299\n",
      " 1600|   28.9961\n",
      " 1700|   28.8634\n",
      " 1800|   28.7313\n",
      " 1900|   28.5997\n",
      " 2000|   28.4689\n"
     ]
    }
   ],
   "source": [
    "data = np.array([\n",
    "    [ 73., 80., 75., 152. ],\n",
    "    [ 93., 88., 93., 185. ],\n",
    "    [ 89., 91., 90., 180. ],\n",
    "    [ 96., 98., 100., 196.],\n",
    "    [ 73., 66., 70., 142. ]], dtype=np.float32)\n",
    "\n",
    "X = data[:, :-1]\n",
    "y = data[:, [-1]]\n",
    "W = tf.Variable(tf.random.normal([3, 1]))\n",
    "b = tf.Variable(tf.random.normal([1]))\n",
    "\n",
    "learning_rate = 0.000001\n",
    "\n",
    "# hypothesis, prediction function H(x)=XW\n",
    "def predict(X):\n",
    "    return tf.matmul(X, W) + b\n",
    "\n",
    "n_epochs = 2000\n",
    "for i in range(n_epochs+1):\n",
    "    with tf.GradientTape() as tape:\n",
    "        cost = tf.reduce_mean((tf.square(predict(X) - y)))\n",
    "        W_grad, b_grad = tape.gradient(cost, [W, b])\n",
    "        W.assign_sub(learning_rate * W_grad)\n",
    "        b.assign_sub(learning_rate * b_grad)\n",
    "        \n",
    "        if i %100==0:\n",
    "            print(\"{:5}|{:10.4f}\".format(i,cost.numpy()))"
   ]
  },
  {
   "cell_type": "markdown",
   "id": "8661b787",
   "metadata": {},
   "source": [
    "### Lab 05-2 Logistic Regression - cost function & optimizer"
   ]
  },
  {
   "cell_type": "markdown",
   "id": "f62fdac6",
   "metadata": {},
   "source": [
    "x_data들의 위치를 좌표평면 위에 보여주고 y_data를 0과 1로 구분"
   ]
  },
  {
   "cell_type": "code",
   "execution_count": 52,
   "id": "a64cdbb3",
   "metadata": {
    "scrolled": true
   },
   "outputs": [
    {
     "data": {
      "image/png": "[encoded data removed]",
      "text/plain": [
       "<Figure size 640x480 with 1 Axes>"
      ]
     },
     "metadata": {},
     "output_type": "display_data"
    }
   ],
   "source": [
    "#실제 데이터 값\n",
    "x_train = [[1., 2.],\n",
    "          [2., 3.],\n",
    "          [3., 1.],\n",
    "          [4., 3.],\n",
    "          [5., 3.],\n",
    "          [6., 2.]]\n",
    "y_train = [[0.],\n",
    "          [0.],\n",
    "          [0.],\n",
    "          [1.],\n",
    "          [1.],\n",
    "          [1.]]\n",
    "\n",
    "#테스트할 데이터 값\n",
    "x_test = [[5.,2.]]\n",
    "y_test = [[1.]]\n",
    "\n",
    "\n",
    "x1 = [x[0] for x in x_train]\n",
    "x2 = [x[1] for x in x_train]\n",
    "\n",
    "#색으로 0,1 구분하기\n",
    "colors = [int(y[0] % 3) for y in y_train]\n",
    "plt.scatter(x1,x2, c=colors , marker='^')\n",
    "plt.scatter(x_test[0][0],x_test[0][1], c=\"red\")\n",
    "\n",
    "plt.xlabel(\"x1\")\n",
    "plt.ylabel(\"x2\")\n",
    "plt.show()"
   ]
  },
  {
   "cell_type": "code",
   "execution_count": 53,
   "id": "87eb09a0",
   "metadata": {},
   "outputs": [],
   "source": [
    "dataset = tf.data.Dataset.from_tensor_slices((x_train, y_train)).batch(len(x_train))"
   ]
  },
  {
   "cell_type": "code",
   "execution_count": 54,
   "id": "c121622c",
   "metadata": {},
   "outputs": [],
   "source": [
    "# weight 와 bias 설정\n",
    "W = tf.Variable(tf.zeros([2,1]), name='weight')\n",
    "b = tf.Variable(tf.zeros([1]), name='bias')"
   ]
  },
  {
   "cell_type": "markdown",
   "id": "325245cc",
   "metadata": {},
   "source": [
    "Sigmoid 함수를 가설로 선언: 0과 1의 값만을 리턴하는 함수\n",
    "\n",
    "tf.sigmoid(tf.matmul(X,W)+b)"
   ]
  },
  {
   "cell_type": "code",
   "execution_count": 55,
   "id": "cd064f95",
   "metadata": {},
   "outputs": [],
   "source": [
    "def logistic_regression(features):\n",
    "    hypothesis  = tf.divide(1., 1. + tf.exp(tf.matmul(features, W) + b))\n",
    "    return hypothesis"
   ]
  },
  {
   "cell_type": "code",
   "execution_count": 56,
   "id": "19de8a3a",
   "metadata": {},
   "outputs": [],
   "source": [
    "# cost 함수 정의\n",
    "def loss_fn(hypothesis, features, labels):\n",
    "    cost = -tf.reduce_mean(labels * tf.math.log(logistic_regression(features)) + (1 - labels) * tf.math.log(1 - hypothesis))\n",
    "    return cost\n",
    "\n",
    "optimizer = tf.keras.optimizers.SGD(learning_rate=0.01)"
   ]
  },
  {
   "cell_type": "code",
   "execution_count": 57,
   "id": "3cefb583",
   "metadata": {},
   "outputs": [],
   "source": [
    "# 0.5 기준 (sigmoid 함수에 따라) 0 또는 1의 값을 리턴\n",
    "def accuracy_fn(hypothesis, labels):\n",
    "    predicted = tf.cast(hypothesis > 0.5, dtype=tf.float32)\n",
    "    accuracy = tf.reduce_mean(tf.cast(tf.equal(predicted, labels), dtype=tf.int32))\n",
    "    return accuracy"
   ]
  },
  {
   "cell_type": "code",
   "execution_count": 58,
   "id": "8db9d53b",
   "metadata": {},
   "outputs": [],
   "source": [
    "#GradientTape를 통해 경사값 리턴\n",
    "def grad(features, labels):\n",
    "    with tf.GradientTape() as tape:\n",
    "        loss_value = loss_fn(logistic_regression(features),features,labels)\n",
    "    return tape.gradient(loss_value, [W,b])"
   ]
  },
  {
   "cell_type": "code",
   "execution_count": 59,
   "id": "e813bf70",
   "metadata": {},
   "outputs": [
    {
     "name": "stdout",
     "output_type": "stream",
     "text": [
      "Iter: 0, Loss: 0.6874\n",
      "Iter: 100, Loss: 0.5776\n",
      "Iter: 200, Loss: 0.5349\n",
      "Iter: 300, Loss: 0.5054\n",
      "Iter: 400, Loss: 0.4838\n",
      "Iter: 500, Loss: 0.4671\n",
      "Iter: 600, Loss: 0.4535\n",
      "Iter: 700, Loss: 0.4420\n",
      "Iter: 800, Loss: 0.4319\n",
      "Iter: 900, Loss: 0.4228\n",
      "Iter: 1000, Loss: 0.4144\n",
      "Testset Accuracy: 1.0000\n"
     ]
    }
   ],
   "source": [
    "# 위 작업을 1001번 반복하여 학습하면 [5,2]의 y값이 1이 나온다.\n",
    "EPOCHS = 1001\n",
    "\n",
    "for step in range(EPOCHS):\n",
    "    for features, labels  in iter(dataset):\n",
    "        grads = grad(features, labels)\n",
    "        optimizer.apply_gradients(grads_and_vars=zip(grads,[W,b]))\n",
    "        if step % 100 == 0:\n",
    "            print(\"Iter: {}, Loss: {:.4f}\".format(step, loss_fn(logistic_regression(features),features,labels)))\n",
    "            \n",
    "test_acc = accuracy_fn(logistic_regression(x_test),y_test)\n",
    "print(\"Testset Accuracy: {:.4f}\".format(test_acc))"
   ]
  }
 ],
 "metadata": {
  "kernelspec": {
   "display_name": "Python [conda env:MLstudy] *",
   "language": "python",
   "name": "conda-env-MLstudy-py"
  },
  "language_info": {
   "codemirror_mode": {
    "name": "ipython",
    "version": 3
   },
   "file_extension": ".py",
   "mimetype": "text/x-python",
   "name": "python",
   "nbconvert_exporter": "python",
   "pygments_lexer": "ipython3",
   "version": "3.7.13"
  }
 },
 "nbformat": 4,
 "nbformat_minor": 5
}
