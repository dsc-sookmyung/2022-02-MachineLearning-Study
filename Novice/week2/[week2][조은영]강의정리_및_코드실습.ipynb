{
  "cells": [
    {
      "cell_type": "markdown",
      "id": "1274adb9",
      "metadata": {
        "id": "1274adb9"
      },
      "source": [
        "# 04 Multi-variable linear regression\n",
        "## Hypothesis\n",
        "$$ H(x_1, x_2, x_3) = w_1x_1 + w_2x_2 + w_3x_3 + b $$\n",
        "\n",
        "## Cost function\n",
        "$$ cost(W, b) = \\frac{1}{m}\\sum_{i=1}^m (H(x_1, x_2, x_3)-y_i)^2$$\n",
        "\n",
        "## Multi-variable\n",
        "- 변수의 개수가 늘어나면 변수의 개수와 가중치의 개수가 늘어남\n",
        "\n",
        "## Matrix multiplication\n",
        "![image.png](attachment:image.png)\n",
        "\n",
        "## Hypothesis using matrix\n",
        "$$ (x_1 x_2 x_3) · (w_1 w_2 w_3)^T = (x_1w_1 + x_2w_2 + x_3w_3) $$\n",
        "$$ H(X) = XW $$\n",
        "- 앞 matrix의 열의 개수와 뒤 matrix의 행의 개수가 일치해야 함\n",
        "![image-2.png](attachment:image-2.png)\n",
        "\n",
        "## Many x instances\n",
        "- data의 instance가 많은 경우에도 동일하게 표현 가능\n",
        "- matrix를 쓰는 큰 장점\n",
        "\n",
        "## Hypothesis using matrix (n output)\n",
        "$$ [n, 3] · [?, ?] = [n, 2] $$\n",
        "- n은 instance의 개수, 2는 결과 값의 개수\n",
        "- 이 때 W[?, ?] => [3, 2]\n",
        "\n",
        "## WX vs XW\n",
        "- Lecture (theory)\n",
        "$$ H(x) = Wx + b $$\n",
        "- Implementation (TensorFlow)\n",
        "$$ H(X) = XW $$ "
      ]
    },
    {
      "cell_type": "code",
      "execution_count": null,
      "id": "bae64f6b",
      "metadata": {
        "colab": {
          "base_uri": "https://localhost:8080/"
        },
        "id": "bae64f6b",
        "outputId": "a3868d27-a51f-4437-ca2d-077ff9484ec4"
      },
      "outputs": [
        {
          "output_type": "stream",
          "name": "stdout",
          "text": [
            "2.8.2\n"
          ]
        }
      ],
      "source": [
        "import tensorflow as tf\n",
        "import numpy as np\n",
        "\n",
        "print(tf.__version__)"
      ]
    },
    {
      "cell_type": "code",
      "execution_count": null,
      "id": "ebdb04ec",
      "metadata": {
        "colab": {
          "base_uri": "https://localhost:8080/"
        },
        "id": "ebdb04ec",
        "outputId": "601b5ade-377d-43a9-bb57-105257b185c6"
      },
      "outputs": [
        {
          "output_type": "stream",
          "name": "stdout",
          "text": [
            "    0 |   10187.6270\n",
            "   50 |     140.5898\n",
            "  100 |      29.0406\n",
            "  150 |      27.7368\n",
            "  200 |      27.6563\n",
            "  250 |      27.5897\n",
            "  300 |      27.5234\n",
            "  350 |      27.4572\n",
            "  400 |      27.3913\n",
            "  450 |      27.3254\n",
            "  500 |      27.2598\n",
            "  550 |      27.1944\n",
            "  600 |      27.1291\n",
            "  650 |      27.0640\n",
            "  700 |      26.9992\n",
            "  750 |      26.9344\n",
            "  800 |      26.8699\n",
            "  850 |      26.8055\n",
            "  900 |      26.7414\n",
            "  950 |      26.6774\n",
            " 1000 |      26.6136\n"
          ]
        }
      ],
      "source": [
        "# data and label\n",
        "x1 = [ 73.,  93.,  89.,  96.,  73.]\n",
        "x2 = [ 80.,  88.,  91.,  98.,  66.]\n",
        "x3 = [ 75.,  93.,  90., 100.,  70.]\n",
        "Y  = [152., 185., 180., 196., 142.]\n",
        "\n",
        "# random weights\n",
        "w1 = tf.Variable(tf.random.normal([1]))\n",
        "w2 = tf.Variable(tf.random.normal([1]))\n",
        "w3 = tf.Variable(tf.random.normal([1]))\n",
        "b  = tf.Variable(tf.random.normal([1]))\n",
        "\n",
        "learning_rate = 0.000001\n",
        "\n",
        "for i in range(1000+1):\n",
        "    # tf.GradientTape() to record the gradient of the cost function\n",
        "    with tf.GradientTape() as tape:\n",
        "        hypothesis = w1 * x1 +  w2 * x2 + w3 * x3 + b\n",
        "        cost = tf.reduce_mean(tf.square(hypothesis - Y))\n",
        "    # calculates the gradients of the cost\n",
        "    w1_grad, w2_grad, w3_grad, b_grad = tape.gradient(cost, [w1, w2, w3, b])\n",
        "    \n",
        "    # update w1,w2,w3 and b\n",
        "    w1.assign_sub(learning_rate * w1_grad)\n",
        "    w2.assign_sub(learning_rate * w2_grad)\n",
        "    w3.assign_sub(learning_rate * w3_grad)\n",
        "    b.assign_sub(learning_rate * b_grad)\n",
        "\n",
        "    if i % 50 == 0:\n",
        "      print(\"{:5} | {:12.4f}\".format(i, cost.numpy()))"
      ]
    },
    {
      "cell_type": "code",
      "execution_count": null,
      "id": "990ced32",
      "metadata": {
        "colab": {
          "base_uri": "https://localhost:8080/"
        },
        "id": "990ced32",
        "outputId": "44533166-c6a0-4722-cfe5-c50027b39f9f"
      },
      "outputs": [
        {
          "output_type": "stream",
          "name": "stdout",
          "text": [
            "epoch | cost\n",
            "    0 | 37361.2617\n",
            "  100 |     9.1569\n",
            "  200 |     4.5344\n",
            "  300 |     4.5104\n",
            "  400 |     4.4870\n",
            "  500 |     4.4638\n",
            "  600 |     4.4408\n",
            "  700 |     4.4178\n",
            "  800 |     4.3950\n",
            "  900 |     4.3723\n",
            " 1000 |     4.3497\n",
            " 1100 |     4.3272\n",
            " 1200 |     4.3049\n",
            " 1300 |     4.2827\n",
            " 1400 |     4.2606\n",
            " 1500 |     4.2386\n",
            " 1600 |     4.2168\n",
            " 1700 |     4.1950\n",
            " 1800 |     4.1734\n",
            " 1900 |     4.1519\n",
            " 2000 |     4.1305\n"
          ]
        }
      ],
      "source": [
        "data = np.array([\n",
        "    # X1,   X2,    X3,   y\n",
        "    [ 73.,  80.,  75., 152. ],\n",
        "    [ 93.,  88.,  93., 185. ],\n",
        "    [ 89.,  91.,  90., 180. ],\n",
        "    [ 96.,  98., 100., 196. ],\n",
        "    [ 73.,  66.,  70., 142. ]\n",
        "], dtype=np.float32)\n",
        "\n",
        "# slice data\n",
        "X = data[:, :-1]\n",
        "y = data[:, [-1]]\n",
        "\n",
        "W = tf.Variable(tf.random.normal((3, 1)))\n",
        "b = tf.Variable(tf.random.normal((1,)))\n",
        "\n",
        "learning_rate = 0.000001\n",
        "\n",
        "# hypothesis, prediction function\n",
        "def predict(X):\n",
        "    return tf.matmul(X, W) + b\n",
        "\n",
        "print(\"epoch | cost\")\n",
        "\n",
        "n_epochs = 2000\n",
        "for i in range(n_epochs+1):\n",
        "    # tf.GradientTape() to record the gradient of the cost function\n",
        "    with tf.GradientTape() as tape:\n",
        "        cost = tf.reduce_mean((tf.square(predict(X) - y)))\n",
        "\n",
        "    # calculates the gradients of the loss\n",
        "    W_grad, b_grad = tape.gradient(cost, [W, b])\n",
        "\n",
        "    # updates parameters (W and b)\n",
        "    W.assign_sub(learning_rate * W_grad)\n",
        "    b.assign_sub(learning_rate * b_grad)\n",
        "    \n",
        "    if i % 100 == 0:\n",
        "        print(\"{:5} | {:10.4f}\".format(i, cost.numpy()))"
      ]
    },
    {
      "cell_type": "markdown",
      "id": "44a7aeec",
      "metadata": {
        "id": "44a7aeec"
      },
      "source": [
        "# 05 Logistic Regression\n",
        "## What is Logistic Regression?\n",
        "### Logistic vs Linear\n",
        "- 구분된 데이터와 연속적인 데이터\n",
        "![image.png](attachment:image.png)\n",
        "```\n",
        "Logistic_Y = [[0], [0],[0],[1],[1],[1]]\n",
        "Linear_Y = [828.659973, 833.450012, 819.23999, 828.349976] #Numeric\n",
        "```\n",
        "\n",
        "## How to solve?\n",
        "### Hypothesis Representation\n",
        "- Linear가 아닌 형태로 표현해야 함\n",
        "```\n",
        "hypothesis=tf.matmul(X, Θ) + b #linear Θ is an [1xn+1] matrix / Θ are parameters\n",
        "```\n",
        "- ![image-2.png](attachment:image-2.png)\n",
        "\n",
        "### Sigmoid/Logistic Function\n",
        "$$ g(z) = 1/(1+e^{-z}) $$ \n",
        "```\n",
        "hypothesis = tf.sigmoid(z)\n",
        "hypothesis = tf.div(1., 1.+ tf.exp(z))\n",
        "```\n",
        "![image-3.png](attachment:image-3.png)\n",
        "\n",
        "### Decision Boundary\n",
        "- Decision Boundary를 결정\n",
        "```\n",
        "predicted = tf.cast(hypothesis > 0.5, dtype=tf.int32)\n",
        "```\n",
        "\n",
        "### Cost Function\n",
        "- 학습을 통해서 최적의 모델을 찾아야 함\n",
        "- h(x) = y then Cost = 0\n",
        "$$ cost(h(x),y) = -ylog(h(x)) - (1-y)log(1-h(x)) $$\n",
        "```\n",
        "def loss_fn(hypothesis, labels):\n",
        "    cost = -tf.reduce_mean(labels * tf.log(hypothesis) + (1-lables) * tf.log(1-hypothesis))\n",
        "    return cost\n",
        "```\n",
        "\n",
        "### Optimizer (Gradient Descent)\n",
        "- How to minimize the cost function?\n",
        "```\n",
        "def grad(hypothesis, label):\n",
        "    with tf.GradientTape90 as tape:\n",
        "        loss_value = loss_fn(hypothesis, labels)\n",
        "    return tape.gradient(loss_value, [W, b])\n",
        "optimizer = tf.train.GradientDescentOptimizer(learning_rate=0.01)\n",
        "optimizer.apply_gradients(grads_and_vars=zip(grads, [W, b]))\n",
        "```"
      ]
    },
    {
      "cell_type": "code",
      "execution_count": null,
      "id": "bb4bc200",
      "metadata": {
        "colab": {
          "base_uri": "https://localhost:8080/"
        },
        "id": "bb4bc200",
        "outputId": "49a3da84-20ee-4f8d-c8cd-34a22755da0c"
      },
      "outputs": [
        {
          "output_type": "stream",
          "name": "stdout",
          "text": [
            "2.8.2\n"
          ]
        }
      ],
      "source": [
        "import numpy as np\n",
        "import matplotlib.pyplot as plt\n",
        "%matplotlib inline\n",
        "import tensorflow as tf\n",
        "\n",
        "tf.random.set_seed(777)  # for reproducibility\n",
        "print(tf.__version__)"
      ]
    },
    {
      "cell_type": "code",
      "execution_count": null,
      "id": "c968343b",
      "metadata": {
        "colab": {
          "base_uri": "https://localhost:8080/",
          "height": 279
        },
        "id": "c968343b",
        "outputId": "0b982dfd-0b89-4e38-e1b8-6bd07c6a45a0"
      },
      "outputs": [
        {
          "output_type": "display_data",
          "data": {
            "text/plain": [
              "<Figure size 432x288 with 1 Axes>"
            ],
            "image/png": "[encoded data removed]"
          },
          "metadata": {
            "needs_background": "light"
          }
        }
      ],
      "source": [
        "x_train = [[1., 2.],\n",
        "          [2., 3.],\n",
        "          [3., 1.],\n",
        "          [4., 3.],\n",
        "          [5., 3.],\n",
        "          [6., 2.]]\n",
        "y_train = [[0.],\n",
        "          [0.],\n",
        "          [0.],\n",
        "          [1.],\n",
        "          [1.],\n",
        "          [1.]]\n",
        "\n",
        "x_test = [[5.,2.]]\n",
        "y_test = [[1.]]\n",
        "\n",
        "\n",
        "x1 = [x[0] for x in x_train]\n",
        "x2 = [x[1] for x in x_train]\n",
        "\n",
        "colors = [int(y[0] % 3) for y in y_train]\n",
        "plt.scatter(x1,x2, c=colors , marker='^')\n",
        "plt.scatter(x_test[0][0],x_test[0][1], c=\"red\")\n",
        "\n",
        "plt.xlabel(\"x1\")\n",
        "plt.ylabel(\"x2\")\n",
        "plt.show()"
      ]
    },
    {
      "cell_type": "code",
      "execution_count": null,
      "id": "c01a43b9",
      "metadata": {
        "colab": {
          "base_uri": "https://localhost:8080/"
        },
        "id": "c01a43b9",
        "outputId": "f51bfb85-cb70-4672-d610-8fb3592076b6"
      },
      "outputs": [
        {
          "output_type": "stream",
          "name": "stdout",
          "text": [
            "Iter: 0, Loss: 0.6874\n",
            "Iter: 100, Loss: 0.5776\n",
            "Iter: 200, Loss: 0.5349\n",
            "Iter: 300, Loss: 0.5054\n",
            "Iter: 400, Loss: 0.4838\n",
            "Iter: 500, Loss: 0.4671\n",
            "Iter: 600, Loss: 0.4535\n",
            "Iter: 700, Loss: 0.4420\n",
            "Iter: 800, Loss: 0.4319\n",
            "Iter: 900, Loss: 0.4228\n",
            "Iter: 1000, Loss: 0.4144\n",
            "Testset Accuracy: 1.0000\n"
          ]
        }
      ],
      "source": [
        "dataset = tf.data.Dataset.from_tensor_slices((x_train, y_train)).batch(len(x_train))#.repeat()\n",
        "\n",
        "W = tf.Variable(tf.zeros([2,1]), name='weight')\n",
        "b = tf.Variable(tf.zeros([1]), name='bias')\n",
        "\n",
        "def logistic_regression(features):\n",
        "    hypothesis  = tf.divide(1., 1. + tf.exp(tf.matmul(features, W) + b))\n",
        "    return hypothesis\n",
        "\n",
        "def loss_fn(hypothesis, features, labels):\n",
        "    cost = -tf.reduce_mean(labels * tf.math.log(logistic_regression(features)) + (1 - labels) * tf.math.log(1 - hypothesis))\n",
        "    return cost\n",
        "\n",
        "optimizer = tf.keras.optimizers.SGD(learning_rate=0.01)\n",
        "\n",
        "def accuracy_fn(hypothesis, labels):\n",
        "    predicted = tf.cast(hypothesis > 0.5, dtype=tf.float32)\n",
        "    accuracy = tf.reduce_mean(tf.cast(tf.equal(predicted, labels), dtype=tf.int32))\n",
        "    return accuracy\n",
        "\n",
        "def grad(features, labels):\n",
        "    with tf.GradientTape() as tape:\n",
        "        loss_value = loss_fn(logistic_regression(features),features,labels)\n",
        "    return tape.gradient(loss_value, [W,b])\n",
        "\n",
        "EPOCHS = 1001\n",
        "\n",
        "for step in range(EPOCHS):\n",
        "    for features, labels  in iter(dataset):\n",
        "        grads = grad(features, labels)\n",
        "        optimizer.apply_gradients(grads_and_vars=zip(grads,[W,b]))\n",
        "        if step % 100 == 0:\n",
        "            print(\"Iter: {}, Loss: {:.4f}\".format(step, loss_fn(logistic_regression(features),features,labels)))\n",
        "test_acc = accuracy_fn(logistic_regression(x_test),y_test)\n",
        "print(\"Testset Accuracy: {:.4f}\".format(test_acc))"
      ]
    }
  ],
  "metadata": {
    "kernelspec": {
      "display_name": "Python 3 (ipykernel)",
      "language": "python",
      "name": "python3"
    },
    "language_info": {
      "codemirror_mode": {
        "name": "ipython",
        "version": 3
      },
      "file_extension": ".py",
      "mimetype": "text/x-python",
      "name": "python",
      "nbconvert_exporter": "python",
      "pygments_lexer": "ipython3",
      "version": "3.9.13"
    },
    "colab": {
      "provenance": [],
      "collapsed_sections": []
    }
  },
  "nbformat": 4,
  "nbformat_minor": 5
}