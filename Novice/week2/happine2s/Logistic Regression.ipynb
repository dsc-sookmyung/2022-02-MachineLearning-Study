{
 "cells": [
  {
   "cell_type": "code",
   "execution_count": 35,
   "id": "40374344",
   "metadata": {},
   "outputs": [],
   "source": [
    "import numpy as np\n",
    "import matplotlib.pyplot as plt\n",
    "%matplotlib inline\n",
    "import tensorflow as tf"
   ]
  },
  {
   "cell_type": "code",
   "execution_count": 36,
   "id": "fdcc8594",
   "metadata": {},
   "outputs": [
    {
     "data": {
      "image/png": "[encoded data removed]",
      "text/plain": [
       "<Figure size 640x480 with 1 Axes>"
      ]
     },
     "metadata": {},
     "output_type": "display_data"
    }
   ],
   "source": [
    "x_train=[\n",
    "    [1., 2.],\n",
    "    [2., 3.],\n",
    "    [3., 1.],\n",
    "    [4., 3.],\n",
    "    [5., 3.],\n",
    "    [6., 2.],\n",
    "]\n",
    "y_train=[\n",
    "    [0.], [0.], [0.],[1.],[1.],[1.] #x2를 y의 데이터를 통해 0과 1로 구분\n",
    "]\n",
    "x_test=[[5.,2.]]\n",
    "y_test=[[1.]]\n",
    "\n",
    "x1=[x[0] for x in x_train]\n",
    "x2=[x[1] for x in x_train]\n",
    "\n",
    "#그래프 그리기\n",
    "colors=[int(y[0]%3) for y in y_train]\n",
    "plt.scatter(x1,x2,c=colors, marker='^') #x축, y축, 색깔, 점 모양\n",
    "plt.scatter(x_test[0][0],x_test[0][1],c=\"red\") #Test 데이터는 빨간점 위치로 추론시 1의 값을 가짐\n",
    "\n",
    "plt.xlabel(\"x1\")\n",
    "plt.ylabel(\"x2\")\n",
    "plt.show()"
   ]
  },
  {
   "cell_type": "code",
   "execution_count": 26,
   "id": "ba7f9a86",
   "metadata": {},
   "outputs": [],
   "source": [
    "#tf 데이터셋에서 x_train과 y_train을 x_train의 길이 배치만큼 쪼갬\n",
    "dataset=tf.data.Dataset.from_tensor_slices((x_train, y_train)).batch(len(x_train))\n",
    "\n",
    "W=tf.Variable(tf.zeros([2,1]),name='weight') #x_train은 2행 1열이기 때문에 텐서 쉐이프를 [2,1]로 지정\n",
    "b=tf.Variable(tf.zeros([1]),name='bias')\n",
    "EPOCHS=3000"
   ]
  },
  {
   "cell_type": "code",
   "execution_count": null,
   "id": "7f6c104b",
   "metadata": {},
   "outputs": [],
   "source": [
    "#Hypothesis Representation과 Sigmoid/Logistic Function 구현\n",
    "def logistic_regression(features):\n",
    "    #tf.matmul(features, W) + b): Linear 값\n",
    "    #tf.exp: Sigmoid 함수\n",
    "    hypothesis  = tf.divide(1., 1. + tf.exp(tf.matmul(features, W) + b))\n",
    "    return hypothesis"
   ]
  },
  {
   "cell_type": "code",
   "execution_count": 34,
   "id": "6fa8fddf",
   "metadata": {},
   "outputs": [],
   "source": [
    "#Cost Function 구현\n",
    "def loss_fn(hypothesis, features, labels): #cost(h0,(x),y) 함수, x를 features로 정의\n",
    "    hypothesis = logistic_regression(features) #h0 구하기\n",
    "    cost = -tf.reduce_mean(labels * tf.math.log(logistic_regression(features)) + (1 - labels) * tf.math.log(1 - hypothesis)) #cost함수 값 구하기\n",
    "    return cost"
   ]
  },
  {
   "cell_type": "code",
   "execution_count": null,
   "id": "2fe8173f",
   "metadata": {},
   "outputs": [],
   "source": [
    "#Optimizer 구현: convex한 cost을 최소화시키기\n",
    "def grad(hypothesis, features, labels):\n",
    "    with tf.GradientTape() as tape:\n",
    "        loss_value = loss_fn(logistic_regression(features),features,labels)\n",
    "    return tape.gradient(loss_value, [W,b]) #cost함수 그래프의 기울기 값 업데이트\n",
    "\n",
    "optimizer = tf.keras.optimizers.SGD(learning_rate=0.01)"
   ]
  },
  {
   "cell_type": "code",
   "execution_count": 33,
   "id": "92345fc0",
   "metadata": {},
   "outputs": [
    {
     "name": "stdout",
     "output_type": "stream",
     "text": [
      "Iter: 0, Loss: 0.1284\n",
      "Iter: 100, Loss: 0.1276\n",
      "Iter: 200, Loss: 0.1267\n",
      "Iter: 300, Loss: 0.1259\n",
      "Iter: 400, Loss: 0.1252\n",
      "Iter: 500, Loss: 0.1244\n",
      "Iter: 600, Loss: 0.1236\n",
      "Iter: 700, Loss: 0.1228\n",
      "Iter: 800, Loss: 0.1221\n",
      "Iter: 900, Loss: 0.1213\n",
      "Iter: 1000, Loss: 0.1206\n",
      "Iter: 1100, Loss: 0.1199\n",
      "Iter: 1200, Loss: 0.1192\n",
      "Iter: 1300, Loss: 0.1185\n",
      "Iter: 1400, Loss: 0.1178\n",
      "Iter: 1500, Loss: 0.1171\n",
      "Iter: 1600, Loss: 0.1164\n",
      "Iter: 1700, Loss: 0.1157\n",
      "Iter: 1800, Loss: 0.1151\n",
      "Iter: 1900, Loss: 0.1144\n",
      "Iter: 2000, Loss: 0.1138\n",
      "Iter: 2100, Loss: 0.1131\n",
      "Iter: 2200, Loss: 0.1125\n",
      "Iter: 2300, Loss: 0.1119\n",
      "Iter: 2400, Loss: 0.1112\n",
      "Iter: 2500, Loss: 0.1106\n",
      "Iter: 2600, Loss: 0.1100\n",
      "Iter: 2700, Loss: 0.1094\n",
      "Iter: 2800, Loss: 0.1088\n",
      "Iter: 2900, Loss: 0.1082\n",
      "Iter: 3000, Loss: 0.1077\n"
     ]
    }
   ],
   "source": [
    "#데이터 학습\n",
    "for step in range(EPOCHS+1): #1 epoch 당 6 iteration\n",
    "    for features, labels  in iter(dataset):\n",
    "        grads = grad(logistic_regression(features), features, labels)\n",
    "        optimizer.apply_gradients(grads_and_vars=zip(grads,[W,b])) #cost 최솟값 업데이트\n",
    "        if step % 100 == 0:\n",
    "            print(\"Iter: {}, Loss: {:.4f}\".format(step, loss_fn(logistic_regression(features),features,labels)))"
   ]
  },
  {
   "cell_type": "code",
   "execution_count": 37,
   "id": "37168872",
   "metadata": {},
   "outputs": [
    {
     "name": "stdout",
     "output_type": "stream",
     "text": [
      "tf.Tensor(1, shape=(), dtype=int32)\n"
     ]
    }
   ],
   "source": [
    "#새로운 데이터로 확인\n",
    "def accuracy_fn(hypothesis, labels):\n",
    "    predicted=tf.cast(hypothesis>0.5, dtype=tf.float32) #0.5: Decision Boundary\n",
    "    accuracy=tf.reduce_mean(tf.cast(tf.equal(predicted, labels), dtype=tf.int32))\n",
    "    return accuracy\n",
    "\n",
    "test_acc=accuracy_fn(logistic_regression(x_test),y_test)\n",
    "print(test_acc)"
   ]
  }
 ],
 "metadata": {
  "kernelspec": {
   "display_name": "Python [conda env:TF_study] *",
   "language": "python",
   "name": "conda-env-TF_study-py"
  },
  "language_info": {
   "codemirror_mode": {
    "name": "ipython",
    "version": 3
   },
   "file_extension": ".py",
   "mimetype": "text/x-python",
   "name": "python",
   "nbconvert_exporter": "python",
   "pygments_lexer": "ipython3",
   "version": "3.10.4"
  }
 },
 "nbformat": 4,
 "nbformat_minor": 5
}
