{
 "cells": [
  {
   "cell_type": "markdown",
   "id": "34b3c107",
   "metadata": {},
   "source": [
    "[강의 정리 링크](https://sooking87.github.io/gdsc%20ml/gdsc-ml-2/)"
   ]
  },
  {
   "cell_type": "code",
   "execution_count": 1,
   "id": "2ff4886b",
   "metadata": {},
   "outputs": [
    {
     "name": "stdout",
     "output_type": "stream",
     "text": [
      "    0 |   21359.2578\n",
      "   50 |     245.4268\n",
      "  100 |      11.1252\n",
      "  150 |       8.5033\n",
      "  200 |       8.4521\n",
      "  250 |       8.4294\n",
      "  300 |       8.4072\n",
      "  350 |       8.3851\n",
      "  400 |       8.3629\n",
      "  450 |       8.3410\n",
      "  500 |       8.3189\n",
      "  550 |       8.2970\n",
      "  600 |       8.2751\n",
      "  650 |       8.2533\n",
      "  700 |       8.2315\n",
      "  750 |       8.2098\n",
      "  800 |       8.1882\n",
      "  850 |       8.1667\n",
      "  900 |       8.1451\n",
      "  950 |       8.1236\n",
      " 1000 |       8.1022\n"
     ]
    }
   ],
   "source": [
    "# Multi variable linear regression with no matrix\n",
    "import tensorflow as tf\n",
    "\n",
    "# data and label\n",
    "x1 = [73., 93., 89., 96., 73]\n",
    "x2 = [80., 88.,91., 98., 66.]\n",
    "x3 = [75., 93., 90., 100., 70.]\n",
    "Y = [152., 185., 180., 196., 142.]\n",
    "\n",
    "# weights\n",
    "w1 = tf.Variable(tf.random.normal([1]))\n",
    "w2 = tf.Variable(tf.random.normal([1]))\n",
    "w3 = tf.Variable(tf.random.normal([1]))\n",
    "b = tf.Variable(tf.random.normal([1]))\n",
    "\n",
    "learning_rate = 0.000001\n",
    "\n",
    "hypothesis = w1 * x1 + w2 * x2 + w3 * x3 + b\n",
    "\n",
    "for i in range(1000+1):\n",
    "    # tf.GradientTape() to record the gradient of the cost function\n",
    "    with tf.GradientTape() as tape:\n",
    "        hypothesis = w1 * x1 + w2 * x2 + w3 * x3 + b\n",
    "        cost = tf.reduce_mean(tf.square(hypothesis - Y))\n",
    "    # calculates the gradients of the cost    \n",
    "    w1_grad, w2_grad, w3_grad, b_grad = tape.gradient(cost, [w1, w2, w3, b])\n",
    "    \n",
    "    # update w1, w2, w3 and b\n",
    "    w1.assign_sub(learning_rate * w1_grad)\n",
    "    w2.assign_sub(learning_rate * w2_grad)\n",
    "    w3.assign_sub(learning_rate * w3_grad)\n",
    "    b.assign_sub(learning_rate * b_grad)\n",
    "    \n",
    "    if i % 50 == 0:\n",
    "        print(\"{:5} | {:12.4f}\".format(i, cost.numpy()))"
   ]
  },
  {
   "cell_type": "code",
   "execution_count": 16,
   "metadata": {},
   "outputs": [
    {
     "name": "stdout",
     "output_type": "stream",
     "text": [
      "    0 | 33753.4961\n",
      "  100 |    14.9227\n",
      "  200 |    10.7120\n",
      "  300 |    10.6551\n",
      "  400 |    10.5989\n",
      "  500 |    10.5431\n",
      "  600 |    10.4877\n",
      "  700 |    10.4324\n",
      "  800 |    10.3776\n",
      "  900 |    10.3230\n",
      " 1000 |    10.2687\n",
      " 1100 |    10.2147\n",
      " 1200 |    10.1609\n",
      " 1300 |    10.1075\n",
      " 1400 |    10.0543\n",
      " 1500 |    10.0015\n",
      " 1600 |     9.9489\n",
      " 1700 |     9.8966\n",
      " 1800 |     9.8447\n",
      " 1900 |     9.7929\n",
      " 2000 |     9.7415\n"
     ]
    }
   ],
   "source": [
    "# Multi variable linear regression with matrix\n",
    "import numpy as np\n",
    "\n",
    "data = np.array([\n",
    "    # x1, x2, x3, y\n",
    "    [73., 80., 75., 152.],\n",
    "    [93., 88., 93., 185.],\n",
    "    [89., 91., 90., 180.],\n",
    "    [96., 98., 100., 196.],\n",
    "    [73., 66., 70., 142.],\n",
    "], dtype=np.float32)\n",
    "\n",
    "# slice data\n",
    "X = data[:, :-1]\n",
    "y = data[:, [-1]]\n",
    "\n",
    "# 가중치의 경우 칼럼이 3개(x1, x2, x3)니까 행은 3개가 필요하고, 결과값은 1개니까 열 개수는 1개가 필요하다. \n",
    "W = tf.Variable(tf.random.normal([3, 1]))\n",
    "b = tf.Variable(tf.random.normal([1]))\n",
    "\n",
    "learning_data = 0.000001\n",
    "\n",
    "def predict(X):\n",
    "    return tf.matmul(X, W) + b\n",
    "\n",
    "n_epochs = 2000\n",
    "for i in range(n_epochs + 1):\n",
    "    # record the gradient of the cost function\n",
    "    with tf.GradientTape() as tape:\n",
    "        cost = tf.reduce_mean((tf.square(predict(X) - y)))\n",
    "        \n",
    "    # calculates the gradients of the loss \n",
    "    # cost 함수에 대해서 변수들에 대한 개별 기울기값을 튜플로 반환\n",
    "    W_grad, b_grad = tape.gradient(cost, [W, b])\n",
    "    \n",
    "    # updates parameters (W and b)\n",
    "    W.assign_sub(learning_rate * W_grad)\n",
    "    b.assign_sub(learning_rate * b_grad)\n",
    "    \n",
    "    if i % 100 == 0:\n",
    "        print(\"{:5} | {:10.4f}\".format(i, cost.numpy()))\n",
    "       \n",
    "        \n"
   ]
  }
 ],
 "metadata": {
  "kernelspec": {
   "display_name": "Python 3.10.5 64-bit",
   "language": "python",
   "name": "python3"
  },
  "language_info": {
   "codemirror_mode": {
    "name": "ipython",
    "version": 3
   },
   "file_extension": ".py",
   "mimetype": "text/x-python",
   "name": "python",
   "nbconvert_exporter": "python",
   "pygments_lexer": "ipython3",
   "version": "3.10.5"
  },
  "vscode": {
   "interpreter": {
    "hash": "35e0334895c7257ffa902a82750dbe09ec85e290cbc1321a3819ebf1c9410545"
   }
  }
 },
 "nbformat": 4,
 "nbformat_minor": 5
}
