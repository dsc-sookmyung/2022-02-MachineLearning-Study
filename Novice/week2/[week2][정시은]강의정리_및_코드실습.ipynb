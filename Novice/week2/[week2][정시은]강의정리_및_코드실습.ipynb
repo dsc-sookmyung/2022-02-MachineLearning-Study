{
 "cells": [
  {
   "cell_type": "markdown",
   "id": "23234de1",
   "metadata": {},
   "source": [
    "### 다변수 선형회귀 Multi variable linear regression\n",
    "\n",
    "- hypothesis 변수가 여러개일때 가중치의 개수 늘어남-> matrix 사용\n",
    "- 내적(dot product) 사용 \n",
    "- 텐서플로우 표현: H(X)= XW\n",
    "- X[n,m] * W[m,k] = [n,k]\n"
   ]
  },
  {
   "cell_type": "code",
   "execution_count": 5,
   "id": "6b698a3f",
   "metadata": {},
   "outputs": [],
   "source": [
    "import tensorflow as tf\n",
    "import numpy as np"
   ]
  },
  {
   "cell_type": "code",
   "execution_count": 6,
   "id": "ebcc9ce0",
   "metadata": {},
   "outputs": [],
   "source": [
    "data= np.array([\n",
    "    #x1,x2,x3,y\n",
    "    [73.,80.,75.,152.],\n",
    "    [93.,88.,93.,185.],\n",
    "    [89.,91.,90.,180.],\n",
    "    [96.,98.,100.,196.],\n",
    "    [73.,66.,70.,142.]\n",
    "],dtype=np.float32)"
   ]
  },
  {
   "cell_type": "code",
   "execution_count": 7,
   "id": "1e8a6984",
   "metadata": {},
   "outputs": [],
   "source": [
    "#slice data\n",
    "X= data[:,:-1]\n",
    "y= data[:,[-1]]"
   ]
  },
  {
   "cell_type": "code",
   "execution_count": 8,
   "id": "a9d49713",
   "metadata": {},
   "outputs": [],
   "source": [
    "#matrix 이용\n",
    "W= tf.Variable(tf.random.normal([3,1])) #변수의 개수는 3개, 출력은 하나\n",
    "b= tf.Variable(tf.random.normal([1]))\n",
    "learning_rate=0.000001"
   ]
  },
  {
   "cell_type": "code",
   "execution_count": 9,
   "id": "28bb176e",
   "metadata": {},
   "outputs": [
    {
     "name": "stdout",
     "output_type": "stream",
     "text": [
      "    0 | 32941.7422\n",
      "  100 |     5.5545\n",
      "  200 |     1.4987\n",
      "  300 |     1.4976\n",
      "  400 |     1.4969\n",
      "  500 |     1.4963\n",
      "  600 |     1.4957\n",
      "  700 |     1.4950\n",
      "  800 |     1.4944\n",
      "  900 |     1.4937\n",
      " 1000 |     1.4931\n",
      " 1100 |     1.4925\n",
      " 1200 |     1.4918\n",
      " 1300 |     1.4912\n",
      " 1400 |     1.4905\n",
      " 1500 |     1.4899\n",
      " 1600 |     1.4893\n",
      " 1700 |     1.4886\n",
      " 1800 |     1.4880\n",
      " 1900 |     1.4874\n",
      " 2000 |     1.4867\n"
     ]
    }
   ],
   "source": [
    "#hypothesis, prediction function\n",
    "def predict(X):\n",
    "    return tf.matmul(X,W)+b\n",
    "\n",
    "n_epochs= 2000\n",
    "for i in range(n_epochs+1):\n",
    "    #record the gradient of the cost function\n",
    "    with tf.GradientTape() as tape:\n",
    "        cost= tf.reduce_mean((tf.square(predict(X)-y)))\n",
    "        #오차제곱의 평균 구함\n",
    "        \n",
    "    #오차의 가중치를 테이프에 기록\n",
    "    W_grad, b_grad= tape.gradient(cost,[W,b])\n",
    "    \n",
    "    #업데이트해줌\n",
    "    W.assign_sub(learning_rate*W_grad)\n",
    "    b.assign_sub(learning_rate*b_grad)\n",
    "    \n",
    "    if i%100==0:\n",
    "        print(\"{:5} | {:10.4f}\".format(i, cost.numpy()))\n",
    "    "
   ]
  },
  {
   "cell_type": "markdown",
   "id": "addd2f2d",
   "metadata": {},
   "source": [
    "### 로지스틱 회귀 Logistic Regression\n",
    "1. What is logistic regression\n",
    "- classification : [0:positive/1:negative] -> 원핫인코딩 \n",
    "- logistic vs linear : logistic 은 데이터가 구분됨, linear는 연속적인 수치형 데이터\n",
    "2. How to solve?\n",
    "- hypothesis representation : linear 한 값을 logistic function(g function) 을 통해 0과 1로 구분\n",
    "- sigmoid/logistic function : linear regression 을 통해 나온 실수 z 값을 시그모이드를 통해서 0과 1로 표현할수있음\n",
    "- decision boundary : 0.5보다 크면 1, 0.5 보다 작으면 0 -> 0.5가 decision boundary 임, 구간을 정해주는 기준\n",
    "- cost function : random하게 만들어지는 parameter를 최적화하는것, log 함수이용하면 convex한 형태로 표현가능\n",
    "- optimizer(gradient descent) : 어떻게 cost 함수를 최소화하는 방법"
   ]
  },
  {
   "cell_type": "code",
   "execution_count": 10,
   "id": "abcde464",
   "metadata": {},
   "outputs": [],
   "source": [
    "x_train= np.array([\n",
    "    [1,2],\n",
    "    [2,3],\n",
    "    [3,1],\n",
    "    [4,3],\n",
    "    [5,3],\n",
    "    [6,2]\n",
    "], dtype=np.float32)\n",
    "y_train= np.array([\n",
    "    [0],\n",
    "    [0],\n",
    "    [0],\n",
    "    [1],\n",
    "    [1],\n",
    "    [1]\n",
    "], dtype= np.float32)"
   ]
  },
  {
   "cell_type": "code",
   "execution_count": 11,
   "id": "9063fd18",
   "metadata": {},
   "outputs": [],
   "source": [
    "x_test= np.array([[5,2]],dtype=np.float32)\n",
    "y_test= np.array([[1]],dtype=np.float32)"
   ]
  },
  {
   "cell_type": "code",
   "execution_count": 12,
   "id": "5ee9a844",
   "metadata": {},
   "outputs": [],
   "source": [
    "dataset= tf.data.Dataset.from_tensor_slices((x_train,y_train)).batch(len(x_train))\n",
    "W= tf.Variable(tf.zeros([2,1]),name='weight')\n",
    "b= tf.Variable(tf.zeros([1]),name='bias')"
   ]
  },
  {
   "cell_type": "code",
   "execution_count": 13,
   "id": "9c91ad03",
   "metadata": {},
   "outputs": [
    {
     "data": {
      "text/plain": [
       "(TensorSpec(shape=(None, 2), dtype=tf.float32, name=None),\n",
       " TensorSpec(shape=(None, 1), dtype=tf.float32, name=None))"
      ]
     },
     "execution_count": 13,
     "metadata": {},
     "output_type": "execute_result"
    }
   ],
   "source": [
    "#원소의 자료구조 반환\n",
    "dataset.element_spec"
   ]
  },
  {
   "cell_type": "code",
   "execution_count": 14,
   "id": "cce61345",
   "metadata": {},
   "outputs": [],
   "source": [
    "def logistic_regression(features):\n",
    "    hypothesis= tf.sigmoid(tf.matmul(features,W)+b)\n",
    "    return hypothesis"
   ]
  },
  {
   "cell_type": "code",
   "execution_count": 15,
   "id": "6326dedd",
   "metadata": {},
   "outputs": [],
   "source": [
    "def loss_fn(features, labels):\n",
    "    hypothesis= logistic_regression(features)\n",
    "    cost= -tf.reduce_mean(labels*tf.math.log(hypothesis)+(1-labels)*tf.math.log(1-hypothesis))\n",
    "    return cost"
   ]
  },
  {
   "cell_type": "code",
   "execution_count": 16,
   "id": "0c490484",
   "metadata": {},
   "outputs": [],
   "source": [
    "def grad(hypothesis, features, labels):\n",
    "    with tf.GradientTape() as tape:\n",
    "        loss_value= loss_fn(features, labels)\n",
    "    return tape.gradient(loss_value,[W,b])"
   ]
  },
  {
   "cell_type": "code",
   "execution_count": 17,
   "id": "7bff4969",
   "metadata": {},
   "outputs": [],
   "source": [
    "optimizer= tf.keras.optimizers.SGD(learning_rate=0.01)\n",
    "epochs=3000"
   ]
  },
  {
   "cell_type": "code",
   "execution_count": 18,
   "id": "b870af54",
   "metadata": {},
   "outputs": [
    {
     "name": "stdout",
     "output_type": "stream",
     "text": [
      "iter:0, loss:0.6874\n",
      "iter:300, loss:0.5054\n",
      "iter:600, loss:0.4535\n",
      "iter:900, loss:0.4228\n",
      "iter:1200, loss:0.3992\n",
      "iter:1500, loss:0.3790\n",
      "iter:1800, loss:0.3608\n",
      "iter:2100, loss:0.3442\n",
      "iter:2400, loss:0.3288\n",
      "iter:2700, loss:0.3146\n",
      "iter:3000, loss:0.3013\n"
     ]
    }
   ],
   "source": [
    "for step in range(epochs+1):\n",
    "    for features, labels in iter(dataset):\n",
    "        hypothesis= logistic_regression(features)\n",
    "        grads= grad(hypothesis,features,labels)\n",
    "        optimizer.apply_gradients(grads_and_vars=zip(grads,[W,b]))\n",
    "        if step%300 == 0:\n",
    "            print(\"iter:{}, loss:{:.4f}\".format(step,loss_fn(features,labels)))"
   ]
  },
  {
   "cell_type": "code",
   "execution_count": 20,
   "id": "ad4e8bc1",
   "metadata": {},
   "outputs": [
    {
     "name": "stdout",
     "output_type": "stream",
     "text": [
      "accuracy:100%\n"
     ]
    }
   ],
   "source": [
    "def accuracy_fn(hypothesis,labels):\n",
    "    predicted= tf.cast(hypothesis>0.5,dtype=tf.float32)\n",
    "    accuracy= tf.reduce_mean(tf.cast(tf.equal(predicted,labels),dtype=tf.int32))\n",
    "    return accuracy\n",
    "\n",
    "test_acc= accuracy_fn(logistic_regression(x_test),y_test)\n",
    "print('accuracy:{}%'.format(test_acc*100))"
   ]
  },
  {
   "cell_type": "markdown",
   "id": "3b31fc08",
   "metadata": {},
   "source": [
    "정시은"
   ]
  },
  {
   "cell_type": "code",
   "execution_count": null,
   "id": "85c988ea",
   "metadata": {},
   "outputs": [],
   "source": []
  }
 ],
 "metadata": {
  "kernelspec": {
   "display_name": "Python 3 (ipykernel)",
   "language": "python",
   "name": "python3"
  },
  "language_info": {
   "codemirror_mode": {
    "name": "ipython",
    "version": 3
   },
   "file_extension": ".py",
   "mimetype": "text/x-python",
   "name": "python",
   "nbconvert_exporter": "python",
   "pygments_lexer": "ipython3",
   "version": "3.9.7"
  }
 },
 "nbformat": 4,
 "nbformat_minor": 5
}
