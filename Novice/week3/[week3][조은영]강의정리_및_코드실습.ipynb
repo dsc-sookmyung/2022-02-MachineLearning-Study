{
  "nbformat": 4,
  "nbformat_minor": 0,
  "metadata": {
    "colab": {
      "provenance": []
    },
    "kernelspec": {
      "name": "python3",
      "display_name": "Python 3"
    },
    "language_info": {
      "name": "python"
    }
  },
  "cells": [
    {
      "cell_type": "markdown",
      "source": [
        "# Softmax classification: Multinomial classification\n",
        "## Softmax\n",
        "$$ S(y_i) = \\frac{e^{y_i}}{\\sum_{j}e^{y_j}}$$\n",
        "- One-Hot Encoding\n",
        "\n",
        "## Cost function\n",
        "$$ D(S, L) = -\\sum_iL_i\\log(S_i) $$\n",
        "$$ = \\sum_iL_i\\times-log(y_i) $$\n",
        "\n"
      ],
      "metadata": {
        "id": "-wnHW9x6_Svs"
      }
    },
    {
      "cell_type": "code",
      "source": [
        "import tensorflow as tf\n",
        "import numpy as np\n",
        "\n",
        "x_data = [[1, 2, 1, 1],\n",
        "          [2, 1, 3, 2],\n",
        "          [3, 1, 3, 4],\n",
        "          [4, 1, 5, 5],\n",
        "          [1, 7, 5, 5],\n",
        "          [1, 2, 5, 6],\n",
        "          [1, 6, 6, 6],\n",
        "          [1, 7, 7, 7]]\n",
        "y_data = [[0, 0, 1],\n",
        "          [0, 0, 1],\n",
        "          [0, 0, 1],\n",
        "          [0, 1, 0],\n",
        "          [0, 1, 0],\n",
        "          [0, 1, 0],\n",
        "          [1, 0, 0],\n",
        "          [1, 0, 0]]\n",
        "\n",
        "#convert into numpy and float format\n",
        "x_data = np.asarray(x_data, dtype=np.float32)\n",
        "y_data = np.asarray(y_data, dtype=np.float32)\n",
        "\n",
        "#num classes\n",
        "nb_classes = 3\n",
        "\n",
        "#Weight and bias setting\n",
        "W = tf.Variable(tf.random.normal((4, nb_classes)), name='weight')\n",
        "b = tf.Variable(tf.random.normal((nb_classes,)), name='bias')\n",
        "variables = [W, b]\n",
        "\n",
        "sample_db = [[8,2,1,4]]\n",
        "sample_db = np.asarray(sample_db, dtype=np.float32)\n",
        "\n",
        "# tf.nn.softmax computes softmax activations\n",
        "# softmax = exp(logits) / reduce_sum(exp(logits), dim)\n",
        "def hypothesis(X):\n",
        "    return tf.nn.softmax(tf.matmul(X, W) + b)\n",
        "\n",
        "def cost_fn(X, Y):\n",
        "    logits = hypothesis(X)\n",
        "    cost = -tf.reduce_sum(Y * tf.math.log(logits), axis=1)\n",
        "    cost_mean = tf.reduce_mean(cost)\n",
        "    \n",
        "    return cost_mean\n",
        "\n",
        "def grad_fn(X, Y):\n",
        "    with tf.GradientTape() as tape:\n",
        "        loss = cost_fn(X, Y)\n",
        "        grads = tape.gradient(loss, variables)\n",
        "\n",
        "        return grads\n",
        "\n",
        "def fit(X, Y, epochs=2000, verbose=100):\n",
        "    optimizer =  tf.keras.optimizers.SGD(learning_rate=0.1)\n",
        "\n",
        "    for i in range(epochs):\n",
        "        grads = grad_fn(X, Y)\n",
        "        optimizer.apply_gradients(zip(grads, variables))\n",
        "        if (i==0) | ((i+1)%verbose==0):\n",
        "            print('Loss at epoch %d: %f' %(i+1, cost_fn(X, Y).numpy()))\n",
        "            \n",
        "fit(x_data, y_data)"
      ],
      "metadata": {
        "colab": {
          "base_uri": "https://localhost:8080/"
        },
        "id": "Jy2GOMHuJqSf",
        "outputId": "7a2f3cd8-f3fb-4c9c-da2e-605237951a64"
      },
      "execution_count": 10,
      "outputs": [
        {
          "output_type": "stream",
          "name": "stdout",
          "text": [
            "Loss at epoch 1: 3.216145\n",
            "Loss at epoch 100: 0.680034\n",
            "Loss at epoch 200: 0.597494\n",
            "Loss at epoch 300: 0.541869\n",
            "Loss at epoch 400: 0.496473\n",
            "Loss at epoch 500: 0.456460\n",
            "Loss at epoch 600: 0.419667\n",
            "Loss at epoch 700: 0.384725\n",
            "Loss at epoch 800: 0.350517\n",
            "Loss at epoch 900: 0.316028\n",
            "Loss at epoch 1000: 0.280555\n",
            "Loss at epoch 1100: 0.246620\n",
            "Loss at epoch 1200: 0.229420\n",
            "Loss at epoch 1300: 0.218568\n",
            "Loss at epoch 1400: 0.208656\n",
            "Loss at epoch 1500: 0.199564\n",
            "Loss at epoch 1600: 0.191197\n",
            "Loss at epoch 1700: 0.183473\n",
            "Loss at epoch 1800: 0.176322\n",
            "Loss at epoch 1900: 0.169685\n",
            "Loss at epoch 2000: 0.163510\n"
          ]
        }
      ]
    },
    {
      "cell_type": "code",
      "source": [
        "sample_data = [[2,1,3,2]] # answer_label [[0,0,1]]\n",
        "sample_data = np.asarray(sample_data, dtype=np.float32)\n",
        "\n",
        "a = hypothesis(sample_data)\n",
        "\n",
        "print(a)\n",
        "print(tf.argmax(a, 1)) #index: 2\n",
        "\n",
        "b = hypothesis(x_data)\n",
        "print(b)\n",
        "print(tf.argmax(b, 1))\n",
        "print(tf.argmax(y_data, 1)) # matches with y_data"
      ],
      "metadata": {
        "colab": {
          "base_uri": "https://localhost:8080/"
        },
        "id": "QWmIlbagMBY_",
        "outputId": "6c2eccce-770a-41a4-9b63-59d76f3270f3"
      },
      "execution_count": 12,
      "outputs": [
        {
          "output_type": "stream",
          "name": "stdout",
          "text": [
            "tf.Tensor(\n",
            "[[0.05484341 0.89765733 0.04749919]\n",
            " [0.05128267 0.9077265  0.04099078]\n",
            " [0.04755265 0.91751    0.03493747]\n",
            " [0.02524517 0.96539634 0.00935843]\n",
            " [0.03730619 0.9534999  0.00919393]\n",
            " [0.02885423 0.96316403 0.00798174]\n",
            " [0.08851133 0.89799076 0.01349787]\n",
            " [0.12119357 0.8633212  0.01548521]], shape=(8, 3), dtype=float32)\n",
            "tf.Tensor([1 1 1 1 1 1 1 1], shape=(8,), dtype=int64)\n",
            "tf.Tensor(\n",
            "[[4.4573816e-03 2.4084675e-01 7.5469589e-01]\n",
            " [5.1282674e-02 9.0772653e-01 4.0990781e-02]\n",
            " [2.3469377e-06 9.8353195e-01 1.6465705e-02]\n",
            " [2.8394020e-06 9.9984765e-01 1.4958532e-04]\n",
            " [6.4425015e-01 3.5574478e-01 5.0468789e-06]\n",
            " [3.8023913e-01 6.1976081e-01 4.1970171e-08]\n",
            " [9.7157156e-01 2.8428353e-02 8.5547134e-09]\n",
            " [9.9465632e-01 5.3436258e-03 1.1282447e-10]], shape=(8, 3), dtype=float32)\n",
            "tf.Tensor([2 1 1 1 0 1 0 0], shape=(8,), dtype=int64)\n",
            "tf.Tensor([2 2 2 1 1 1 0 0], shape=(8,), dtype=int64)\n"
          ]
        }
      ]
    },
    {
      "cell_type": "code",
      "source": [
        "import tensorflow as tf\n",
        "import numpy as np\n",
        "\n",
        "xy = np.loadtxt('data-04-zoo.csv', delimiter=',', dtype=np.float32)\n",
        "x_data = xy[:, 0:-1]\n",
        "y_data = xy[:, -1]\n",
        "\n",
        "nb_classes = 7  # 0 ~ 6\n",
        "\n",
        "# Make Y data as onehot shape\n",
        "Y_one_hot = tf.one_hot(y_data.astype(np.int32), nb_classes)\n",
        "\n",
        "print(x_data.shape, Y_one_hot.shape)"
      ],
      "metadata": {
        "colab": {
          "base_uri": "https://localhost:8080/"
        },
        "id": "cYdaoQ72MLcP",
        "outputId": "7fc23ecb-29ac-48e6-9531-97093377ea2d"
      },
      "execution_count": 14,
      "outputs": [
        {
          "output_type": "stream",
          "name": "stdout",
          "text": [
            "(101, 16) (101, 7)\n"
          ]
        }
      ]
    },
    {
      "cell_type": "code",
      "source": [
        "#Weight and bias setting\n",
        "W = tf.Variable(tf.random.normal((16, nb_classes)), name='weight')\n",
        "b = tf.Variable(tf.random.normal((nb_classes,)), name='bias')\n",
        "variables = [W, b]\n",
        "\n",
        "# tf.nn.softmax computes softmax activations\n",
        "# softmax = exp(logits) / reduce_sum(exp(logits), dim)\n",
        "def logit_fn(X):\n",
        "    return tf.matmul(X, W) + b\n",
        "\n",
        "def hypothesis(X):\n",
        "    return tf.nn.softmax(logit_fn(X))\n",
        "\n",
        "def cost_fn(X, Y):\n",
        "    logits = logit_fn(X)\n",
        "    cost_i = tf.keras.losses.categorical_crossentropy(y_true=Y, y_pred=logits, \n",
        "                                                      from_logits=True)    \n",
        "    cost = tf.reduce_mean(cost_i)    \n",
        "    return cost\n",
        "\n",
        "def grad_fn(X, Y):\n",
        "    with tf.GradientTape() as tape:\n",
        "        loss = cost_fn(X, Y)\n",
        "        grads = tape.gradient(loss, variables)\n",
        "        return grads\n",
        "    \n",
        "def prediction(X, Y):\n",
        "    pred = tf.argmax(hypothesis(X), 1)\n",
        "    correct_prediction = tf.equal(pred, tf.argmax(Y, 1))\n",
        "    accuracy = tf.reduce_mean(tf.cast(correct_prediction, tf.float32))\n",
        "\n",
        "    return accuracy"
      ],
      "metadata": {
        "id": "W7OUcj7ZNhsu"
      },
      "execution_count": 15,
      "outputs": []
    },
    {
      "cell_type": "code",
      "source": [
        "def fit(X, Y, epochs=1000, verbose=100):\n",
        "    optimizer =  tf.keras.optimizers.SGD(learning_rate=0.1)\n",
        "\n",
        "    for i in range(epochs):\n",
        "        grads = grad_fn(X, Y)\n",
        "        optimizer.apply_gradients(zip(grads, variables))\n",
        "        if (i==0) | ((i+1)%verbose==0):\n",
        "#             print('Loss at epoch %d: %f' %(i+1, cost_fn(X, Y).numpy()))\n",
        "            acc = prediction(X, Y).numpy()\n",
        "            loss = cost_fn(X, Y).numpy() \n",
        "            print('Steps: {} Loss: {}, Acc: {}'.format(i+1, loss, acc))\n",
        "\n",
        "fit(x_data, Y_one_hot)"
      ],
      "metadata": {
        "colab": {
          "base_uri": "https://localhost:8080/"
        },
        "id": "G2wdwiMxNkKO",
        "outputId": "bce0fa0f-d227-4a8e-d70c-6cde129df8c3"
      },
      "execution_count": 16,
      "outputs": [
        {
          "output_type": "stream",
          "name": "stdout",
          "text": [
            "Steps: 1 Loss: 5.017784595489502, Acc: 0.20792078971862793\n",
            "Steps: 100 Loss: 0.7714686393737793, Acc: 0.8217821717262268\n",
            "Steps: 200 Loss: 0.47590935230255127, Acc: 0.8712871074676514\n",
            "Steps: 300 Loss: 0.33353596925735474, Acc: 0.9009901285171509\n",
            "Steps: 400 Loss: 0.2523742616176605, Acc: 0.9207921028137207\n",
            "Steps: 500 Loss: 0.20376144349575043, Acc: 0.9306930899620056\n",
            "Steps: 600 Loss: 0.17214415967464447, Acc: 0.9702970385551453\n",
            "Steps: 700 Loss: 0.1497756540775299, Acc: 0.9702970385551453\n",
            "Steps: 800 Loss: 0.13292743265628815, Acc: 0.9801980257034302\n",
            "Steps: 900 Loss: 0.11966721713542938, Acc: 0.9801980257034302\n",
            "Steps: 1000 Loss: 0.10889842361211777, Acc: 0.9801980257034302\n"
          ]
        }
      ]
    }
  ]
}