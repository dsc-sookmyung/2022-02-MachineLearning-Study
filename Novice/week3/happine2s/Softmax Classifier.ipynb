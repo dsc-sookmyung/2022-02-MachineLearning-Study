{
 "cells": [
  {
   "cell_type": "code",
   "execution_count": 4,
   "id": "c931435b",
   "metadata": {},
   "outputs": [],
   "source": [
    "import numpy as np\n",
    "import tensorflow as tf"
   ]
  },
  {
   "cell_type": "code",
   "execution_count": null,
   "id": "eccdfd86",
   "metadata": {},
   "outputs": [],
   "source": [
    "x_data = [\n",
    "    [1, 2, 1, 1],\n",
    "    [2, 1, 3, 2],\n",
    "    [3, 1, 3, 4],\n",
    "    [4, 1, 5, 5],\n",
    "    [1, 7, 5, 5],\n",
    "    [1, 2, 5, 6],\n",
    "    [1, 6, 6, 6],\n",
    "    [1, 7, 7, 7]\n",
    "]\n",
    "\n",
    "y_data = [\n",
    "    [0, 0, 1],\n",
    "    [0, 0, 1],\n",
    "    [0, 0, 1],\n",
    "    [0, 1, 0],\n",
    "    [0, 1, 0],\n",
    "    [0, 1, 0],\n",
    "    [1, 0, 0],\n",
    "    [1, 0, 0]\n",
    "]\n",
    "\n",
    "#convert into numpy and float format\n",
    "x_data = np.asarray(x_data, dtype=np.float32)\n",
    "y_data = np.asarray(y_data, dtype=np.float32)\n",
    "nb_classes = 3 #num classes"
   ]
  },
  {
   "cell_type": "code",
   "execution_count": 23,
   "id": "afe396c3",
   "metadata": {},
   "outputs": [
    {
     "name": "stdout",
     "output_type": "stream",
     "text": [
      "[<tf.Variable 'weight:0' shape=(4, 3) dtype=float32, numpy=\n",
      "array([[-0.30405334, -0.5916206 ,  0.42229214],\n",
      "       [-0.3615684 , -2.2092047 , -0.16092242],\n",
      "       [-0.06034185,  0.21559335, -0.30302727],\n",
      "       [-1.6994094 , -0.78747946, -0.269722  ]], dtype=float32)>, <tf.Variable 'bias:0' shape=(3,) dtype=float32, numpy=array([-0.576658  ,  0.12498101, -0.49841753], dtype=float32)>]\n"
     ]
    }
   ],
   "source": [
    "#Weight and bias setting\n",
    "W = tf.Variable(tf.random.normal([4, nb_classes]), name='weight')\n",
    "b = tf.Variable(tf.random.normal([nb_classes]), name='bias')\n",
    "variables = [W, b]\n",
    "\n",
    "print(variables)"
   ]
  },
  {
   "cell_type": "code",
   "execution_count": 26,
   "id": "9b5dcac7",
   "metadata": {},
   "outputs": [
    {
     "name": "stdout",
     "output_type": "stream",
     "text": [
      "tf.Tensor(\n",
      "[[8.28621015e-02 1.02148438e-02 9.06922996e-01]\n",
      " [1.95545889e-02 4.95877489e-02 9.30857658e-01]\n",
      " [5.77944098e-04 6.81107026e-03 9.92610991e-01]\n",
      " [1.09065346e-04 4.16722614e-03 9.95723724e-01]\n",
      " [2.90354452e-04 4.02944778e-07 9.99709189e-01]\n",
      " [1.88299848e-04 6.68813754e-03 9.93123591e-01]\n",
      " [1.08302360e-04 3.12792349e-06 9.99888539e-01]\n",
      " [2.70412202e-05 4.03747237e-07 9.99972582e-01]], shape=(8, 3), dtype=float32)\n"
     ]
    }
   ],
   "source": [
    "#softmax\n",
    "def hypothesis(X):\n",
    "    return tf.nn.softmax(tf.matmul(X, W) + b)\n",
    "print(hypothesis(x_data))"
   ]
  },
  {
   "cell_type": "code",
   "execution_count": 27,
   "id": "e7b415ef",
   "metadata": {},
   "outputs": [
    {
     "name": "stdout",
     "output_type": "stream",
     "text": [
      "tf.Tensor([[7.761228e-06 1.971161e-06 9.999902e-01]], shape=(1, 3), dtype=float32)\n"
     ]
    }
   ],
   "source": [
    "# Softmax onehot test\n",
    "sample_db = [[8,2,1,4]]\n",
    "sample_db = np.asarray(sample_db, dtype=np.float32)\n",
    "\n",
    "print(hypothesis(sample_db))"
   ]
  },
  {
   "cell_type": "code",
   "execution_count": 28,
   "id": "631cbc2d",
   "metadata": {},
   "outputs": [
    {
     "name": "stdout",
     "output_type": "stream",
     "text": [
      "tf.Tensor(5.629736, shape=(), dtype=float32)\n"
     ]
    }
   ],
   "source": [
    "def cost_fn(X, Y):\n",
    "    logits = hypothesis(X)\n",
    "    cost = -tf.reduce_sum(Y * tf.math.log(logits), axis=1)\n",
    "    cost_mean = tf.reduce_mean(cost)\n",
    "    return cost_mean\n",
    "\n",
    "print(cost_fn(x_data, y_data))"
   ]
  },
  {
   "cell_type": "code",
   "execution_count": 29,
   "id": "fb0becf2",
   "metadata": {},
   "outputs": [
    {
     "name": "stdout",
     "output_type": "stream",
     "text": [
      "tf.Tensor(6.0, shape=(), dtype=float32)\n"
     ]
    }
   ],
   "source": [
    "x = tf.constant(3.0)\n",
    "with tf.GradientTape() as g:\n",
    "    g.watch(x)\n",
    "    y = x * x # x^2\n",
    "dy_dx = g.gradient(y, x)\n",
    "\n",
    "print(dy_dx)"
   ]
  },
  {
   "cell_type": "code",
   "execution_count": 32,
   "id": "f3209e3d",
   "metadata": {},
   "outputs": [
    {
     "name": "stdout",
     "output_type": "stream",
     "text": [
      "[<tf.Tensor: shape=(4, 3), dtype=float32, numpy=\n",
      "array([[-0.23440558, -0.7308519 ,  0.96525747],\n",
      "       [-1.6013482 , -1.2382005 ,  2.8395486 ],\n",
      "       [-1.6066203 , -1.8457861 ,  3.4524064 ],\n",
      "       [-1.6089689 , -1.9752971 ,  3.584266  ]], dtype=float32)>, <tf.Tensor: shape=(3,), dtype=float32, numpy=array([-0.23703527, -0.36531588,  0.6023511 ], dtype=float32)>]\n"
     ]
    }
   ],
   "source": [
    "def grad_fn(X, Y):\n",
    "    with tf.GradientTape() as tape:\n",
    "        loss = cost_fn(X, Y)\n",
    "        grads = tape.gradient(loss, variables)\n",
    "        return grads\n",
    "\n",
    "print(grad_fn(x_data, y_data))"
   ]
  },
  {
   "cell_type": "code",
   "execution_count": 33,
   "id": "3c36725e",
   "metadata": {},
   "outputs": [
    {
     "name": "stdout",
     "output_type": "stream",
     "text": [
      "Loss at epoch 1: 1.429455\n",
      "Loss at epoch 100: 0.684122\n",
      "Loss at epoch 200: 0.603690\n",
      "Loss at epoch 300: 0.544143\n",
      "Loss at epoch 400: 0.491925\n",
      "Loss at epoch 500: 0.442847\n",
      "Loss at epoch 600: 0.395228\n",
      "Loss at epoch 700: 0.348353\n",
      "Loss at epoch 800: 0.302390\n",
      "Loss at epoch 900: 0.261288\n",
      "Loss at epoch 1000: 0.240801\n",
      "Loss at epoch 1100: 0.228672\n",
      "Loss at epoch 1200: 0.217694\n",
      "Loss at epoch 1300: 0.207695\n",
      "Loss at epoch 1400: 0.198548\n",
      "Loss at epoch 1500: 0.190148\n",
      "Loss at epoch 1600: 0.182407\n",
      "Loss at epoch 1700: 0.175250\n",
      "Loss at epoch 1800: 0.168615\n",
      "Loss at epoch 1900: 0.162447\n",
      "Loss at epoch 2000: 0.156700\n"
     ]
    }
   ],
   "source": [
    "def fit(X, Y, epochs=2000, verbose=100):\n",
    "    optimizer=tf.keras.optimizers.SGD(learning_rate=0.1)\n",
    "    for i in range(epochs):\n",
    "        grads = grad_fn(X, Y)\n",
    "        optimizer.apply_gradients(zip(grads, variables))\n",
    "        if (i==0) | ((i+1)%verbose==0):\n",
    "            print('Loss at epoch %d: %f' %(i+1, cost_fn(X, Y).numpy()))\n",
    "            \n",
    "fit(x_data, y_data)"
   ]
  },
  {
   "cell_type": "code",
   "execution_count": 35,
   "id": "74ccc253",
   "metadata": {},
   "outputs": [
    {
     "name": "stdout",
     "output_type": "stream",
     "text": [
      "tf.Tensor([[0.00212328 0.08399386 0.9138828 ]], shape=(1, 3), dtype=float32)\n",
      "tf.Tensor(\n",
      "[[2.5140998e-06 9.9464261e-04 9.9900287e-01]\n",
      " [2.1232790e-03 8.3993860e-02 9.1388279e-01]\n",
      " [1.2857106e-07 1.6469246e-01 8.3530742e-01]\n",
      " [4.3477253e-06 8.4856659e-01 1.5142898e-01]\n",
      " [2.5416908e-01 7.3354334e-01 1.2287644e-02]\n",
      " [1.3336249e-01 8.6663187e-01 5.6918711e-06]\n",
      " [7.5360888e-01 2.4637255e-01 1.8623281e-05]\n",
      " [9.2081511e-01 7.9184562e-02 2.8493000e-07]], shape=(8, 3), dtype=float32)\n",
      "tf.Tensor([2 2 2 1 1 1 0 0], shape=(8,), dtype=int64)\n",
      "tf.Tensor([2 2 2 1 1 1 0 0], shape=(8,), dtype=int64)\n"
     ]
    }
   ],
   "source": [
    "sample_data = [[2,1,3,2]]\n",
    "sample_data = np.asarray(sample_data, dtype=np.float32)\n",
    "a = hypothesis(sample_data)\n",
    "b = hypothesis(x_data)\n",
    "\n",
    "print(a)\n",
    "print(b)\n",
    "print(tf.argmax(b, 1))\n",
    "print(tf.argmax(y_data, 1))"
   ]
  }
 ],
 "metadata": {
  "kernelspec": {
   "display_name": "Python [conda env:TF_study] *",
   "language": "python",
   "name": "conda-env-TF_study-py"
  },
  "language_info": {
   "codemirror_mode": {
    "name": "ipython",
    "version": 3
   },
   "file_extension": ".py",
   "mimetype": "text/x-python",
   "name": "python",
   "nbconvert_exporter": "python",
   "pygments_lexer": "ipython3",
   "version": "3.10.4"
  }
 },
 "nbformat": 4,
 "nbformat_minor": 5
}
