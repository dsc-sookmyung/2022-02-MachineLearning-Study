{
 "cells": [
  {
   "cell_type": "markdown",
   "id": "9663a051",
   "metadata": {},
   "source": [
    "# <3주차 MLstudy 강의정리 및 코드실습>"
   ]
  },
  {
   "cell_type": "markdown",
   "id": "df7cdb4f",
   "metadata": {},
   "source": [
    "## Lab6-1: Softmax Classifier"
   ]
  },
  {
   "cell_type": "markdown",
   "id": "254339c8",
   "metadata": {},
   "source": [
    "### sample dataset을 사용하여 여러개의 class를 예측할 때 사용하는 Softmax function 코드 작성\n",
    "\n",
    "지금까지는 이진 분류(O,X)를 다뤘지만 softmax는 세개 이상의 class로 분류한다.\n",
    "\n",
    "결과값을 확률로 나눠준다. 각 확률들의 합은 항상 1이다. 결국 가장 높은 확률을 가진 범주로 데이터가 분류된다.\n",
    "\n",
    "H(X)=WX 가 100,200.-10 의 값이 있으면 0과 1로 고르기에 적합하지 않다. 따라서 softmax를 사용해서 class를 나눠준다.\n",
    "\n",
    "XW=Y logistic classifier\n",
    "\n",
    "2.0\n",
    "\n",
    "1.0\n",
    "\n",
    "0.1 \n",
    "\n",
    "hypothesis = tf.nn.softmax(tf.matmul(X,W)+b)\n",
    "\n",
    "다음 3개의 값들이 S(yi) softmax function을 거쳐 확률로 나타난다.\n",
    "\n",
    "0.7\n",
    "\n",
    "0.2\n",
    "\n",
    "0.1\n",
    "\n",
    "ex) 동물구별, 인물구별 등등"
   ]
  },
  {
   "cell_type": "code",
   "execution_count": 35,
   "id": "c5d59f8a",
   "metadata": {},
   "outputs": [
    {
     "name": "stdout",
     "output_type": "stream",
     "text": [
      "2.0.0\n"
     ]
    }
   ],
   "source": [
    "import tensorflow as tf\n",
    "import numpy as np\n",
    "\n",
    "print(tf.__version__)\n",
    "\n",
    "tf.random.set_seed(777)"
   ]
  },
  {
   "cell_type": "code",
   "execution_count": 36,
   "id": "7f9f3733",
   "metadata": {},
   "outputs": [],
   "source": [
    "# sample dataset\n",
    "x_data = [[1, 2, 1, 1],\n",
    "          [2, 1, 3, 2],\n",
    "          [3, 1, 3, 4],\n",
    "          [4, 1, 5, 5],\n",
    "          [1, 7, 5, 5],\n",
    "          [1, 2, 5, 6],\n",
    "          [1, 6, 6, 6],\n",
    "          [1, 7, 7, 7]]\n",
    "y_data = [[0, 0, 1],\n",
    "          [0, 0, 1],\n",
    "          [0, 0, 1],\n",
    "          [0, 1, 0],\n",
    "          [0, 1, 0],\n",
    "          [0, 1, 0],\n",
    "          [1, 0, 0],\n",
    "          [1, 0, 0]]\n",
    "\n",
    "#convert into numpy and float format\n",
    "x_data = np.asarray(x_data, dtype=np.float32)\n",
    "y_data = np.asarray(y_data, dtype=np.float32)"
   ]
  },
  {
   "cell_type": "code",
   "execution_count": 37,
   "id": "0f9cbd86",
   "metadata": {},
   "outputs": [
    {
     "name": "stdout",
     "output_type": "stream",
     "text": [
      "(8, 4)\n",
      "(8, 3)\n"
     ]
    }
   ],
   "source": [
    "#dataset을 선언합니다.\n",
    "# dataset = tf.data.Dataset.from_tensor_slices((x_data, y_data))\n",
    "# dataset = dataset.repeat().batch(2)\n",
    "\n",
    "nb_classes = 3 #class의 개수입니다. 3개의 클래스로 만듬\n",
    "\n",
    "print(x_data.shape)\n",
    "print(y_data.shape)"
   ]
  },
  {
   "cell_type": "code",
   "execution_count": 38,
   "id": "61051965",
   "metadata": {},
   "outputs": [
    {
     "name": "stdout",
     "output_type": "stream",
     "text": [
      "<tf.Variable 'weight:0' shape=(4, 3) dtype=float32, numpy=\n",
      "array([[ 0.7706481 ,  0.37335402, -0.05576323],\n",
      "       [ 0.00358377, -0.5898363 ,  1.5702795 ],\n",
      "       [ 0.2460895 , -0.09918973,  1.4418385 ],\n",
      "       [ 0.3200988 ,  0.526784  , -0.7703731 ]], dtype=float32)> <tf.Variable 'bias:0' shape=(3,) dtype=float32, numpy=array([-1.3080608 , -0.13253094,  0.5513761 ], dtype=float32)>\n"
     ]
    }
   ],
   "source": [
    "#Weight and bias setting\n",
    "W = tf.Variable(tf.random.normal((4, nb_classes)), name='weight')\n",
    "b = tf.Variable(tf.random.normal((nb_classes,)), name='bias')\n",
    "variables = [W, b]\n",
    "\n",
    "print(W,b)"
   ]
  },
  {
   "cell_type": "code",
   "execution_count": 39,
   "id": "4558cd7d",
   "metadata": {},
   "outputs": [
    {
     "name": "stdout",
     "output_type": "stream",
     "text": [
      "tf.Tensor(\n",
      "[[1.36571955e-02 7.90162385e-03 9.78441238e-01]\n",
      " [3.92598137e-02 1.70347560e-02 9.43705440e-01]\n",
      " [3.80385250e-01 1.67723224e-01 4.51891541e-01]\n",
      " [3.23390484e-01 5.90759404e-02 6.17533624e-01]\n",
      " [3.62997412e-06 6.20727292e-08 9.99996305e-01]\n",
      " [2.62520462e-02 1.07279727e-02 9.63019967e-01]\n",
      " [1.56525111e-05 4.21802781e-07 9.99983907e-01]\n",
      " [2.94077745e-06 3.81134022e-08 9.99997020e-01]], shape=(8, 3), dtype=float32)\n"
     ]
    }
   ],
   "source": [
    "# tf.nn.softmax computes softmax activations\n",
    "# softmax = exp(logits) / reduce_sum(exp(logits), dim)\n",
    "def hypothesis(X):\n",
    "    return tf.nn.softmax(tf.matmul(X, W) + b)\n",
    "\n",
    "print(hypothesis(x_data))"
   ]
  },
  {
   "cell_type": "code",
   "execution_count": 40,
   "id": "d4c65e28",
   "metadata": {},
   "outputs": [
    {
     "name": "stdout",
     "output_type": "stream",
     "text": [
      "tf.Tensor([[0.9302204  0.06200533 0.00777428]], shape=(1, 3), dtype=float32)\n"
     ]
    }
   ],
   "source": [
    "# Softmax onehot test\n",
    "sample_db = [[8,2,1,4]]\n",
    "sample_db = np.asarray(sample_db, dtype=np.float32)\n",
    "\n",
    "# 출력 첫번째 값이 평균, 합은 1\n",
    "print(hypothesis(sample_db))"
   ]
  },
  {
   "cell_type": "code",
   "execution_count": 41,
   "id": "ba6b3423",
   "metadata": {},
   "outputs": [
    {
     "name": "stdout",
     "output_type": "stream",
     "text": [
      "tf.Tensor(6.07932, shape=(), dtype=float32)\n"
     ]
    }
   ],
   "source": [
    "def cost_fn(X, Y):\n",
    "    logits = hypothesis(X)\n",
    "    cost = -tf.reduce_sum(Y * tf.math.log(logits), axis=1)\n",
    "    cost_mean = tf.reduce_mean(cost)\n",
    "    \n",
    "    return cost_mean # cost 평균\n",
    "\n",
    "print(cost_fn(x_data, y_data))"
   ]
  },
  {
   "cell_type": "code",
   "execution_count": 42,
   "id": "d7e5e79f",
   "metadata": {},
   "outputs": [
    {
     "name": "stdout",
     "output_type": "stream",
     "text": [
      "tf.Tensor(6.0, shape=(), dtype=float32)\n"
     ]
    }
   ],
   "source": [
    "x = tf.constant(3.0)\n",
    "with tf.GradientTape() as g:\n",
    "    g.watch(x)\n",
    "    y = x * x # x^2\n",
    "dy_dx = g.gradient(y, x) # Will compute to 6.0\n",
    "print(dy_dx)"
   ]
  },
  {
   "cell_type": "code",
   "execution_count": 43,
   "id": "43a5bb86",
   "metadata": {},
   "outputs": [
    {
     "name": "stdout",
     "output_type": "stream",
     "text": [
      "[<tf.Tensor: id=371783, shape=(4, 3), dtype=float32, numpy=\n",
      "array([[ 0.06914611, -0.6509784 ,  0.5818323 ],\n",
      "       [-1.5221257 , -1.214863  ,  2.7369888 ],\n",
      "       [-1.2473828 , -1.7611002 ,  3.008483  ],\n",
      "       [-1.2014606 , -1.865923  ,  3.0673838 ]], dtype=float32)>, <tf.Tensor: id=371782, shape=(3,), dtype=float32, numpy=array([-0.15212911, -0.342192  ,  0.4943211 ], dtype=float32)>]\n"
     ]
    }
   ],
   "source": [
    "def grad_fn(X, Y):\n",
    "    with tf.GradientTape() as tape:\n",
    "        loss = cost_fn(X, Y)\n",
    "        grads = tape.gradient(loss, variables) # W,b 를 의미\n",
    "\n",
    "        return grads\n",
    "\n",
    "print(grad_fn(x_data, y_data))"
   ]
  },
  {
   "cell_type": "code",
   "execution_count": 44,
   "id": "70cbb6e1",
   "metadata": {},
   "outputs": [
    {
     "name": "stdout",
     "output_type": "stream",
     "text": [
      "Loss at epoch 1: 2.849417\n",
      "Loss at epoch 100: 0.684151\n",
      "Loss at epoch 200: 0.613813\n",
      "Loss at epoch 300: 0.558204\n",
      "Loss at epoch 400: 0.508305\n",
      "Loss at epoch 500: 0.461059\n",
      "Loss at epoch 600: 0.415072\n",
      "Loss at epoch 700: 0.369636\n",
      "Loss at epoch 800: 0.324533\n",
      "Loss at epoch 900: 0.280721\n",
      "Loss at epoch 1000: 0.246752\n",
      "Loss at epoch 1100: 0.232798\n",
      "Loss at epoch 1200: 0.221645\n",
      "Loss at epoch 1300: 0.211476\n",
      "Loss at epoch 1400: 0.202164\n",
      "Loss at epoch 1500: 0.193606\n",
      "Loss at epoch 1600: 0.185714\n",
      "Loss at epoch 1700: 0.178415\n",
      "Loss at epoch 1800: 0.171645\n",
      "Loss at epoch 1900: 0.165350\n",
      "Loss at epoch 2000: 0.159483\n"
     ]
    }
   ],
   "source": [
    "def fit(X, Y, epochs=2000, verbose=100): #2000번 동안\n",
    "    optimizer =  tf.keras.optimizers.SGD(learning_rate=0.1)\n",
    "\n",
    "    for i in range(epochs):\n",
    "        grads = grad_fn(X, Y)\n",
    "        optimizer.apply_gradients(zip(grads, variables))\n",
    "        if (i==0) | ((i+1)%verbose==0):\n",
    "            print('Loss at epoch %d: %f' %(i+1, cost_fn(X, Y).numpy()))\n",
    "            \n",
    "fit(x_data, y_data)  # 결과는 loss가 줄어드는 방향으로 나온다."
   ]
  },
  {
   "cell_type": "code",
   "execution_count": 45,
   "id": "ec7b6dee",
   "metadata": {},
   "outputs": [
    {
     "name": "stdout",
     "output_type": "stream",
     "text": [
      "tf.Tensor([[0.00112886 0.08154671 0.9173244 ]], shape=(1, 3), dtype=float32)\n",
      "tf.Tensor([2], shape=(1,), dtype=int64)\n"
     ]
    }
   ],
   "source": [
    "sample_data = [[2,1,3,2]] # answer_label [[0,0,1]]\n",
    "sample_data = np.asarray(sample_data, dtype=np.float32)\n",
    "\n",
    "a = hypothesis(sample_data) # a가 가장 높은 값으로 지정\n",
    "\n",
    "print(a)\n",
    "print(tf.argmax(a, 1)) #index: 2"
   ]
  },
  {
   "cell_type": "code",
   "execution_count": 46,
   "id": "9041de97",
   "metadata": {},
   "outputs": [
    {
     "name": "stdout",
     "output_type": "stream",
     "text": [
      "tf.Tensor(\n",
      "[[2.1975952e-06 1.2331187e-03 9.9876475e-01]\n",
      " [1.1288583e-03 8.1546709e-02 9.1732442e-01]\n",
      " [2.2205577e-07 1.6418636e-01 8.3581340e-01]\n",
      " [6.3921816e-06 8.5045439e-01 1.4953929e-01]\n",
      " [2.6150790e-01 7.2644752e-01 1.2044572e-02]\n",
      " [1.3783246e-01 8.6214006e-01 2.7417687e-05]\n",
      " [7.4242145e-01 2.5754160e-01 3.6978621e-05]\n",
      " [9.2197549e-01 7.8023978e-02 6.0006039e-07]], shape=(8, 3), dtype=float32)\n",
      "tf.Tensor([2 2 2 1 1 1 0 0], shape=(8,), dtype=int64)\n",
      "tf.Tensor([2 2 2 1 1 1 0 0], shape=(8,), dtype=int64)\n"
     ]
    }
   ],
   "source": [
    "b = hypothesis(x_data)\n",
    "print(b)\n",
    "print(tf.argmax(b, 1))\n",
    "print(tf.argmax(y_data, 1)) # matches with y_data"
   ]
  },
  {
   "cell_type": "code",
   "execution_count": 47,
   "id": "8b799da7",
   "metadata": {},
   "outputs": [
    {
     "name": "stdout",
     "output_type": "stream",
     "text": [
      "Loss at epoch 1: 2.472669\n",
      "Loss at epoch 500: 0.375229\n",
      "Loss at epoch 1000: 0.229923\n",
      "Loss at epoch 1500: 0.182147\n",
      "Loss at epoch 2000: 0.150633\n"
     ]
    }
   ],
   "source": [
    "class softmax_classifer(tf.keras.Model):\n",
    "    def __init__(self, nb_classes):\n",
    "        super(softmax_classifer, self).__init__()\n",
    "        self.W = tf.Variable(tf.random.normal((4, nb_classes)), name='weight')\n",
    "        self.b = tf.Variable(tf.random.normal((nb_classes,)), name='bias')\n",
    "        \n",
    "    def softmax_regression(self, X):\n",
    "        return tf.nn.softmax(tf.matmul(X, self.W) + self.b)\n",
    "    \n",
    "    def cost_fn(self, X, Y):\n",
    "        logits = self.softmax_regression(X)\n",
    "        cost = tf.reduce_mean(-tf.reduce_sum(Y * tf.math.log(logits), axis=1))        \n",
    "        return cost\n",
    "    \n",
    "    def grad_fn(self, X, Y):\n",
    "        with tf.GradientTape() as tape:\n",
    "            cost = self.cost_fn(x_data, y_data)\n",
    "            grads = tape.gradient(cost, self.variables)            \n",
    "            return grads\n",
    "    \n",
    "    def fit(self, X, Y, epochs=2000, verbose=500):\n",
    "        optimizer =  tf.keras.optimizers.SGD(learning_rate=0.1)\n",
    "\n",
    "        for i in range(epochs):\n",
    "            grads = self.grad_fn(X, Y)\n",
    "            optimizer.apply_gradients(zip(grads, self.variables))\n",
    "            if (i==0) | ((i+1)%verbose==0):\n",
    "                print('Loss at epoch %d: %f' %(i+1, self.cost_fn(X, Y).numpy()))\n",
    "            \n",
    "model = softmax_classifer(nb_classes)\n",
    "model.fit(x_data, y_data)"
   ]
  },
  {
   "cell_type": "markdown",
   "id": "adabed2e",
   "metadata": {},
   "source": [
    "## Lab6-2: Softmax Classifier (Animal classification)\n",
    "\n",
    "Softmax를 사용하여 동물 데이터(zoo data.csv) 분류"
   ]
  },
  {
   "cell_type": "code",
   "execution_count": 48,
   "id": "204cca19",
   "metadata": {},
   "outputs": [],
   "source": [
    "tf.random.set_seed(777)  # for reproducibility"
   ]
  },
  {
   "cell_type": "code",
   "execution_count": 49,
   "id": "16d64421",
   "metadata": {},
   "outputs": [
    {
     "name": "stdout",
     "output_type": "stream",
     "text": [
      "(101, 16) (101, 7)\n"
     ]
    }
   ],
   "source": [
    "xy = np.loadtxt('data-04-zoo.csv', delimiter=',', dtype=np.float32)\n",
    "x_data = xy[:, 0:-1] #마지막 열을 제외한 모든 열 포함\n",
    "y_data = xy[:, -1] #마지막 열을 선택\n",
    "\n",
    "nb_classes = 7  # 0 ~ 6\n",
    "\n",
    "# Make Y data as onehot shape\n",
    "Y_one_hot = tf.one_hot(y_data.astype(np.int32), nb_classes) #7 one hot shape (?,1,7)\n",
    "\n",
    "print(x_data.shape, Y_one_hot.shape)"
   ]
  },
  {
   "cell_type": "code",
   "execution_count": 50,
   "id": "ed9d46b1",
   "metadata": {},
   "outputs": [],
   "source": [
    "#Weight and bias setting\n",
    "W = tf.Variable(tf.random.normal((16, nb_classes)), name='weight')\n",
    "b = tf.Variable(tf.random.normal((nb_classes,)), name='bias')\n",
    "variables = [W, b]\n",
    "\n",
    "# tf.nn.softmax computes softmax activations\n",
    "# softmax = exp(logits) / reduce_sum(exp(logits), dim)\n",
    "def logit_fn(X):\n",
    "    return tf.matmul(X, W) + b\n",
    "\n",
    "def hypothesis(X):\n",
    "    return tf.nn.softmax(logit_fn(X))\n",
    "\n",
    "def cost_fn(X, Y):\n",
    "    logits = logit_fn(X)\n",
    "    cost_i = tf.keras.losses.categorical_crossentropy(y_true=Y, y_pred=logits, \n",
    "                                                      from_logits=True)    \n",
    "    cost = tf.reduce_mean(cost_i)    \n",
    "    return cost\n",
    "\n",
    "def grad_fn(X, Y): #gradient descent\n",
    "    with tf.GradientTape() as tape:\n",
    "        loss = cost_fn(X, Y)\n",
    "        grads = tape.gradient(loss, variables)\n",
    "        return grads\n",
    "    \n",
    "def prediction(X, Y): #우리가 얼마나 정답을 잘 맞추고 있는지 확인하는 함수\n",
    "    pred = tf.argmax(hypothesis(X), 1)\n",
    "    correct_prediction = tf.equal(pred, tf.argmax(Y, 1))\n",
    "    accuracy = tf.reduce_mean(tf.cast(correct_prediction, tf.float32))\n",
    "\n",
    "    return accuracy"
   ]
  },
  {
   "cell_type": "code",
   "execution_count": 51,
   "id": "33afa3d0",
   "metadata": {},
   "outputs": [
    {
     "name": "stdout",
     "output_type": "stream",
     "text": [
      "Steps: 1 Loss: 3.6350293159484863, Acc: 0.1683168262243271\n",
      "Steps: 100 Loss: 0.5194158554077148, Acc: 0.7920792102813721\n",
      "Steps: 200 Loss: 0.31850093603134155, Acc: 0.9108911156654358\n",
      "Steps: 300 Loss: 0.23534879088401794, Acc: 0.9405940771102905\n",
      "Steps: 400 Loss: 0.18872138857841492, Acc: 0.9504950642585754\n",
      "Steps: 500 Loss: 0.1584603488445282, Acc: 0.9504950642585754\n",
      "Steps: 600 Loss: 0.13703754544258118, Acc: 0.9900990128517151\n",
      "Steps: 700 Loss: 0.12098982185125351, Acc: 0.9900990128517151\n",
      "Steps: 800 Loss: 0.10847964882850647, Acc: 1.0\n",
      "Steps: 900 Loss: 0.09843041002750397, Acc: 1.0\n",
      "Steps: 1000 Loss: 0.09016558527946472, Acc: 1.0\n"
     ]
    }
   ],
   "source": [
    "def fit(X, Y, epochs=1000, verbose=100):\n",
    "    optimizer =  tf.keras.optimizers.SGD(learning_rate=0.1)\n",
    "\n",
    "    for i in range(epochs):\n",
    "        grads = grad_fn(X, Y)\n",
    "        optimizer.apply_gradients(zip(grads, variables))\n",
    "        if (i==0) | ((i+1)%verbose==0):\n",
    "#print('Loss at epoch %d: %f' %(i+1, cost_fn(X, Y).numpy()))\n",
    "            acc = prediction(X, Y).numpy()\n",
    "            loss = cost_fn(X, Y).numpy() \n",
    "            print('Steps: {} Loss: {}, Acc: {}'.format(i+1, loss, acc))\n",
    "\n",
    "fit(x_data, Y_one_hot) #결국 마지막 결과는 100% 정확도를 보여줌"
   ]
  },
  {
   "cell_type": "code",
   "execution_count": null,
   "id": "f6f299db",
   "metadata": {},
   "outputs": [],
   "source": []
  }
 ],
 "metadata": {
  "kernelspec": {
   "display_name": "Python [conda env:MLstudy] *",
   "language": "python",
   "name": "conda-env-MLstudy-py"
  },
  "language_info": {
   "codemirror_mode": {
    "name": "ipython",
    "version": 3
   },
   "file_extension": ".py",
   "mimetype": "text/x-python",
   "name": "python",
   "nbconvert_exporter": "python",
   "pygments_lexer": "ipython3",
   "version": "3.7.13"
  }
 },
 "nbformat": 4,
 "nbformat_minor": 5
}
