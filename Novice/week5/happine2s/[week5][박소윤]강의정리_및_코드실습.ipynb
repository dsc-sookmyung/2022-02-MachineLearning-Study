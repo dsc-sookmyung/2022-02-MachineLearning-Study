{
 "cells": [
  {
   "cell_type": "code",
   "execution_count": 1,
   "id": "3e255cd4",
   "metadata": {},
   "outputs": [
    {
     "name": "stdout",
     "output_type": "stream",
     "text": [
      "2.9.1\n"
     ]
    }
   ],
   "source": [
    "import numpy as np\n",
    "import matplotlib.pyplot as plt\n",
    "%matplotlib inline\n",
    "import tensorflow as tf\n",
    "\n",
    "tf.executing_eagerly()\n",
    "tf.random.set_seed(777)\n",
    "\n",
    "print(tf.__version__)"
   ]
  },
  {
   "cell_type": "code",
   "execution_count": 2,
   "id": "5bfb1537",
   "metadata": {},
   "outputs": [
    {
     "name": "stderr",
     "output_type": "stream",
     "text": [
      "2022-11-07 15:50:20.707862: I tensorflow/core/platform/cpu_feature_guard.cc:193] This TensorFlow binary is optimized with oneAPI Deep Neural Network Library (oneDNN) to use the following CPU instructions in performance-critical operations:  SSE4.1 SSE4.2 AVX AVX2 FMA\n",
      "To enable them in other operations, rebuild TensorFlow with the appropriate compiler flags.\n"
     ]
    },
    {
     "data": {
      "image/png": "[encoded data removed]",
      "text/plain": [
       "<Figure size 640x480 with 1 Axes>"
      ]
     },
     "metadata": {},
     "output_type": "display_data"
    }
   ],
   "source": [
    "x_data = [[0, 0],\n",
    "          [0, 1],\n",
    "          [1, 0],\n",
    "          [1, 1]]\n",
    "y_data = [[0],\n",
    "          [1],\n",
    "          [1],\n",
    "          [0]]\n",
    "\n",
    "dataset = tf.data.Dataset.from_tensor_slices((x_data, y_data)).batch(len(x_data))\n",
    "\n",
    "def preprocess_data(features, labels):\n",
    "    features = tf.cast(features, tf.float32)\n",
    "    labels = tf.cast(labels, tf.float32)\n",
    "    return features, labels\n",
    "\n",
    "W1 = tf.Variable(tf.random.normal((2, 1)), name='weight1')\n",
    "b1 = tf.Variable(tf.random.normal((1,)), name='bias1')\n",
    "\n",
    "W2 = tf.Variable(tf.random.normal((2, 1)), name='weight2')\n",
    "b2 = tf.Variable(tf.random.normal((1,)), name='bias2')\n",
    "\n",
    "W3 = tf.Variable(tf.random.normal((2, 1)), name='weight3')\n",
    "b3 = tf.Variable(tf.random.normal((1,)), name='bias3')\n",
    "\n",
    "plt.scatter(x_data[0][0],x_data[0][1], c='red' , marker='^')\n",
    "plt.scatter(x_data[3][0],x_data[3][1], c='red' , marker='^')\n",
    "plt.scatter(x_data[1][0],x_data[1][1], c='blue' , marker='^')\n",
    "plt.scatter(x_data[2][0],x_data[2][1], c='blue' , marker='^')\n",
    "\n",
    "plt.xlabel(\"x1\")\n",
    "plt.ylabel(\"x2\")\n",
    "plt.show()"
   ]
  },
  {
   "cell_type": "code",
   "execution_count": 3,
   "id": "8a7c0578",
   "metadata": {},
   "outputs": [],
   "source": [
    "def neural_net(features):\n",
    "    layer1 = tf.sigmoid(tf.matmul(features, W1) + b1)\n",
    "    layer2 = tf.sigmoid(tf.matmul(features, W2) + b2)\n",
    "    layer3 = tf.concat([layer1, layer2],-1)\n",
    "    layer3 = tf.reshape(layer3, shape = [-1,2])\n",
    "    hypothesis = tf.sigmoid(tf.matmul(layer3, W3) + b3)\n",
    "    return hypothesis\n",
    "\n",
    "def loss_fn(hypothesis, labels):\n",
    "    cost = -tf.reduce_mean(labels * tf.math.log(hypothesis) + (1 - labels) * tf.math.log(1 - hypothesis))\n",
    "    return cost\n",
    "\n",
    "optimizer = tf.keras.optimizers.SGD(learning_rate=0.01)\n",
    "\n",
    "def accuracy_fn(hypothesis, labels):\n",
    "    predicted = tf.cast(hypothesis > 0.5, dtype=tf.float32)\n",
    "    accuracy = tf.reduce_mean(tf.cast(tf.equal(predicted, labels), dtype=tf.float32))\n",
    "    return accuracy\n",
    "\n",
    "def grad(hypothesis, features, labels):\n",
    "    with tf.GradientTape() as tape:\n",
    "        loss_value = loss_fn(neural_net(features),labels)\n",
    "    return tape.gradient(loss_value, [W1, W2, W3, b1, b2, b3])"
   ]
  },
  {
   "cell_type": "code",
   "execution_count": 4,
   "id": "60354902",
   "metadata": {},
   "outputs": [
    {
     "name": "stdout",
     "output_type": "stream",
     "text": [
      "Iter: 0, Loss: 0.8487\n",
      "Iter: 5000, Loss: 0.6847\n",
      "Iter: 10000, Loss: 0.6610\n",
      "Iter: 15000, Loss: 0.6154\n",
      "Iter: 20000, Loss: 0.5722\n",
      "Iter: 25000, Loss: 0.5433\n",
      "Iter: 30000, Loss: 0.5211\n",
      "Iter: 35000, Loss: 0.4911\n",
      "Iter: 40000, Loss: 0.4416\n",
      "Iter: 45000, Loss: 0.3313\n",
      "Iter: 50000, Loss: 0.2006\n",
      "Testset Accuracy: 1.0000\n"
     ]
    }
   ],
   "source": [
    "EPOCHS = 50001\n",
    "\n",
    "for step in range(EPOCHS):\n",
    "    for features, labels  in dataset:\n",
    "        features, labels = preprocess_data(features, labels)\n",
    "        grads = grad(neural_net(features), features, labels)\n",
    "        optimizer.apply_gradients(grads_and_vars=zip(grads,[W1, W2, W3, b1, b2, b3]))\n",
    "        if step % 5000 == 0:\n",
    "            print(\"Iter: {}, Loss: {:.4f}\".format(step, loss_fn(neural_net(features),labels)))\n",
    "x_data, y_data = preprocess_data(x_data, y_data)\n",
    "test_acc = accuracy_fn(neural_net(x_data),y_data)\n",
    "print(\"Testset Accuracy: {:.4f}\".format(test_acc))"
   ]
  },
  {
   "cell_type": "code",
   "execution_count": 5,
   "id": "53dca494",
   "metadata": {},
   "outputs": [
    {
     "name": "stdout",
     "output_type": "stream",
     "text": [
      "Requirement already satisfied: tensorboard in /opt/anaconda3/envs/TF_study/lib/python3.10/site-packages (2.9.0)\n",
      "Requirement already satisfied: grpcio>=1.24.3 in /opt/anaconda3/envs/TF_study/lib/python3.10/site-packages (from tensorboard) (1.42.0)\n",
      "Requirement already satisfied: wheel>=0.26 in /opt/anaconda3/envs/TF_study/lib/python3.10/site-packages (from tensorboard) (0.35.1)\n",
      "Requirement already satisfied: protobuf>=3.9.2 in /opt/anaconda3/envs/TF_study/lib/python3.10/site-packages (from tensorboard) (3.20.1)\n",
      "Requirement already satisfied: absl-py>=0.4 in /opt/anaconda3/envs/TF_study/lib/python3.10/site-packages (from tensorboard) (0.15.0)\n",
      "Requirement already satisfied: google-auth<3,>=1.6.3 in /opt/anaconda3/envs/TF_study/lib/python3.10/site-packages (from tensorboard) (2.6.0)\n",
      "Requirement already satisfied: requests<3,>=2.21.0 in /opt/anaconda3/envs/TF_study/lib/python3.10/site-packages (from tensorboard) (2.28.1)\n",
      "Requirement already satisfied: tensorboard-data-server<0.7.0,>=0.6.0 in /opt/anaconda3/envs/TF_study/lib/python3.10/site-packages (from tensorboard) (0.6.0)\n",
      "Requirement already satisfied: setuptools>=41.0.0 in /opt/anaconda3/envs/TF_study/lib/python3.10/site-packages (from tensorboard) (65.5.0)\n",
      "Requirement already satisfied: markdown>=2.6.8 in /opt/anaconda3/envs/TF_study/lib/python3.10/site-packages (from tensorboard) (3.3.4)\n",
      "Requirement already satisfied: tensorboard-plugin-wit>=1.6.0 in /opt/anaconda3/envs/TF_study/lib/python3.10/site-packages (from tensorboard) (1.6.0)\n",
      "Requirement already satisfied: werkzeug>=1.0.1 in /opt/anaconda3/envs/TF_study/lib/python3.10/site-packages (from tensorboard) (2.0.3)\n",
      "Requirement already satisfied: numpy>=1.12.0 in /opt/anaconda3/envs/TF_study/lib/python3.10/site-packages (from tensorboard) (1.22.3)\n",
      "Requirement already satisfied: google-auth-oauthlib<0.5,>=0.4.1 in /opt/anaconda3/envs/TF_study/lib/python3.10/site-packages (from tensorboard) (0.4.4)\n",
      "Requirement already satisfied: six in /opt/anaconda3/envs/TF_study/lib/python3.10/site-packages (from absl-py>=0.4->tensorboard) (1.16.0)\n",
      "Requirement already satisfied: rsa<5,>=3.1.4 in /opt/anaconda3/envs/TF_study/lib/python3.10/site-packages (from google-auth<3,>=1.6.3->tensorboard) (4.7.2)\n",
      "Requirement already satisfied: cachetools<6.0,>=2.0.0 in /opt/anaconda3/envs/TF_study/lib/python3.10/site-packages (from google-auth<3,>=1.6.3->tensorboard) (4.2.2)\n",
      "Requirement already satisfied: pyasn1-modules>=0.2.1 in /opt/anaconda3/envs/TF_study/lib/python3.10/site-packages (from google-auth<3,>=1.6.3->tensorboard) (0.2.8)\n",
      "Requirement already satisfied: requests-oauthlib>=0.7.0 in /opt/anaconda3/envs/TF_study/lib/python3.10/site-packages (from google-auth-oauthlib<0.5,>=0.4.1->tensorboard) (1.3.0)\n",
      "Requirement already satisfied: idna<4,>=2.5 in /opt/anaconda3/envs/TF_study/lib/python3.10/site-packages (from requests<3,>=2.21.0->tensorboard) (3.3)\n",
      "Requirement already satisfied: charset-normalizer<3,>=2 in /opt/anaconda3/envs/TF_study/lib/python3.10/site-packages (from requests<3,>=2.21.0->tensorboard) (2.0.4)\n",
      "Requirement already satisfied: urllib3<1.27,>=1.21.1 in /opt/anaconda3/envs/TF_study/lib/python3.10/site-packages (from requests<3,>=2.21.0->tensorboard) (1.26.12)\n",
      "Requirement already satisfied: certifi>=2017.4.17 in /opt/anaconda3/envs/TF_study/lib/python3.10/site-packages (from requests<3,>=2.21.0->tensorboard) (2022.9.24)\n",
      "Requirement already satisfied: pyasn1<0.5.0,>=0.4.6 in /opt/anaconda3/envs/TF_study/lib/python3.10/site-packages (from pyasn1-modules>=0.2.1->google-auth<3,>=1.6.3->tensorboard) (0.4.8)\n",
      "Requirement already satisfied: oauthlib>=3.0.0 in /opt/anaconda3/envs/TF_study/lib/python3.10/site-packages (from requests-oauthlib>=0.7.0->google-auth-oauthlib<0.5,>=0.4.1->tensorboard) (3.2.0)\n",
      "Note: you may need to restart the kernel to use updated packages.\n"
     ]
    }
   ],
   "source": [
    "pip install tensorboard"
   ]
  },
  {
   "cell_type": "code",
   "execution_count": 6,
   "id": "bafee876",
   "metadata": {},
   "outputs": [
    {
     "name": "stdout",
     "output_type": "stream",
     "text": [
      "2.9.1\n"
     ]
    }
   ],
   "source": [
    "import numpy as np\n",
    "import matplotlib.pyplot as plt\n",
    "%matplotlib inline\n",
    "import tensorflow as tf\n",
    "from tensorflow.keras.models import Model\n",
    "\n",
    "tf.random.set_seed(777)  # for reproducibility\n",
    "\n",
    "print(tf.__version__)"
   ]
  },
  {
   "cell_type": "code",
   "execution_count": 9,
   "id": "ac49d57c",
   "metadata": {},
   "outputs": [],
   "source": [
    "%load_ext tensorboard"
   ]
  },
  {
   "cell_type": "code",
   "execution_count": 10,
   "id": "c88a743b",
   "metadata": {},
   "outputs": [
    {
     "data": {
      "text/plain": [
       "Reusing TensorBoard on port 6007 (pid 92406), started 1:48:01 ago. (Use '!kill 92406' to kill it.)"
      ]
     },
     "metadata": {},
     "output_type": "display_data"
    },
    {
     "data": {
      "text/html": [
       "\n",
       "      <iframe id=\"tensorboard-frame-8073111a7567ad37\" width=\"100%\" height=\"800\" frameborder=\"0\">\n",
       "      </iframe>\n",
       "      <script>\n",
       "        (function() {\n",
       "          const frame = document.getElementById(\"tensorboard-frame-8073111a7567ad37\");\n",
       "          const url = new URL(\"/\", window.location);\n",
       "          const port = 6007;\n",
       "          if (port) {\n",
       "            url.port = port;\n",
       "          }\n",
       "          frame.src = url;\n",
       "        })();\n",
       "      </script>\n",
       "    "
      ],
      "text/plain": [
       "<IPython.core.display.HTML object>"
      ]
     },
     "metadata": {},
     "output_type": "display_data"
    }
   ],
   "source": [
    "%tensorboard --logdir=./logs/xor_logs"
   ]
  },
  {
   "cell_type": "code",
   "execution_count": 11,
   "id": "bdd50a9e",
   "metadata": {},
   "outputs": [
    {
     "data": {
      "image/png": "[encoded data removed]",
      "text/plain": [
       "<Figure size 640x480 with 1 Axes>"
      ]
     },
     "metadata": {},
     "output_type": "display_data"
    }
   ],
   "source": [
    "x_data = [[0, 0],\n",
    "          [0, 1],\n",
    "          [1, 0],\n",
    "          [1, 1]]\n",
    "y_data = [[0],\n",
    "          [1],\n",
    "          [1],\n",
    "          [0]]\n",
    "\n",
    "plt.scatter(x_data[0][0],x_data[0][1], c='red' , marker='^')\n",
    "plt.scatter(x_data[3][0],x_data[3][1], c='red' , marker='^')\n",
    "plt.scatter(x_data[1][0],x_data[1][1], c='blue' , marker='^')\n",
    "plt.scatter(x_data[2][0],x_data[2][1], c='blue' , marker='^')\n",
    "\n",
    "plt.xlabel(\"x1\")\n",
    "plt.ylabel(\"x2\")\n",
    "plt.show()"
   ]
  },
  {
   "cell_type": "code",
   "execution_count": 12,
   "id": "04b78882",
   "metadata": {},
   "outputs": [],
   "source": [
    "dataset = tf.data.Dataset.from_tensor_slices((x_data, y_data)).batch(len(x_data))\n",
    "\n",
    "def preprocess_data(features, labels):\n",
    "    features = tf.cast(features, tf.float32)\n",
    "    labels = tf.cast(labels, tf.float32)\n",
    "    return features, labels"
   ]
  },
  {
   "cell_type": "code",
   "execution_count": 13,
   "id": "bd8851cd",
   "metadata": {},
   "outputs": [],
   "source": [
    "W1 = tf.Variable(tf.random.normal([2, 4]), name='weight1')\n",
    "b1 = tf.Variable(tf.random.normal([1]), name='bias1')\n",
    "\n",
    "W2 = tf.Variable(tf.random.normal([4, 4]), name='weight2')\n",
    "b2 = tf.Variable(tf.random.normal([4]), name='bias2')\n",
    "\n",
    "W3 = tf.Variable(tf.random.normal([4, 4]), name='weight3')\n",
    "b3 = tf.Variable(tf.random.normal([4]), name='bias3')\n",
    "\n",
    "W4 = tf.Variable(tf.random.normal((4, 1)), name='weight4')\n",
    "b4 = tf.Variable(tf.random.normal((1,)), name='bias4')"
   ]
  },
  {
   "cell_type": "code",
   "execution_count": 14,
   "id": "26f1ba9d",
   "metadata": {},
   "outputs": [],
   "source": [
    "def neural_net(features, step):\n",
    "    layer1 = tf.sigmoid(tf.matmul(features, W1) + b1)\n",
    "    layer2 = tf.sigmoid(tf.matmul(layer1, W2) + b2)\n",
    "    layer3 = tf.sigmoid(tf.matmul(layer2, W3) + b3)\n",
    "    hypothesis = tf.sigmoid(tf.matmul(layer3, W4) + b4)\n",
    "\n",
    "    with writer.as_default():\n",
    "        tf.summary.histogram(\"weights1\", W1, step=step)\n",
    "        tf.summary.histogram(\"biases1\", b1, step=step)\n",
    "        tf.summary.histogram(\"layer1\", layer1, step=step)\n",
    "\n",
    "        tf.summary.histogram(\"weights2\", W2, step=step)\n",
    "        tf.summary.histogram(\"biases2\", b2, step=step)\n",
    "        tf.summary.histogram(\"layer2\", layer2, step=step)\n",
    "\n",
    "        tf.summary.histogram(\"weights3\", W3, step=step)\n",
    "        tf.summary.histogram(\"biases3\", b3, step=step)\n",
    "        tf.summary.histogram(\"layer3\", layer3, step=step)\n",
    "\n",
    "        tf.summary.histogram(\"weights4\", W4, step=step)\n",
    "        tf.summary.histogram(\"biases4\", b4, step=step)\n",
    "        tf.summary.histogram(\"hypothesis\", hypothesis, step=step)\n",
    "    return hypothesis\n",
    "\n",
    "def loss_fn(hypothesis, labels):\n",
    "    cost = -tf.reduce_mean(labels * tf.math.log(hypothesis) + (1 - labels) * tf.math.log(1 - hypothesis))\n",
    "    with writer.as_default():\n",
    "        tf.summary.scalar('loss', cost, step=step)\n",
    "    return cost\n",
    "\n",
    "optimizer = tf.keras.optimizers.SGD(learning_rate=0.1)\n",
    "\n",
    "def accuracy_fn(hypothesis, labels):\n",
    "    predicted = tf.cast(hypothesis > 0.5, dtype=tf.float32)\n",
    "    accuracy = tf.reduce_mean(tf.cast(tf.equal(predicted, labels), dtype=tf.float32))\n",
    "    return accuracy\n",
    "\n",
    "def grad(hypothesis, features, labels, step):\n",
    "    with tf.GradientTape() as tape:\n",
    "        loss_value = loss_fn(neural_net(features, step),labels)\n",
    "    return tape.gradient(loss_value, [W1, W2, W3, W4, b1, b2, b3, b4])"
   ]
  },
  {
   "cell_type": "code",
   "execution_count": 15,
   "id": "d6579643",
   "metadata": {},
   "outputs": [],
   "source": [
    "log_path = \"./logs/xor_eager_logs_r0_01\"\n",
    "writer = tf.summary.create_file_writer(log_path)\n",
    "global_step=tf.compat.v1.train.get_or_create_global_step(\n",
    "    graph=None\n",
    ") \n",
    "writer.set_as_default()"
   ]
  },
  {
   "cell_type": "code",
   "execution_count": 16,
   "id": "3898f73e",
   "metadata": {},
   "outputs": [
    {
     "name": "stdout",
     "output_type": "stream",
     "text": [
      "Iter: 0, Loss: 0.6942\n",
      "Iter: 50, Loss: 0.6935\n",
      "Iter: 100, Loss: 0.6935\n",
      "Iter: 150, Loss: 0.6934\n",
      "Iter: 200, Loss: 0.6934\n",
      "Iter: 250, Loss: 0.6934\n",
      "Iter: 300, Loss: 0.6933\n",
      "Iter: 350, Loss: 0.6933\n",
      "Iter: 400, Loss: 0.6933\n",
      "Iter: 450, Loss: 0.6932\n",
      "Iter: 500, Loss: 0.6932\n",
      "Iter: 550, Loss: 0.6932\n",
      "Iter: 600, Loss: 0.6931\n",
      "Iter: 650, Loss: 0.6931\n",
      "Iter: 700, Loss: 0.6931\n",
      "Iter: 750, Loss: 0.6930\n",
      "Iter: 800, Loss: 0.6930\n",
      "Iter: 850, Loss: 0.6930\n",
      "Iter: 900, Loss: 0.6929\n",
      "Iter: 950, Loss: 0.6929\n",
      "Iter: 1000, Loss: 0.6929\n",
      "Iter: 1050, Loss: 0.6928\n",
      "Iter: 1100, Loss: 0.6928\n",
      "Iter: 1150, Loss: 0.6927\n",
      "Iter: 1200, Loss: 0.6927\n",
      "Iter: 1250, Loss: 0.6927\n",
      "Iter: 1300, Loss: 0.6926\n",
      "Iter: 1350, Loss: 0.6926\n",
      "Iter: 1400, Loss: 0.6926\n",
      "Iter: 1450, Loss: 0.6925\n",
      "Iter: 1500, Loss: 0.6925\n",
      "Iter: 1550, Loss: 0.6924\n",
      "Iter: 1600, Loss: 0.6924\n",
      "Iter: 1650, Loss: 0.6923\n",
      "Iter: 1700, Loss: 0.6923\n",
      "Iter: 1750, Loss: 0.6922\n",
      "Iter: 1800, Loss: 0.6922\n",
      "Iter: 1850, Loss: 0.6921\n",
      "Iter: 1900, Loss: 0.6921\n",
      "Iter: 1950, Loss: 0.6920\n",
      "Iter: 2000, Loss: 0.6920\n",
      "Iter: 2050, Loss: 0.6919\n",
      "Iter: 2100, Loss: 0.6918\n",
      "Iter: 2150, Loss: 0.6918\n",
      "Iter: 2200, Loss: 0.6917\n",
      "Iter: 2250, Loss: 0.6916\n",
      "Iter: 2300, Loss: 0.6916\n",
      "Iter: 2350, Loss: 0.6915\n",
      "Iter: 2400, Loss: 0.6914\n",
      "Iter: 2450, Loss: 0.6913\n",
      "Iter: 2500, Loss: 0.6912\n",
      "Iter: 2550, Loss: 0.6911\n",
      "Iter: 2600, Loss: 0.6910\n",
      "Iter: 2650, Loss: 0.6909\n",
      "Iter: 2700, Loss: 0.6908\n",
      "Iter: 2750, Loss: 0.6907\n",
      "Iter: 2800, Loss: 0.6906\n",
      "Iter: 2850, Loss: 0.6905\n",
      "Iter: 2900, Loss: 0.6903\n",
      "Iter: 2950, Loss: 0.6902\n",
      "Iter: 3000, Loss: 0.6900\n",
      "Testset Accuracy: 0.5000\n"
     ]
    }
   ],
   "source": [
    "EPOCHS = 3001\n",
    "\n",
    "for step in range(EPOCHS):    \n",
    "    for features, labels  in dataset:\n",
    "        features, labels = preprocess_data(features, labels)\n",
    "        grads = grad(neural_net(features, step), features, labels, step)\n",
    "        optimizer.apply_gradients(grads_and_vars=zip(grads,[W1, W2, W3, W4, b1, b2, b3, b4]))\n",
    "        if step % 50 == 0:\n",
    "            loss_value = loss_fn(neural_net(features, step),labels)\n",
    "            print(\"Iter: {}, Loss: {:.4f}\".format(step, loss_value))\n",
    "x_data, y_data = preprocess_data(x_data, y_data)\n",
    "test_acc = accuracy_fn(neural_net(x_data, step),y_data)\n",
    "print(\"Testset Accuracy: {:.4f}\".format(test_acc))"
   ]
  }
 ],
 "metadata": {
  "kernelspec": {
   "display_name": "Python [conda env:TF_study] *",
   "language": "python",
   "name": "conda-env-TF_study-py"
  },
  "language_info": {
   "codemirror_mode": {
    "name": "ipython",
    "version": 3
   },
   "file_extension": ".py",
   "mimetype": "text/x-python",
   "name": "python",
   "nbconvert_exporter": "python",
   "pygments_lexer": "ipython3",
   "version": "3.10.0"
  }
 },
 "nbformat": 4,
 "nbformat_minor": 5
}
