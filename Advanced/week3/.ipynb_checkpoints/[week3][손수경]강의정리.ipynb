{
 "cells": [
  {
   "cell_type": "markdown",
   "id": "bad37b9e",
   "metadata": {},
   "source": [
    "[강의 정리 링크](https://sooking87.github.io/gdsc%20ml/gdsc-ml-5/)"
   ]
  }
 ],
 "metadata": {
  "kernelspec": {
   "display_name": "Python 3.10.5 64-bit",
   "language": "python",
   "name": "python3"
  },
  "language_info": {
   "codemirror_mode": {
    "name": "ipython",
    "version": 3
   },
   "file_extension": ".py",
   "mimetype": "text/x-python",
   "name": "python",
   "nbconvert_exporter": "python",
   "pygments_lexer": "ipython3",
   "version": "3.10.5"
  },
  "vscode": {
   "interpreter": {
    "hash": "35e0334895c7257ffa902a82750dbe09ec85e290cbc1321a3819ebf1c9410545"
   }
  }
 },
 "nbformat": 4,
 "nbformat_minor": 5
}
